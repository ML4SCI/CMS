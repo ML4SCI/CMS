{
 "cells": [
  {
   "cell_type": "markdown",
   "id": "604ee7ae",
   "metadata": {
    "_cell_guid": "b1076dfc-b9ad-4769-8c92-a6c4dae69d19",
    "_uuid": "8f2839f25d086af736a60e9eeb907d3b93b6e0e5",
    "execution": {
     "iopub.execute_input": "2024-06-08T07:17:31.61566Z",
     "iopub.status.busy": "2024-06-08T07:17:31.615311Z",
     "iopub.status.idle": "2024-06-08T07:17:31.621747Z",
     "shell.execute_reply": "2024-06-08T07:17:31.620642Z",
     "shell.execute_reply.started": "2024-06-08T07:17:31.615631Z"
    },
    "papermill": {
     "duration": 0.022059,
     "end_time": "2024-09-17T16:15:15.256613",
     "exception": false,
     "start_time": "2024-09-17T16:15:15.234554",
     "status": "completed"
    },
    "tags": []
   },
   "source": [
    "# SETTING UP THE ENV"
   ]
  },
  {
   "cell_type": "markdown",
   "id": "fd22e108",
   "metadata": {
    "papermill": {
     "duration": 0.021936,
     "end_time": "2024-09-17T16:15:15.299839",
     "exception": false,
     "start_time": "2024-09-17T16:15:15.277903",
     "status": "completed"
    },
    "tags": []
   },
   "source": [
    "Lets impot Libraries"
   ]
  },
  {
   "cell_type": "code",
   "execution_count": 1,
   "id": "d3929b37",
   "metadata": {
    "execution": {
     "iopub.execute_input": "2024-09-17T16:15:15.343999Z",
     "iopub.status.busy": "2024-09-17T16:15:15.343186Z",
     "iopub.status.idle": "2024-09-17T16:15:30.742616Z",
     "shell.execute_reply": "2024-09-17T16:15:30.741532Z"
    },
    "papermill": {
     "duration": 15.424209,
     "end_time": "2024-09-17T16:15:30.744946",
     "exception": false,
     "start_time": "2024-09-17T16:15:15.320737",
     "status": "completed"
    },
    "scrolled": true,
    "tags": []
   },
   "outputs": [
    {
     "name": "stdout",
     "output_type": "stream",
     "text": [
      "Collecting torch-geometric\r\n",
      "  Downloading torch_geometric-2.6.0-py3-none-any.whl.metadata (63 kB)\r\n",
      "\u001b[2K     \u001b[90m━━━━━━━━━━━━━━━━━━━━━━━━━━━━━━━━━━━━━━━━\u001b[0m \u001b[32m63.1/63.1 kB\u001b[0m \u001b[31m1.1 MB/s\u001b[0m eta \u001b[36m0:00:00\u001b[0m\r\n",
      "\u001b[?25hRequirement already satisfied: aiohttp in /opt/conda/lib/python3.10/site-packages (from torch-geometric) (3.9.1)\r\n",
      "Requirement already satisfied: fsspec in /opt/conda/lib/python3.10/site-packages (from torch-geometric) (2024.3.1)\r\n",
      "Requirement already satisfied: jinja2 in /opt/conda/lib/python3.10/site-packages (from torch-geometric) (3.1.2)\r\n",
      "Requirement already satisfied: numpy in /opt/conda/lib/python3.10/site-packages (from torch-geometric) (1.26.4)\r\n",
      "Requirement already satisfied: psutil>=5.8.0 in /opt/conda/lib/python3.10/site-packages (from torch-geometric) (5.9.3)\r\n",
      "Requirement already satisfied: pyparsing in /opt/conda/lib/python3.10/site-packages (from torch-geometric) (3.1.1)\r\n",
      "Requirement already satisfied: requests in /opt/conda/lib/python3.10/site-packages (from torch-geometric) (2.32.3)\r\n",
      "Requirement already satisfied: tqdm in /opt/conda/lib/python3.10/site-packages (from torch-geometric) (4.66.4)\r\n",
      "Requirement already satisfied: attrs>=17.3.0 in /opt/conda/lib/python3.10/site-packages (from aiohttp->torch-geometric) (23.2.0)\r\n",
      "Requirement already satisfied: multidict<7.0,>=4.5 in /opt/conda/lib/python3.10/site-packages (from aiohttp->torch-geometric) (6.0.4)\r\n",
      "Requirement already satisfied: yarl<2.0,>=1.0 in /opt/conda/lib/python3.10/site-packages (from aiohttp->torch-geometric) (1.9.3)\r\n",
      "Requirement already satisfied: frozenlist>=1.1.1 in /opt/conda/lib/python3.10/site-packages (from aiohttp->torch-geometric) (1.4.1)\r\n",
      "Requirement already satisfied: aiosignal>=1.1.2 in /opt/conda/lib/python3.10/site-packages (from aiohttp->torch-geometric) (1.3.1)\r\n",
      "Requirement already satisfied: async-timeout<5.0,>=4.0 in /opt/conda/lib/python3.10/site-packages (from aiohttp->torch-geometric) (4.0.3)\r\n",
      "Requirement already satisfied: MarkupSafe>=2.0 in /opt/conda/lib/python3.10/site-packages (from jinja2->torch-geometric) (2.1.3)\r\n",
      "Requirement already satisfied: charset-normalizer<4,>=2 in /opt/conda/lib/python3.10/site-packages (from requests->torch-geometric) (3.3.2)\r\n",
      "Requirement already satisfied: idna<4,>=2.5 in /opt/conda/lib/python3.10/site-packages (from requests->torch-geometric) (3.6)\r\n",
      "Requirement already satisfied: urllib3<3,>=1.21.1 in /opt/conda/lib/python3.10/site-packages (from requests->torch-geometric) (1.26.18)\r\n",
      "Requirement already satisfied: certifi>=2017.4.17 in /opt/conda/lib/python3.10/site-packages (from requests->torch-geometric) (2024.2.2)\r\n",
      "Downloading torch_geometric-2.6.0-py3-none-any.whl (1.1 MB)\r\n",
      "\u001b[2K   \u001b[90m━━━━━━━━━━━━━━━━━━━━━━━━━━━━━━━━━━━━━━━━\u001b[0m \u001b[32m1.1/1.1 MB\u001b[0m \u001b[31m16.9 MB/s\u001b[0m eta \u001b[36m0:00:00\u001b[0m\r\n",
      "\u001b[?25hInstalling collected packages: torch-geometric\r\n",
      "Successfully installed torch-geometric-2.6.0\r\n"
     ]
    }
   ],
   "source": [
    "#download necessary libraries\n",
    "\n",
    "!pip install torch-geometric"
   ]
  },
  {
   "cell_type": "code",
   "execution_count": 2,
   "id": "2fb2c0ac",
   "metadata": {
    "execution": {
     "iopub.execute_input": "2024-09-17T16:15:30.791669Z",
     "iopub.status.busy": "2024-09-17T16:15:30.790914Z",
     "iopub.status.idle": "2024-09-17T16:15:34.548720Z",
     "shell.execute_reply": "2024-09-17T16:15:34.547727Z"
    },
    "papermill": {
     "duration": 3.783503,
     "end_time": "2024-09-17T16:15:34.550928",
     "exception": false,
     "start_time": "2024-09-17T16:15:30.767425",
     "status": "completed"
    },
    "tags": []
   },
   "outputs": [
    {
     "name": "stdout",
     "output_type": "stream",
     "text": [
      "2.1.2\n",
      "12.1\n"
     ]
    }
   ],
   "source": [
    "import sys\n",
    "sys.path.append('/kaggle/working')\n",
    "# !ls /kaggle/working\n",
    "import torch\n",
    "print(torch.__version__)\n",
    "print(torch.version.cuda)"
   ]
  },
  {
   "cell_type": "code",
   "execution_count": 3,
   "id": "260acb4c",
   "metadata": {
    "execution": {
     "iopub.execute_input": "2024-09-17T16:15:34.596958Z",
     "iopub.status.busy": "2024-09-17T16:15:34.596492Z",
     "iopub.status.idle": "2024-09-17T16:15:37.022185Z",
     "shell.execute_reply": "2024-09-17T16:15:37.021359Z"
    },
    "papermill": {
     "duration": 2.451457,
     "end_time": "2024-09-17T16:15:37.024648",
     "exception": false,
     "start_time": "2024-09-17T16:15:34.573191",
     "status": "completed"
    },
    "tags": []
   },
   "outputs": [],
   "source": [
    "from typing import Union, Tuple\n",
    "from torch_geometric.typing import OptPairTensor, Adj, Size # Optional[Tensor], Union[Tensor, SparseTensor], Optional[Tuple[int, int]], all about data type\n",
    "\n",
    "from torch import Tensor\n",
    "from torch.nn import Linear\n",
    "import torch.nn.functional as F\n",
    "from torch_geometric.nn.conv import MessagePassing"
   ]
  },
  {
   "cell_type": "code",
   "execution_count": 4,
   "id": "932996e3",
   "metadata": {
    "execution": {
     "iopub.execute_input": "2024-09-17T16:15:37.071287Z",
     "iopub.status.busy": "2024-09-17T16:15:37.070749Z",
     "iopub.status.idle": "2024-09-17T16:15:39.148279Z",
     "shell.execute_reply": "2024-09-17T16:15:39.147471Z"
    },
    "papermill": {
     "duration": 2.1034,
     "end_time": "2024-09-17T16:15:39.150646",
     "exception": false,
     "start_time": "2024-09-17T16:15:37.047246",
     "status": "completed"
    },
    "tags": []
   },
   "outputs": [],
   "source": [
    "import warnings\n",
    "warnings.filterwarnings(\"ignore\")\n",
    "import os\n",
    "import time\n",
    "import random\n",
    "from tqdm.notebook import tqdm\n",
    "import pandas as pd\n",
    "import numpy as np\n",
    "import matplotlib.pyplot as plt\n",
    "\n",
    "from joblib import Parallel, delayed\n",
    "\n",
    "from sklearn.preprocessing import StandardScaler, MinMaxScaler\n",
    "from sklearn.model_selection import train_test_split\n",
    "\n",
    "import torch\n",
    "import torch.nn.functional as F\n",
    "import torch_geometric.nn as gnn\n",
    "from torch_geometric.nn import MessagePassing\n",
    "from torch_geometric.data import Dataset, Data, DataLoader\n",
    "from torch_geometric.nn import global_mean_pool as gap, global_max_pool as gmp\n",
    "from torch_geometric.utils import softmax\n",
    "from sklearn.metrics import r2_score\n",
    "from sklearn.neighbors import NearestNeighbors"
   ]
  },
  {
   "cell_type": "markdown",
   "id": "96b64ef4",
   "metadata": {
    "papermill": {
     "duration": 0.021779,
     "end_time": "2024-09-17T16:15:39.196458",
     "exception": false,
     "start_time": "2024-09-17T16:15:39.174679",
     "status": "completed"
    },
    "tags": []
   },
   "source": [
    "# Pre Processing"
   ]
  },
  {
   "cell_type": "code",
   "execution_count": 5,
   "id": "ecaa8b54",
   "metadata": {
    "execution": {
     "iopub.execute_input": "2024-09-17T16:15:39.241980Z",
     "iopub.status.busy": "2024-09-17T16:15:39.241111Z",
     "iopub.status.idle": "2024-09-17T16:15:46.939857Z",
     "shell.execute_reply": "2024-09-17T16:15:46.938410Z"
    },
    "papermill": {
     "duration": 7.723727,
     "end_time": "2024-09-17T16:15:46.941962",
     "exception": false,
     "start_time": "2024-09-17T16:15:39.218235",
     "status": "completed"
    },
    "tags": []
   },
   "outputs": [
    {
     "name": "stdout",
     "output_type": "stream",
     "text": [
      "Index(['Unnamed: 0', 'Phi_0', 'Phi_2', 'Phi_3', 'Phi_4', 'Theta_0', 'Theta_2',\n",
      "       'Theta_3', 'Theta_4', 'BendingAngle_0', 'BendingAngle_2',\n",
      "       'BendingAngle_3', 'BendingAngle_4', 'TimeInfo_0', 'TimeInfo_2',\n",
      "       'TimeInfo_3', 'TimeInfo_4', 'RingNumber_0', 'RingNumber_2',\n",
      "       'RingNumber_3', 'RingNumber_4', 'Front_0', 'Front_2', 'Front_3',\n",
      "       'Front_4', 'Mask_0', 'Mask_2', 'Mask_3', 'Mask_4',\n",
      "       'PatternStraightness', 'Zone', 'MedianTheta', 'q/pt', 'PhiAngle',\n",
      "       'EtaAngle'],\n",
      "      dtype='object')\n"
     ]
    }
   ],
   "source": [
    "df = pd.read_csv('/kaggle/input/cms-dataset/CMS_trigger.csv')\n",
    "print(df.columns)"
   ]
  },
  {
   "cell_type": "code",
   "execution_count": 6,
   "id": "294bd788",
   "metadata": {
    "execution": {
     "iopub.execute_input": "2024-09-17T16:15:46.988193Z",
     "iopub.status.busy": "2024-09-17T16:15:46.987816Z",
     "iopub.status.idle": "2024-09-17T16:15:47.026850Z",
     "shell.execute_reply": "2024-09-17T16:15:47.025845Z"
    },
    "papermill": {
     "duration": 0.0643,
     "end_time": "2024-09-17T16:15:47.028761",
     "exception": false,
     "start_time": "2024-09-17T16:15:46.964461",
     "status": "completed"
    },
    "tags": []
   },
   "outputs": [
    {
     "data": {
      "text/html": [
       "<div>\n",
       "<style scoped>\n",
       "    .dataframe tbody tr th:only-of-type {\n",
       "        vertical-align: middle;\n",
       "    }\n",
       "\n",
       "    .dataframe tbody tr th {\n",
       "        vertical-align: top;\n",
       "    }\n",
       "\n",
       "    .dataframe thead th {\n",
       "        text-align: right;\n",
       "    }\n",
       "</style>\n",
       "<table border=\"1\" class=\"dataframe\">\n",
       "  <thead>\n",
       "    <tr style=\"text-align: right;\">\n",
       "      <th></th>\n",
       "      <th>Unnamed: 0</th>\n",
       "      <th>Phi_0</th>\n",
       "      <th>Phi_2</th>\n",
       "      <th>Phi_3</th>\n",
       "      <th>Phi_4</th>\n",
       "      <th>Theta_0</th>\n",
       "      <th>Theta_2</th>\n",
       "      <th>Theta_3</th>\n",
       "      <th>Theta_4</th>\n",
       "      <th>BendingAngle_0</th>\n",
       "      <th>...</th>\n",
       "      <th>Mask_0</th>\n",
       "      <th>Mask_2</th>\n",
       "      <th>Mask_3</th>\n",
       "      <th>Mask_4</th>\n",
       "      <th>PatternStraightness</th>\n",
       "      <th>Zone</th>\n",
       "      <th>MedianTheta</th>\n",
       "      <th>q/pt</th>\n",
       "      <th>PhiAngle</th>\n",
       "      <th>EtaAngle</th>\n",
       "    </tr>\n",
       "  </thead>\n",
       "  <tbody>\n",
       "    <tr>\n",
       "      <th>0</th>\n",
       "      <td>0</td>\n",
       "      <td>58.066666</td>\n",
       "      <td>55.466667</td>\n",
       "      <td>55.466667</td>\n",
       "      <td>56.000000</td>\n",
       "      <td>11.970</td>\n",
       "      <td>11.684999</td>\n",
       "      <td>11.400</td>\n",
       "      <td>11.400</td>\n",
       "      <td>-13.000000</td>\n",
       "      <td>...</td>\n",
       "      <td>0.0</td>\n",
       "      <td>0.0</td>\n",
       "      <td>0.0</td>\n",
       "      <td>0.0</td>\n",
       "      <td>5.0</td>\n",
       "      <td>3.0</td>\n",
       "      <td>105.0</td>\n",
       "      <td>0.181209</td>\n",
       "      <td>-3.075936</td>\n",
       "      <td>1.722345</td>\n",
       "    </tr>\n",
       "    <tr>\n",
       "      <th>1</th>\n",
       "      <td>1</td>\n",
       "      <td>64.583336</td>\n",
       "      <td>66.800000</td>\n",
       "      <td>67.066666</td>\n",
       "      <td>67.200000</td>\n",
       "      <td>6.555</td>\n",
       "      <td>6.840000</td>\n",
       "      <td>6.555</td>\n",
       "      <td>6.840</td>\n",
       "      <td>7.000000</td>\n",
       "      <td>...</td>\n",
       "      <td>0.0</td>\n",
       "      <td>0.0</td>\n",
       "      <td>0.0</td>\n",
       "      <td>0.0</td>\n",
       "      <td>3.0</td>\n",
       "      <td>1.0</td>\n",
       "      <td>124.0</td>\n",
       "      <td>-0.146131</td>\n",
       "      <td>-0.167139</td>\n",
       "      <td>2.012122</td>\n",
       "    </tr>\n",
       "    <tr>\n",
       "      <th>2</th>\n",
       "      <td>2</td>\n",
       "      <td>71.150000</td>\n",
       "      <td>67.033330</td>\n",
       "      <td>66.266670</td>\n",
       "      <td>65.466670</td>\n",
       "      <td>2.850</td>\n",
       "      <td>2.565000</td>\n",
       "      <td>2.280</td>\n",
       "      <td>2.280</td>\n",
       "      <td>-16.613783</td>\n",
       "      <td>...</td>\n",
       "      <td>0.0</td>\n",
       "      <td>0.0</td>\n",
       "      <td>0.0</td>\n",
       "      <td>0.0</td>\n",
       "      <td>7.0</td>\n",
       "      <td>0.0</td>\n",
       "      <td>127.0</td>\n",
       "      <td>0.367024</td>\n",
       "      <td>2.431823</td>\n",
       "      <td>2.321646</td>\n",
       "    </tr>\n",
       "    <tr>\n",
       "      <th>3</th>\n",
       "      <td>3</td>\n",
       "      <td>34.933334</td>\n",
       "      <td>31.200000</td>\n",
       "      <td>31.200000</td>\n",
       "      <td>31.833334</td>\n",
       "      <td>9.690</td>\n",
       "      <td>8.835000</td>\n",
       "      <td>8.835</td>\n",
       "      <td>9.120</td>\n",
       "      <td>-13.000000</td>\n",
       "      <td>...</td>\n",
       "      <td>0.0</td>\n",
       "      <td>0.0</td>\n",
       "      <td>0.0</td>\n",
       "      <td>0.0</td>\n",
       "      <td>6.0</td>\n",
       "      <td>2.0</td>\n",
       "      <td>60.0</td>\n",
       "      <td>0.267774</td>\n",
       "      <td>-1.343305</td>\n",
       "      <td>1.854506</td>\n",
       "    </tr>\n",
       "    <tr>\n",
       "      <th>4</th>\n",
       "      <td>4</td>\n",
       "      <td>68.150000</td>\n",
       "      <td>68.266670</td>\n",
       "      <td>68.300000</td>\n",
       "      <td>68.400000</td>\n",
       "      <td>2.565</td>\n",
       "      <td>2.565000</td>\n",
       "      <td>2.565</td>\n",
       "      <td>2.565</td>\n",
       "      <td>0.000000</td>\n",
       "      <td>...</td>\n",
       "      <td>0.0</td>\n",
       "      <td>0.0</td>\n",
       "      <td>0.0</td>\n",
       "      <td>0.0</td>\n",
       "      <td>4.0</td>\n",
       "      <td>0.0</td>\n",
       "      <td>128.0</td>\n",
       "      <td>-0.019179</td>\n",
       "      <td>-3.134433</td>\n",
       "      <td>2.333772</td>\n",
       "    </tr>\n",
       "  </tbody>\n",
       "</table>\n",
       "<p>5 rows × 35 columns</p>\n",
       "</div>"
      ],
      "text/plain": [
       "   Unnamed: 0      Phi_0      Phi_2      Phi_3      Phi_4  Theta_0    Theta_2  \\\n",
       "0           0  58.066666  55.466667  55.466667  56.000000   11.970  11.684999   \n",
       "1           1  64.583336  66.800000  67.066666  67.200000    6.555   6.840000   \n",
       "2           2  71.150000  67.033330  66.266670  65.466670    2.850   2.565000   \n",
       "3           3  34.933334  31.200000  31.200000  31.833334    9.690   8.835000   \n",
       "4           4  68.150000  68.266670  68.300000  68.400000    2.565   2.565000   \n",
       "\n",
       "   Theta_3  Theta_4  BendingAngle_0  ...  Mask_0  Mask_2  Mask_3  Mask_4  \\\n",
       "0   11.400   11.400      -13.000000  ...     0.0     0.0     0.0     0.0   \n",
       "1    6.555    6.840        7.000000  ...     0.0     0.0     0.0     0.0   \n",
       "2    2.280    2.280      -16.613783  ...     0.0     0.0     0.0     0.0   \n",
       "3    8.835    9.120      -13.000000  ...     0.0     0.0     0.0     0.0   \n",
       "4    2.565    2.565        0.000000  ...     0.0     0.0     0.0     0.0   \n",
       "\n",
       "   PatternStraightness  Zone  MedianTheta      q/pt  PhiAngle  EtaAngle  \n",
       "0                  5.0   3.0        105.0  0.181209 -3.075936  1.722345  \n",
       "1                  3.0   1.0        124.0 -0.146131 -0.167139  2.012122  \n",
       "2                  7.0   0.0        127.0  0.367024  2.431823  2.321646  \n",
       "3                  6.0   2.0         60.0  0.267774 -1.343305  1.854506  \n",
       "4                  4.0   0.0        128.0 -0.019179 -3.134433  2.333772  \n",
       "\n",
       "[5 rows x 35 columns]"
      ]
     },
     "execution_count": 6,
     "metadata": {},
     "output_type": "execute_result"
    }
   ],
   "source": [
    "df.head()"
   ]
  },
  {
   "cell_type": "code",
   "execution_count": 7,
   "id": "06f050bd",
   "metadata": {
    "execution": {
     "iopub.execute_input": "2024-09-17T16:15:47.075469Z",
     "iopub.status.busy": "2024-09-17T16:15:47.075096Z",
     "iopub.status.idle": "2024-09-17T16:15:48.443139Z",
     "shell.execute_reply": "2024-09-17T16:15:48.442236Z"
    },
    "papermill": {
     "duration": 1.39396,
     "end_time": "2024-09-17T16:15:48.445374",
     "exception": false,
     "start_time": "2024-09-17T16:15:47.051414",
     "status": "completed"
    },
    "tags": []
   },
   "outputs": [
    {
     "data": {
      "text/html": [
       "<div>\n",
       "<style scoped>\n",
       "    .dataframe tbody tr th:only-of-type {\n",
       "        vertical-align: middle;\n",
       "    }\n",
       "\n",
       "    .dataframe tbody tr th {\n",
       "        vertical-align: top;\n",
       "    }\n",
       "\n",
       "    .dataframe thead th {\n",
       "        text-align: right;\n",
       "    }\n",
       "</style>\n",
       "<table border=\"1\" class=\"dataframe\">\n",
       "  <thead>\n",
       "    <tr style=\"text-align: right;\">\n",
       "      <th></th>\n",
       "      <th>Unnamed: 0</th>\n",
       "      <th>Phi_0</th>\n",
       "      <th>Phi_2</th>\n",
       "      <th>Phi_3</th>\n",
       "      <th>Phi_4</th>\n",
       "      <th>Theta_0</th>\n",
       "      <th>Theta_2</th>\n",
       "      <th>Theta_3</th>\n",
       "      <th>Theta_4</th>\n",
       "      <th>BendingAngle_0</th>\n",
       "      <th>...</th>\n",
       "      <th>Mask_0</th>\n",
       "      <th>Mask_2</th>\n",
       "      <th>Mask_3</th>\n",
       "      <th>Mask_4</th>\n",
       "      <th>PatternStraightness</th>\n",
       "      <th>Zone</th>\n",
       "      <th>MedianTheta</th>\n",
       "      <th>q/pt</th>\n",
       "      <th>PhiAngle</th>\n",
       "      <th>EtaAngle</th>\n",
       "    </tr>\n",
       "  </thead>\n",
       "  <tbody>\n",
       "    <tr>\n",
       "      <th>count</th>\n",
       "      <td>1.179356e+06</td>\n",
       "      <td>1.179356e+06</td>\n",
       "      <td>1.179356e+06</td>\n",
       "      <td>1.179356e+06</td>\n",
       "      <td>1.179356e+06</td>\n",
       "      <td>1.179356e+06</td>\n",
       "      <td>1.179356e+06</td>\n",
       "      <td>1.179356e+06</td>\n",
       "      <td>1.179356e+06</td>\n",
       "      <td>1.179356e+06</td>\n",
       "      <td>...</td>\n",
       "      <td>1179356.0</td>\n",
       "      <td>1179356.0</td>\n",
       "      <td>1179356.0</td>\n",
       "      <td>1179356.0</td>\n",
       "      <td>1.179356e+06</td>\n",
       "      <td>1.179356e+06</td>\n",
       "      <td>1.179356e+06</td>\n",
       "      <td>1.179356e+06</td>\n",
       "      <td>1.179356e+06</td>\n",
       "      <td>1.179356e+06</td>\n",
       "    </tr>\n",
       "    <tr>\n",
       "      <th>mean</th>\n",
       "      <td>5.896775e+05</td>\n",
       "      <td>4.851559e+01</td>\n",
       "      <td>4.851127e+01</td>\n",
       "      <td>4.851076e+01</td>\n",
       "      <td>4.851331e+01</td>\n",
       "      <td>6.195453e+00</td>\n",
       "      <td>5.918753e+00</td>\n",
       "      <td>5.848332e+00</td>\n",
       "      <td>5.881490e+00</td>\n",
       "      <td>5.603115e-02</td>\n",
       "      <td>...</td>\n",
       "      <td>0.0</td>\n",
       "      <td>0.0</td>\n",
       "      <td>0.0</td>\n",
       "      <td>0.0</td>\n",
       "      <td>3.976490e+00</td>\n",
       "      <td>1.080514e+00</td>\n",
       "      <td>9.115961e+01</td>\n",
       "      <td>5.540485e-04</td>\n",
       "      <td>8.881380e-04</td>\n",
       "      <td>8.762006e-04</td>\n",
       "    </tr>\n",
       "    <tr>\n",
       "      <th>std</th>\n",
       "      <td>3.404509e+05</td>\n",
       "      <td>1.774647e+01</td>\n",
       "      <td>1.779697e+01</td>\n",
       "      <td>1.781670e+01</td>\n",
       "      <td>1.779750e+01</td>\n",
       "      <td>3.011983e+00</td>\n",
       "      <td>2.921076e+00</td>\n",
       "      <td>2.911875e+00</td>\n",
       "      <td>2.906416e+00</td>\n",
       "      <td>1.493805e+01</td>\n",
       "      <td>...</td>\n",
       "      <td>0.0</td>\n",
       "      <td>0.0</td>\n",
       "      <td>0.0</td>\n",
       "      <td>0.0</td>\n",
       "      <td>1.871622e+00</td>\n",
       "      <td>1.089190e+00</td>\n",
       "      <td>3.328909e+01</td>\n",
       "      <td>2.524173e-01</td>\n",
       "      <td>1.820920e+00</td>\n",
       "      <td>2.075298e+00</td>\n",
       "    </tr>\n",
       "    <tr>\n",
       "      <th>min</th>\n",
       "      <td>0.000000e+00</td>\n",
       "      <td>1.103333e+01</td>\n",
       "      <td>2.400000e+00</td>\n",
       "      <td>2.666667e+00</td>\n",
       "      <td>2.666667e+00</td>\n",
       "      <td>1.425000e+00</td>\n",
       "      <td>1.425000e+00</td>\n",
       "      <td>1.425000e+00</td>\n",
       "      <td>1.710000e+00</td>\n",
       "      <td>-1.329103e+02</td>\n",
       "      <td>...</td>\n",
       "      <td>0.0</td>\n",
       "      <td>0.0</td>\n",
       "      <td>0.0</td>\n",
       "      <td>0.0</td>\n",
       "      <td>0.000000e+00</td>\n",
       "      <td>0.000000e+00</td>\n",
       "      <td>8.000000e+00</td>\n",
       "      <td>-4.999928e-01</td>\n",
       "      <td>-3.141584e+00</td>\n",
       "      <td>-2.499009e+00</td>\n",
       "    </tr>\n",
       "    <tr>\n",
       "      <th>25%</th>\n",
       "      <td>2.948388e+05</td>\n",
       "      <td>3.371667e+01</td>\n",
       "      <td>3.360000e+01</td>\n",
       "      <td>3.360000e+01</td>\n",
       "      <td>3.360000e+01</td>\n",
       "      <td>3.705000e+00</td>\n",
       "      <td>3.420000e+00</td>\n",
       "      <td>3.420000e+00</td>\n",
       "      <td>3.420000e+00</td>\n",
       "      <td>-1.100000e+01</td>\n",
       "      <td>...</td>\n",
       "      <td>0.0</td>\n",
       "      <td>0.0</td>\n",
       "      <td>0.0</td>\n",
       "      <td>0.0</td>\n",
       "      <td>3.000000e+00</td>\n",
       "      <td>0.000000e+00</td>\n",
       "      <td>6.300000e+01</td>\n",
       "      <td>-2.055347e-01</td>\n",
       "      <td>-1.584667e+00</td>\n",
       "      <td>-2.074832e+00</td>\n",
       "    </tr>\n",
       "    <tr>\n",
       "      <th>50%</th>\n",
       "      <td>5.896775e+05</td>\n",
       "      <td>4.830000e+01</td>\n",
       "      <td>4.826667e+01</td>\n",
       "      <td>4.826667e+01</td>\n",
       "      <td>4.826667e+01</td>\n",
       "      <td>5.700000e+00</td>\n",
       "      <td>5.415000e+00</td>\n",
       "      <td>5.415000e+00</td>\n",
       "      <td>5.415000e+00</td>\n",
       "      <td>0.000000e+00</td>\n",
       "      <td>...</td>\n",
       "      <td>0.0</td>\n",
       "      <td>0.0</td>\n",
       "      <td>0.0</td>\n",
       "      <td>0.0</td>\n",
       "      <td>4.000000e+00</td>\n",
       "      <td>1.000000e+00</td>\n",
       "      <td>9.100000e+01</td>\n",
       "      <td>2.155910e-04</td>\n",
       "      <td>8.142424e-03</td>\n",
       "      <td>1.523139e+00</td>\n",
       "    </tr>\n",
       "    <tr>\n",
       "      <th>75%</th>\n",
       "      <td>8.845162e+05</td>\n",
       "      <td>6.326667e+01</td>\n",
       "      <td>6.303333e+01</td>\n",
       "      <td>6.293333e+01</td>\n",
       "      <td>6.296667e+01</td>\n",
       "      <td>8.265000e+00</td>\n",
       "      <td>7.980000e+00</td>\n",
       "      <td>7.695000e+00</td>\n",
       "      <td>7.980000e+00</td>\n",
       "      <td>1.100000e+01</td>\n",
       "      <td>...</td>\n",
       "      <td>0.0</td>\n",
       "      <td>0.0</td>\n",
       "      <td>0.0</td>\n",
       "      <td>0.0</td>\n",
       "      <td>5.000000e+00</td>\n",
       "      <td>2.000000e+00</td>\n",
       "      <td>1.180000e+02</td>\n",
       "      <td>2.069167e-01</td>\n",
       "      <td>1.581958e+00</td>\n",
       "      <td>2.074729e+00</td>\n",
       "    </tr>\n",
       "    <tr>\n",
       "      <th>max</th>\n",
       "      <td>1.179355e+06</td>\n",
       "      <td>8.311667e+01</td>\n",
       "      <td>8.256667e+01</td>\n",
       "      <td>8.253333e+01</td>\n",
       "      <td>8.253333e+01</td>\n",
       "      <td>1.510500e+01</td>\n",
       "      <td>1.396500e+01</td>\n",
       "      <td>1.539000e+01</td>\n",
       "      <td>1.510500e+01</td>\n",
       "      <td>1.421401e+02</td>\n",
       "      <td>...</td>\n",
       "      <td>0.0</td>\n",
       "      <td>0.0</td>\n",
       "      <td>0.0</td>\n",
       "      <td>0.0</td>\n",
       "      <td>8.000000e+00</td>\n",
       "      <td>4.000000e+00</td>\n",
       "      <td>1.540000e+02</td>\n",
       "      <td>4.999991e-01</td>\n",
       "      <td>3.141592e+00</td>\n",
       "      <td>2.493834e+00</td>\n",
       "    </tr>\n",
       "  </tbody>\n",
       "</table>\n",
       "<p>8 rows × 35 columns</p>\n",
       "</div>"
      ],
      "text/plain": [
       "         Unnamed: 0         Phi_0         Phi_2         Phi_3         Phi_4  \\\n",
       "count  1.179356e+06  1.179356e+06  1.179356e+06  1.179356e+06  1.179356e+06   \n",
       "mean   5.896775e+05  4.851559e+01  4.851127e+01  4.851076e+01  4.851331e+01   \n",
       "std    3.404509e+05  1.774647e+01  1.779697e+01  1.781670e+01  1.779750e+01   \n",
       "min    0.000000e+00  1.103333e+01  2.400000e+00  2.666667e+00  2.666667e+00   \n",
       "25%    2.948388e+05  3.371667e+01  3.360000e+01  3.360000e+01  3.360000e+01   \n",
       "50%    5.896775e+05  4.830000e+01  4.826667e+01  4.826667e+01  4.826667e+01   \n",
       "75%    8.845162e+05  6.326667e+01  6.303333e+01  6.293333e+01  6.296667e+01   \n",
       "max    1.179355e+06  8.311667e+01  8.256667e+01  8.253333e+01  8.253333e+01   \n",
       "\n",
       "            Theta_0       Theta_2       Theta_3       Theta_4  BendingAngle_0  \\\n",
       "count  1.179356e+06  1.179356e+06  1.179356e+06  1.179356e+06    1.179356e+06   \n",
       "mean   6.195453e+00  5.918753e+00  5.848332e+00  5.881490e+00    5.603115e-02   \n",
       "std    3.011983e+00  2.921076e+00  2.911875e+00  2.906416e+00    1.493805e+01   \n",
       "min    1.425000e+00  1.425000e+00  1.425000e+00  1.710000e+00   -1.329103e+02   \n",
       "25%    3.705000e+00  3.420000e+00  3.420000e+00  3.420000e+00   -1.100000e+01   \n",
       "50%    5.700000e+00  5.415000e+00  5.415000e+00  5.415000e+00    0.000000e+00   \n",
       "75%    8.265000e+00  7.980000e+00  7.695000e+00  7.980000e+00    1.100000e+01   \n",
       "max    1.510500e+01  1.396500e+01  1.539000e+01  1.510500e+01    1.421401e+02   \n",
       "\n",
       "       ...     Mask_0     Mask_2     Mask_3     Mask_4  PatternStraightness  \\\n",
       "count  ...  1179356.0  1179356.0  1179356.0  1179356.0         1.179356e+06   \n",
       "mean   ...        0.0        0.0        0.0        0.0         3.976490e+00   \n",
       "std    ...        0.0        0.0        0.0        0.0         1.871622e+00   \n",
       "min    ...        0.0        0.0        0.0        0.0         0.000000e+00   \n",
       "25%    ...        0.0        0.0        0.0        0.0         3.000000e+00   \n",
       "50%    ...        0.0        0.0        0.0        0.0         4.000000e+00   \n",
       "75%    ...        0.0        0.0        0.0        0.0         5.000000e+00   \n",
       "max    ...        0.0        0.0        0.0        0.0         8.000000e+00   \n",
       "\n",
       "               Zone   MedianTheta          q/pt      PhiAngle      EtaAngle  \n",
       "count  1.179356e+06  1.179356e+06  1.179356e+06  1.179356e+06  1.179356e+06  \n",
       "mean   1.080514e+00  9.115961e+01  5.540485e-04  8.881380e-04  8.762006e-04  \n",
       "std    1.089190e+00  3.328909e+01  2.524173e-01  1.820920e+00  2.075298e+00  \n",
       "min    0.000000e+00  8.000000e+00 -4.999928e-01 -3.141584e+00 -2.499009e+00  \n",
       "25%    0.000000e+00  6.300000e+01 -2.055347e-01 -1.584667e+00 -2.074832e+00  \n",
       "50%    1.000000e+00  9.100000e+01  2.155910e-04  8.142424e-03  1.523139e+00  \n",
       "75%    2.000000e+00  1.180000e+02  2.069167e-01  1.581958e+00  2.074729e+00  \n",
       "max    4.000000e+00  1.540000e+02  4.999991e-01  3.141592e+00  2.493834e+00  \n",
       "\n",
       "[8 rows x 35 columns]"
      ]
     },
     "execution_count": 7,
     "metadata": {},
     "output_type": "execute_result"
    }
   ],
   "source": [
    "df.describe()"
   ]
  },
  {
   "cell_type": "code",
   "execution_count": 8,
   "id": "dba7d303",
   "metadata": {
    "execution": {
     "iopub.execute_input": "2024-09-17T16:15:48.539975Z",
     "iopub.status.busy": "2024-09-17T16:15:48.539611Z",
     "iopub.status.idle": "2024-09-17T16:15:48.543668Z",
     "shell.execute_reply": "2024-09-17T16:15:48.542818Z"
    },
    "papermill": {
     "duration": 0.077211,
     "end_time": "2024-09-17T16:15:48.545631",
     "exception": false,
     "start_time": "2024-09-17T16:15:48.468420",
     "status": "completed"
    },
    "tags": []
   },
   "outputs": [],
   "source": [
    "#HOW MOMENTUM NEGATIVE??"
   ]
  },
  {
   "cell_type": "code",
   "execution_count": 9,
   "id": "1d29231b",
   "metadata": {
    "execution": {
     "iopub.execute_input": "2024-09-17T16:15:48.593093Z",
     "iopub.status.busy": "2024-09-17T16:15:48.592718Z",
     "iopub.status.idle": "2024-09-17T16:15:48.601594Z",
     "shell.execute_reply": "2024-09-17T16:15:48.600851Z"
    },
    "papermill": {
     "duration": 0.034853,
     "end_time": "2024-09-17T16:15:48.603470",
     "exception": false,
     "start_time": "2024-09-17T16:15:48.568617",
     "status": "completed"
    },
    "tags": []
   },
   "outputs": [],
   "source": [
    "def set_deterministic(seed: int):\n",
    "    random.seed(seed)\n",
    "    np.random.seed(seed)\n",
    "    torch.manual_seed(seed)\n",
    "    torch.cuda.manual_seed(seed)\n",
    "    torch.cuda.manual_seed_all(seed)\n",
    "    torch.backends.cudnn.deterministic = True\n",
    "    torch.backends.cudnn.benchmark = False\n",
    "    torch.use_deterministic_algorithms(False)\n",
    "    \n",
    "set_deterministic(42)"
   ]
  },
  {
   "cell_type": "markdown",
   "id": "8b5108ed",
   "metadata": {
    "papermill": {
     "duration": 0.022835,
     "end_time": "2024-09-17T16:15:48.649572",
     "exception": false,
     "start_time": "2024-09-17T16:15:48.626737",
     "status": "completed"
    },
    "tags": []
   },
   "source": [
    "**The data is not scaled, so we would have to scale the data first before we proceed to train a model on the data**"
   ]
  },
  {
   "cell_type": "markdown",
   "id": "7ba2bdcc",
   "metadata": {
    "papermill": {
     "duration": 0.022548,
     "end_time": "2024-09-17T16:15:48.694816",
     "exception": false,
     "start_time": "2024-09-17T16:15:48.672268",
     "status": "completed"
    },
    "tags": []
   },
   "source": [
    "**To begin with lets  scale the data by using Standard Scalar**"
   ]
  },
  {
   "cell_type": "code",
   "execution_count": 10,
   "id": "c4992aec",
   "metadata": {
    "execution": {
     "iopub.execute_input": "2024-09-17T16:15:48.741686Z",
     "iopub.status.busy": "2024-09-17T16:15:48.741328Z",
     "iopub.status.idle": "2024-09-17T16:15:48.745506Z",
     "shell.execute_reply": "2024-09-17T16:15:48.744681Z"
    },
    "papermill": {
     "duration": 0.029869,
     "end_time": "2024-09-17T16:15:48.747375",
     "exception": false,
     "start_time": "2024-09-17T16:15:48.717506",
     "status": "completed"
    },
    "tags": []
   },
   "outputs": [],
   "source": [
    "scaler = StandardScaler()"
   ]
  },
  {
   "cell_type": "code",
   "execution_count": 11,
   "id": "976ee02e",
   "metadata": {
    "execution": {
     "iopub.execute_input": "2024-09-17T16:15:48.793539Z",
     "iopub.status.busy": "2024-09-17T16:15:48.793248Z",
     "iopub.status.idle": "2024-09-17T16:15:48.798706Z",
     "shell.execute_reply": "2024-09-17T16:15:48.797867Z"
    },
    "papermill": {
     "duration": 0.030988,
     "end_time": "2024-09-17T16:15:48.800911",
     "exception": false,
     "start_time": "2024-09-17T16:15:48.769923",
     "status": "completed"
    },
    "tags": []
   },
   "outputs": [
    {
     "data": {
      "text/plain": [
       "(1179356, 35)"
      ]
     },
     "execution_count": 11,
     "metadata": {},
     "output_type": "execute_result"
    }
   ],
   "source": [
    "df.shape"
   ]
  },
  {
   "cell_type": "code",
   "execution_count": 12,
   "id": "5bb654af",
   "metadata": {
    "execution": {
     "iopub.execute_input": "2024-09-17T16:15:48.847750Z",
     "iopub.status.busy": "2024-09-17T16:15:48.847465Z",
     "iopub.status.idle": "2024-09-17T16:15:48.858303Z",
     "shell.execute_reply": "2024-09-17T16:15:48.857447Z"
    },
    "papermill": {
     "duration": 0.036868,
     "end_time": "2024-09-17T16:15:48.860364",
     "exception": false,
     "start_time": "2024-09-17T16:15:48.823496",
     "status": "completed"
    },
    "tags": []
   },
   "outputs": [],
   "source": [
    "df.loc[:,\"pT\"] = abs(1/df.loc[:,\"q/pt\"])"
   ]
  },
  {
   "cell_type": "code",
   "execution_count": 13,
   "id": "d2623621",
   "metadata": {
    "execution": {
     "iopub.execute_input": "2024-09-17T16:15:48.907597Z",
     "iopub.status.busy": "2024-09-17T16:15:48.907257Z",
     "iopub.status.idle": "2024-09-17T16:15:48.918087Z",
     "shell.execute_reply": "2024-09-17T16:15:48.917172Z"
    },
    "papermill": {
     "duration": 0.03682,
     "end_time": "2024-09-17T16:15:48.920104",
     "exception": false,
     "start_time": "2024-09-17T16:15:48.883284",
     "status": "completed"
    },
    "tags": []
   },
   "outputs": [
    {
     "data": {
      "text/plain": [
       "(15.105, 1.425)"
      ]
     },
     "execution_count": 13,
     "metadata": {},
     "output_type": "execute_result"
    }
   ],
   "source": [
    "df['Theta_0'].max(), df['Theta_0'].min()"
   ]
  },
  {
   "cell_type": "code",
   "execution_count": 14,
   "id": "5cb65c0b",
   "metadata": {
    "execution": {
     "iopub.execute_input": "2024-09-17T16:15:48.968564Z",
     "iopub.status.busy": "2024-09-17T16:15:48.968192Z",
     "iopub.status.idle": "2024-09-17T16:15:49.193769Z",
     "shell.execute_reply": "2024-09-17T16:15:49.192855Z"
    },
    "papermill": {
     "duration": 0.252436,
     "end_time": "2024-09-17T16:15:49.196059",
     "exception": false,
     "start_time": "2024-09-17T16:15:48.943623",
     "status": "completed"
    },
    "tags": []
   },
   "outputs": [],
   "source": [
    "import pandas as pd\n",
    "import numpy as np\n",
    "\n",
    "# Sample DataFrame (replace with your actual DataFrame loading code)\n",
    "# df = pd.read_csv('your_file.csv')\n",
    "\n",
    "# Convert DataFrame columns to NumPy arrays for computations\n",
    "phi_0 = df['Phi_0'].values\n",
    "phi_2 = df['Phi_2'].values\n",
    "phi_3 = df['Phi_3'].values\n",
    "phi_4 = df['Phi_4'].values\n",
    "\n",
    "theta_0 = df['Theta_0'].values\n",
    "theta_2 = df['Theta_2'].values\n",
    "theta_3 = df['Theta_3'].values\n",
    "theta_4 = df['Theta_4'].values\n",
    "\n",
    "# Compute sine and cosine using NumPy\n",
    "df['cos_Phi_0'] = np.cos(np.radians(phi_0))\n",
    "df['cos_Phi_2'] = np.cos(np.radians(phi_2))\n",
    "df['cos_Phi_3'] = np.cos(np.radians(phi_3))\n",
    "df['cos_Phi_4'] = np.cos(np.radians(phi_4))\n",
    "\n",
    "df['sin_Phi_0'] = np.sin(np.radians(phi_0))\n",
    "df['sin_Phi_2'] = np.sin(np.radians(phi_2))\n",
    "df['sin_Phi_3'] = np.sin(np.radians(phi_3))\n",
    "df['sin_Phi_4'] = np.sin(np.radians(phi_4))\n",
    "\n",
    "# Compute eta using NumPy\n",
    "df['Eta_0'] = -np.log(np.tan(np.radians(theta_0 / 2)))\n",
    "df['Eta_2'] = -np.log(np.tan(np.radians(theta_2 / 2)))\n",
    "df['Eta_3'] = -np.log(np.tan(np.radians(theta_3 / 2)))\n",
    "df['Eta_4'] = -np.log(np.tan(np.radians(theta_4 / 2)))\n",
    "\n"
   ]
  },
  {
   "cell_type": "code",
   "execution_count": 15,
   "id": "e6f4ebac",
   "metadata": {
    "execution": {
     "iopub.execute_input": "2024-09-17T16:15:49.245647Z",
     "iopub.status.busy": "2024-09-17T16:15:49.245003Z",
     "iopub.status.idle": "2024-09-17T16:15:49.251143Z",
     "shell.execute_reply": "2024-09-17T16:15:49.250311Z"
    },
    "papermill": {
     "duration": 0.032053,
     "end_time": "2024-09-17T16:15:49.253111",
     "exception": false,
     "start_time": "2024-09-17T16:15:49.221058",
     "status": "completed"
    },
    "tags": []
   },
   "outputs": [
    {
     "data": {
      "text/plain": [
       "Index(['Unnamed: 0', 'Phi_0', 'Phi_2', 'Phi_3', 'Phi_4', 'Theta_0', 'Theta_2',\n",
       "       'Theta_3', 'Theta_4', 'BendingAngle_0', 'BendingAngle_2',\n",
       "       'BendingAngle_3', 'BendingAngle_4', 'TimeInfo_0', 'TimeInfo_2',\n",
       "       'TimeInfo_3', 'TimeInfo_4', 'RingNumber_0', 'RingNumber_2',\n",
       "       'RingNumber_3', 'RingNumber_4', 'Front_0', 'Front_2', 'Front_3',\n",
       "       'Front_4', 'Mask_0', 'Mask_2', 'Mask_3', 'Mask_4',\n",
       "       'PatternStraightness', 'Zone', 'MedianTheta', 'q/pt', 'PhiAngle',\n",
       "       'EtaAngle', 'pT', 'cos_Phi_0', 'cos_Phi_2', 'cos_Phi_3', 'cos_Phi_4',\n",
       "       'sin_Phi_0', 'sin_Phi_2', 'sin_Phi_3', 'sin_Phi_4', 'Eta_0', 'Eta_2',\n",
       "       'Eta_3', 'Eta_4'],\n",
       "      dtype='object')"
      ]
     },
     "execution_count": 15,
     "metadata": {},
     "output_type": "execute_result"
    }
   ],
   "source": [
    "df.columns"
   ]
  },
  {
   "cell_type": "code",
   "execution_count": 16,
   "id": "96a91ca5",
   "metadata": {
    "execution": {
     "iopub.execute_input": "2024-09-17T16:15:49.300753Z",
     "iopub.status.busy": "2024-09-17T16:15:49.300424Z",
     "iopub.status.idle": "2024-09-17T16:15:49.308932Z",
     "shell.execute_reply": "2024-09-17T16:15:49.308047Z"
    },
    "papermill": {
     "duration": 0.0346,
     "end_time": "2024-09-17T16:15:49.310837",
     "exception": false,
     "start_time": "2024-09-17T16:15:49.276237",
     "status": "completed"
    },
    "tags": []
   },
   "outputs": [
    {
     "data": {
      "text/plain": [
       "2.00000380000722"
      ]
     },
     "execution_count": 16,
     "metadata": {},
     "output_type": "execute_result"
    }
   ],
   "source": [
    "df.loc[:,\"pT\"].min()"
   ]
  },
  {
   "cell_type": "code",
   "execution_count": 17,
   "id": "1e1e41bf",
   "metadata": {
    "execution": {
     "iopub.execute_input": "2024-09-17T16:15:49.359993Z",
     "iopub.status.busy": "2024-09-17T16:15:49.359359Z",
     "iopub.status.idle": "2024-09-17T16:15:49.401185Z",
     "shell.execute_reply": "2024-09-17T16:15:49.400134Z"
    },
    "papermill": {
     "duration": 0.068658,
     "end_time": "2024-09-17T16:15:49.403576",
     "exception": false,
     "start_time": "2024-09-17T16:15:49.334918",
     "status": "completed"
    },
    "tags": []
   },
   "outputs": [],
   "source": [
    "label =df.loc[:,\"pT\"]\n",
    "\n",
    "# Calculate Q1 (25th percentile) and Q3 (75th percentile)\n",
    "Q1 = label.quantile(0.25)\n",
    "Q3 = label.quantile(0.75)\n",
    "\n",
    "# Calculate the IQR (Interquartile Range)\n",
    "IQR = Q3 - Q1"
   ]
  },
  {
   "cell_type": "code",
   "execution_count": 18,
   "id": "b034fdf9",
   "metadata": {
    "execution": {
     "iopub.execute_input": "2024-09-17T16:15:49.452825Z",
     "iopub.status.busy": "2024-09-17T16:15:49.452435Z",
     "iopub.status.idle": "2024-09-17T16:15:50.099631Z",
     "shell.execute_reply": "2024-09-17T16:15:50.098845Z"
    },
    "papermill": {
     "duration": 0.674591,
     "end_time": "2024-09-17T16:15:50.102031",
     "exception": false,
     "start_time": "2024-09-17T16:15:49.427440",
     "status": "completed"
    },
    "tags": []
   },
   "outputs": [],
   "source": [
    "# Define the acceptable range (1.5 times the IQR below Q1 and above Q3)\n",
    "lower_bound = Q1 - 1.5 * IQR\n",
    "upper_bound = Q3 + 1.5 * IQR\n",
    "\n",
    "# Filter out the outliers\n",
    "filtered_df = df[(label >= lower_bound) & (label <= upper_bound)]\n",
    "filtered_df = filtered_df.reset_index(drop=True)\n",
    "# Extract the indices of the filtered dataset\n",
    "filtered_indices = filtered_df.index.to_numpy()\n",
    "\n",
    "# Split the filtered indices into training and test sets\n",
    "train_idx, test_idx = train_test_split(filtered_indices, test_size=0.2, random_state=1)"
   ]
  },
  {
   "cell_type": "code",
   "execution_count": 19,
   "id": "1224600b",
   "metadata": {
    "execution": {
     "iopub.execute_input": "2024-09-17T16:15:50.150446Z",
     "iopub.status.busy": "2024-09-17T16:15:50.150120Z",
     "iopub.status.idle": "2024-09-17T16:15:50.198437Z",
     "shell.execute_reply": "2024-09-17T16:15:50.197599Z"
    },
    "papermill": {
     "duration": 0.075186,
     "end_time": "2024-09-17T16:15:50.200889",
     "exception": false,
     "start_time": "2024-09-17T16:15:50.125703",
     "status": "completed"
    },
    "tags": []
   },
   "outputs": [],
   "source": [
    "selected_columns = [\n",
    "    'sin_Phi_0', 'sin_Phi_2', 'sin_Phi_3', 'sin_Phi_4', 'cos_Phi_0', 'cos_Phi_2', 'cos_Phi_3', 'cos_Phi_4', 'Eta_0', 'Eta_2', 'Eta_3', 'Eta_4', \n",
    "    'BendingAngle_0', 'BendingAngle_2', 'BendingAngle_3', 'BendingAngle_4','pT'\n",
    "]\n",
    "\n",
    "# Select the columns from the DataFrame\n",
    "filtered_df = filtered_df[selected_columns]"
   ]
  },
  {
   "cell_type": "code",
   "execution_count": 20,
   "id": "f2003304",
   "metadata": {
    "execution": {
     "iopub.execute_input": "2024-09-17T16:15:50.266288Z",
     "iopub.status.busy": "2024-09-17T16:15:50.265915Z",
     "iopub.status.idle": "2024-09-17T16:15:50.272739Z",
     "shell.execute_reply": "2024-09-17T16:15:50.271854Z"
    },
    "papermill": {
     "duration": 0.043208,
     "end_time": "2024-09-17T16:15:50.275188",
     "exception": false,
     "start_time": "2024-09-17T16:15:50.231980",
     "status": "completed"
    },
    "tags": []
   },
   "outputs": [
    {
     "data": {
      "text/plain": [
       "Index(['sin_Phi_0', 'sin_Phi_2', 'sin_Phi_3', 'sin_Phi_4', 'cos_Phi_0',\n",
       "       'cos_Phi_2', 'cos_Phi_3', 'cos_Phi_4', 'Eta_0', 'Eta_2', 'Eta_3',\n",
       "       'Eta_4', 'BendingAngle_0', 'BendingAngle_2', 'BendingAngle_3',\n",
       "       'BendingAngle_4', 'pT'],\n",
       "      dtype='object')"
      ]
     },
     "execution_count": 20,
     "metadata": {},
     "output_type": "execute_result"
    }
   ],
   "source": [
    "filtered_df.columns"
   ]
  },
  {
   "cell_type": "code",
   "execution_count": 21,
   "id": "e2fde019",
   "metadata": {
    "execution": {
     "iopub.execute_input": "2024-09-17T16:15:50.332832Z",
     "iopub.status.busy": "2024-09-17T16:15:50.332439Z",
     "iopub.status.idle": "2024-09-17T16:15:50.581864Z",
     "shell.execute_reply": "2024-09-17T16:15:50.581052Z"
    },
    "papermill": {
     "duration": 0.277094,
     "end_time": "2024-09-17T16:15:50.584294",
     "exception": false,
     "start_time": "2024-09-17T16:15:50.307200",
     "status": "completed"
    },
    "tags": []
   },
   "outputs": [],
   "source": [
    "filtered_df.loc[:,\"sin_Phi_0\":] = scaler.fit_transform(filtered_df.loc[:,\"sin_Phi_0\":])"
   ]
  },
  {
   "cell_type": "markdown",
   "id": "0d4f3767",
   "metadata": {
    "papermill": {
     "duration": 0.023732,
     "end_time": "2024-09-17T16:15:50.632333",
     "exception": false,
     "start_time": "2024-09-17T16:15:50.608601",
     "status": "completed"
    },
    "tags": []
   },
   "source": [
    "**We can see that the std dev and the mean has been transformed to 1 and 0 respectively**"
   ]
  },
  {
   "cell_type": "code",
   "execution_count": 22,
   "id": "f81352b5",
   "metadata": {
    "execution": {
     "iopub.execute_input": "2024-09-17T16:15:50.681620Z",
     "iopub.status.busy": "2024-09-17T16:15:50.681263Z",
     "iopub.status.idle": "2024-09-17T16:15:50.686079Z",
     "shell.execute_reply": "2024-09-17T16:15:50.685192Z"
    },
    "papermill": {
     "duration": 0.031841,
     "end_time": "2024-09-17T16:15:50.688038",
     "exception": false,
     "start_time": "2024-09-17T16:15:50.656197",
     "status": "completed"
    },
    "tags": []
   },
   "outputs": [],
   "source": [
    "selected_features = ['sin_Phi_0', 'sin_Phi_2', 'sin_Phi_3', 'sin_Phi_4', 'cos_Phi_0',\n",
    "       'cos_Phi_2', 'cos_Phi_3', 'cos_Phi_4', 'Eta_0', 'Eta_2', 'Eta_3',\n",
    "       'Eta_4', 'BendingAngle_0', 'BendingAngle_2', 'BendingAngle_3',\n",
    "       'BendingAngle_4']"
   ]
  },
  {
   "cell_type": "code",
   "execution_count": 23,
   "id": "f5ff13ed",
   "metadata": {
    "execution": {
     "iopub.execute_input": "2024-09-17T16:15:50.737368Z",
     "iopub.status.busy": "2024-09-17T16:15:50.737023Z",
     "iopub.status.idle": "2024-09-17T16:15:50.785600Z",
     "shell.execute_reply": "2024-09-17T16:15:50.784541Z"
    },
    "papermill": {
     "duration": 0.075851,
     "end_time": "2024-09-17T16:15:50.787974",
     "exception": false,
     "start_time": "2024-09-17T16:15:50.712123",
     "status": "completed"
    },
    "tags": []
   },
   "outputs": [
    {
     "name": "stdout",
     "output_type": "stream",
     "text": [
      "Data shape: (1029592, 16)\n",
      "(1029592,)\n",
      "Len train: 823673, Len test: 205919\n",
      "Num. features: 16\n"
     ]
    }
   ],
   "source": [
    "# Extract features and labels\n",
    "x_data = filtered_df[selected_features].to_numpy()\n",
    "label = filtered_df['pT'].to_numpy()\n",
    "\n",
    "# Ensure the shapes of x_data and label\n",
    "assert x_data.shape[0] == label.shape[0], \"Mismatch between x_data and label sizes\"\n",
    "\n",
    "# Print the new data shape and label shape\n",
    "print('Data shape: ' + str(x_data.shape))\n",
    "print(label.shape)\n",
    "print('Len train: ' + str(len(train_idx)) + ', Len test: ' + str(len(test_idx)))\n",
    "print('Num. features: ' + str(x_data.shape[-1]))"
   ]
  },
  {
   "cell_type": "markdown",
   "id": "a75f9186",
   "metadata": {
    "papermill": {
     "duration": 0.023399,
     "end_time": "2024-09-17T16:15:50.836346",
     "exception": false,
     "start_time": "2024-09-17T16:15:50.812947",
     "status": "completed"
    },
    "tags": []
   },
   "source": [
    "# Dataset Class and Data Loaders"
   ]
  },
  {
   "cell_type": "code",
   "execution_count": 24,
   "id": "88bdfcc2",
   "metadata": {
    "execution": {
     "iopub.execute_input": "2024-09-17T16:15:50.885290Z",
     "iopub.status.busy": "2024-09-17T16:15:50.884914Z",
     "iopub.status.idle": "2024-09-17T16:15:50.889014Z",
     "shell.execute_reply": "2024-09-17T16:15:50.888095Z"
    },
    "papermill": {
     "duration": 0.030888,
     "end_time": "2024-09-17T16:15:50.891023",
     "exception": false,
     "start_time": "2024-09-17T16:15:50.860135",
     "status": "completed"
    },
    "tags": []
   },
   "outputs": [],
   "source": [
    "# x_data.shape"
   ]
  },
  {
   "cell_type": "code",
   "execution_count": 25,
   "id": "d2c202e1",
   "metadata": {
    "execution": {
     "iopub.execute_input": "2024-09-17T16:15:50.940589Z",
     "iopub.status.busy": "2024-09-17T16:15:50.939967Z",
     "iopub.status.idle": "2024-09-17T16:15:50.944252Z",
     "shell.execute_reply": "2024-09-17T16:15:50.943316Z"
    },
    "papermill": {
     "duration": 0.031333,
     "end_time": "2024-09-17T16:15:50.946330",
     "exception": false,
     "start_time": "2024-09-17T16:15:50.914997",
     "status": "completed"
    },
    "tags": []
   },
   "outputs": [],
   "source": [
    "import itertools"
   ]
  },
  {
   "cell_type": "code",
   "execution_count": 26,
   "id": "a7d5f514",
   "metadata": {
    "execution": {
     "iopub.execute_input": "2024-09-17T16:15:50.996397Z",
     "iopub.status.busy": "2024-09-17T16:15:50.995660Z",
     "iopub.status.idle": "2024-09-17T16:15:51.000210Z",
     "shell.execute_reply": "2024-09-17T16:15:50.999306Z"
    },
    "papermill": {
     "duration": 0.031763,
     "end_time": "2024-09-17T16:15:51.002160",
     "exception": false,
     "start_time": "2024-09-17T16:15:50.970397",
     "status": "completed"
    },
    "tags": []
   },
   "outputs": [],
   "source": [
    "import torch\n",
    "import itertools\n",
    "import numpy as np\n",
    "from torch_geometric.data import Data"
   ]
  },
  {
   "cell_type": "code",
   "execution_count": 27,
   "id": "e6064d92",
   "metadata": {
    "execution": {
     "iopub.execute_input": "2024-09-17T16:15:51.052044Z",
     "iopub.status.busy": "2024-09-17T16:15:51.051218Z",
     "iopub.status.idle": "2024-09-17T16:15:51.055853Z",
     "shell.execute_reply": "2024-09-17T16:15:51.054929Z"
    },
    "papermill": {
     "duration": 0.031548,
     "end_time": "2024-09-17T16:15:51.057819",
     "exception": false,
     "start_time": "2024-09-17T16:15:51.026271",
     "status": "completed"
    },
    "tags": []
   },
   "outputs": [],
   "source": [
    "# Function to calculate eta from theta\n",
    "def eta_from_theta(theta):\n",
    "    return -np.log(np.tan(theta/2))"
   ]
  },
  {
   "cell_type": "code",
   "execution_count": 28,
   "id": "dd8d5133",
   "metadata": {
    "execution": {
     "iopub.execute_input": "2024-09-17T16:15:51.107203Z",
     "iopub.status.busy": "2024-09-17T16:15:51.106598Z",
     "iopub.status.idle": "2024-09-17T16:15:51.111285Z",
     "shell.execute_reply": "2024-09-17T16:15:51.110387Z"
    },
    "papermill": {
     "duration": 0.031279,
     "end_time": "2024-09-17T16:15:51.113236",
     "exception": false,
     "start_time": "2024-09-17T16:15:51.081957",
     "status": "completed"
    },
    "tags": []
   },
   "outputs": [],
   "source": [
    "def connect_edges(sin_phi1, sin_phi2,  cos_phi1, cos_phi2, eta1, eta2):\n",
    "    \n",
    "    \n",
    "    return [sin_phi2 - sin_phi1, \n",
    "                         cos_phi2 - cos_phi1, \n",
    "                         eta2 - eta1]"
   ]
  },
  {
   "cell_type": "code",
   "execution_count": 29,
   "id": "542441dc",
   "metadata": {
    "execution": {
     "iopub.execute_input": "2024-09-17T16:15:51.162661Z",
     "iopub.status.busy": "2024-09-17T16:15:51.162052Z",
     "iopub.status.idle": "2024-09-17T16:15:51.167136Z",
     "shell.execute_reply": "2024-09-17T16:15:51.166306Z"
    },
    "papermill": {
     "duration": 0.032044,
     "end_time": "2024-09-17T16:15:51.169198",
     "exception": false,
     "start_time": "2024-09-17T16:15:51.137154",
     "status": "completed"
    },
    "tags": []
   },
   "outputs": [],
   "source": [
    "edge_index = []\n",
    "\n",
    "# # Loop through each possible pair of nodes (i, j)\n",
    "# for i in range(7):  # Nodes 0 to 6\n",
    "#     for j in range(7):  # Nodes 0 to 6\n",
    "#         if i != j:  # Avoid self-loops unless you want them\n",
    "#             edge_index.append((i, j)) = []\n",
    "\n",
    "# Loop through each possible pair of nodes (i, j)\n",
    "for i in range(4):  # Nodes 0 to 6\n",
    "    for j in range(4):  # Nodes 0 to 6\n",
    "        if i != j:  # Avoid self-loops unless you want them\n",
    "            edge_index.append((i, j))"
   ]
  },
  {
   "cell_type": "code",
   "execution_count": 30,
   "id": "bc43105a",
   "metadata": {
    "execution": {
     "iopub.execute_input": "2024-09-17T16:15:51.219544Z",
     "iopub.status.busy": "2024-09-17T16:15:51.218943Z",
     "iopub.status.idle": "2024-09-17T16:15:51.225419Z",
     "shell.execute_reply": "2024-09-17T16:15:51.224485Z"
    },
    "papermill": {
     "duration": 0.034361,
     "end_time": "2024-09-17T16:15:51.227384",
     "exception": false,
     "start_time": "2024-09-17T16:15:51.193023",
     "status": "completed"
    },
    "tags": []
   },
   "outputs": [
    {
     "data": {
      "text/plain": [
       "[(0, 1),\n",
       " (0, 2),\n",
       " (0, 3),\n",
       " (1, 0),\n",
       " (1, 2),\n",
       " (1, 3),\n",
       " (2, 0),\n",
       " (2, 1),\n",
       " (2, 3),\n",
       " (3, 0),\n",
       " (3, 1),\n",
       " (3, 2)]"
      ]
     },
     "execution_count": 30,
     "metadata": {},
     "output_type": "execute_result"
    }
   ],
   "source": [
    "edge_index"
   ]
  },
  {
   "cell_type": "code",
   "execution_count": 31,
   "id": "88166863",
   "metadata": {
    "execution": {
     "iopub.execute_input": "2024-09-17T16:15:51.277091Z",
     "iopub.status.busy": "2024-09-17T16:15:51.276440Z",
     "iopub.status.idle": "2024-09-17T16:15:51.290513Z",
     "shell.execute_reply": "2024-09-17T16:15:51.289632Z"
    },
    "papermill": {
     "duration": 0.040998,
     "end_time": "2024-09-17T16:15:51.292390",
     "exception": false,
     "start_time": "2024-09-17T16:15:51.251392",
     "status": "completed"
    },
    "tags": []
   },
   "outputs": [],
   "source": [
    "import numpy as np\n",
    "import torch\n",
    "from torch.utils.data import Dataset\n",
    "from torch_geometric.data import Data\n",
    "import itertools\n",
    "\n",
    "class Graph_dataset(Dataset):\n",
    "    def __init__(self, dataset, label, edge_index, indices, transform=None):\n",
    "        self.transform = transform\n",
    "        self.data = dataset\n",
    "        self.edge_index = torch.tensor(edge_index, dtype=torch.long).t().contiguous()  # Ensure correct shape\n",
    "        self.indices = indices\n",
    "        self.label = label\n",
    "    \n",
    "    def __getitem__(self, idx):\n",
    "        return self.convert_to_graph(self.indices[idx])\n",
    "    \n",
    "    def __len__(self):\n",
    "        return len(self.indices)\n",
    "    \n",
    "    def convert_to_graph(self, i):\n",
    "        # Extract row data for the current index\n",
    "        row = self.data.iloc[i]\n",
    "        \n",
    "        # Extract features\n",
    "        sin_phi_values = torch.tensor(row[['sin_Phi_0', 'sin_Phi_2', 'sin_Phi_3', 'sin_Phi_4']].values, dtype=torch.float)\n",
    "        cos_phi_values = torch.tensor(row[['cos_Phi_0', 'cos_Phi_2', 'cos_Phi_3', 'cos_Phi_4']].values, dtype=torch.float)\n",
    "        eta_values = torch.tensor(row[['Eta_0', 'Eta_2', 'Eta_3', 'Eta_4']].values, dtype=torch.float)\n",
    "        bend_angles = torch.tensor(row[['BendingAngle_0', 'BendingAngle_2', 'BendingAngle_3', 'BendingAngle_4']].values, dtype=torch.float)\n",
    "\n",
    "        # Create node features (4 nodes, 1 feature per node)\n",
    "        node_features = eta_values.unsqueeze(1)  # Add dimension for feature\n",
    "  \n",
    "        edge_features = []\n",
    "        num_nodes = len(bend_angles)\n",
    "        \n",
    "        for k, j in itertools.permutations(range(num_nodes), 2):\n",
    "            sin_phi1, cos_phi1, bending_1 = sin_phi_values[k].item(), cos_phi_values[k].item() ,  bend_angles[k].item()\n",
    "            sin_phi2, cos_phi2, bending_2 = sin_phi_values[j].item(), cos_phi_values[j].item() ,  bend_angles[j].item()\n",
    "            \n",
    "            edge_feat = connect_edges(sin_phi1, sin_phi2,  cos_phi1, cos_phi2, bending_1, bending_2)\n",
    "            edge_features.append(edge_feat)\n",
    "        \n",
    "        edge_features = torch.tensor(edge_features, dtype=torch.float)  # Ensure correct dtype and shape\n",
    "\n",
    "        # Ensure edge_index and edge_attr have correct dimensions\n",
    "        assert edge_features.size(1) == 3, \"Edge features should have 3 dimensions\"\n",
    "        assert edge_features.size(0) == self.edge_index.size(1), \"Number of edges should match edge features\"\n",
    "        \n",
    "        # Create the graph data object\n",
    "        data = Data(\n",
    "            x=node_features, \n",
    "            edge_index=self.edge_index, \n",
    "            edge_attr=edge_features,\n",
    "            y=torch.tensor(self.label[i], dtype=torch.float)\n",
    "        )\n",
    "        \n",
    "        return data\n"
   ]
  },
  {
   "cell_type": "code",
   "execution_count": 32,
   "id": "988ceb7a",
   "metadata": {
    "execution": {
     "iopub.execute_input": "2024-09-17T16:15:51.342350Z",
     "iopub.status.busy": "2024-09-17T16:15:51.341553Z",
     "iopub.status.idle": "2024-09-17T16:15:51.347724Z",
     "shell.execute_reply": "2024-09-17T16:15:51.346868Z"
    },
    "papermill": {
     "duration": 0.033686,
     "end_time": "2024-09-17T16:15:51.350081",
     "exception": false,
     "start_time": "2024-09-17T16:15:51.316395",
     "status": "completed"
    },
    "tags": []
   },
   "outputs": [
    {
     "data": {
      "text/plain": [
       "array([693515, 275177, 215047, ..., 470924, 491755, 128037])"
      ]
     },
     "execution_count": 32,
     "metadata": {},
     "output_type": "execute_result"
    }
   ],
   "source": [
    "train_idx"
   ]
  },
  {
   "cell_type": "code",
   "execution_count": 33,
   "id": "61426fa0",
   "metadata": {
    "execution": {
     "iopub.execute_input": "2024-09-17T16:15:51.405274Z",
     "iopub.status.busy": "2024-09-17T16:15:51.404540Z",
     "iopub.status.idle": "2024-09-17T16:15:51.454903Z",
     "shell.execute_reply": "2024-09-17T16:15:51.453947Z"
    },
    "papermill": {
     "duration": 0.079921,
     "end_time": "2024-09-17T16:15:51.456968",
     "exception": false,
     "start_time": "2024-09-17T16:15:51.377047",
     "status": "completed"
    },
    "tags": []
   },
   "outputs": [
    {
     "data": {
      "text/plain": [
       "Data(x=[4, 1], edge_index=[2, 12], edge_attr=[12, 3], y=-0.6552883386611938)"
      ]
     },
     "execution_count": 33,
     "metadata": {},
     "output_type": "execute_result"
    }
   ],
   "source": [
    "train_dataset = Graph_dataset(filtered_df, label, edge_index, train_idx)\n",
    "next(iter(train_dataset))"
   ]
  },
  {
   "cell_type": "code",
   "execution_count": 34,
   "id": "0e324515",
   "metadata": {
    "execution": {
     "iopub.execute_input": "2024-09-17T16:15:51.508489Z",
     "iopub.status.busy": "2024-09-17T16:15:51.507866Z",
     "iopub.status.idle": "2024-09-17T16:15:52.347552Z",
     "shell.execute_reply": "2024-09-17T16:15:52.346739Z"
    },
    "papermill": {
     "duration": 0.868001,
     "end_time": "2024-09-17T16:15:52.349817",
     "exception": false,
     "start_time": "2024-09-17T16:15:51.481816",
     "status": "completed"
    },
    "tags": []
   },
   "outputs": [],
   "source": [
    "import networkx as nx\n",
    "import matplotlib.pyplot as plt\n",
    "import random"
   ]
  },
  {
   "cell_type": "code",
   "execution_count": 35,
   "id": "d945278f",
   "metadata": {
    "execution": {
     "iopub.execute_input": "2024-09-17T16:15:52.402275Z",
     "iopub.status.busy": "2024-09-17T16:15:52.401543Z",
     "iopub.status.idle": "2024-09-17T16:15:52.642776Z",
     "shell.execute_reply": "2024-09-17T16:15:52.641871Z"
    },
    "papermill": {
     "duration": 0.270609,
     "end_time": "2024-09-17T16:15:52.645201",
     "exception": false,
     "start_time": "2024-09-17T16:15:52.374592",
     "status": "completed"
    },
    "tags": []
   },
   "outputs": [
    {
     "data": {
      "image/png": "[encoded data removed]",
      "text/plain": [
       "<Figure size 640x480 with 1 Axes>"
      ]
     },
     "metadata": {},
     "output_type": "display_data"
    }
   ],
   "source": [
    "def plot_graph(data):\n",
    "    G = nx.Graph()\n",
    "    num_nodes = data.x.shape[0]\n",
    "    G.add_nodes_from(range(num_nodes))\n",
    "    edge_index = data.edge_index.numpy()\n",
    "    edges = list(zip(edge_index[0], edge_index[1]))\n",
    "    G.add_edges_from(edges)\n",
    "    \n",
    "    pos = nx.spring_layout(G)\n",
    "    nx.draw(G, pos, with_labels=True, node_color='skyblue', node_size=700, edge_color='gray')\n",
    "    plt.show()\n",
    "\n",
    "\n",
    "for idx in [0]:\n",
    "    graph_data = train_dataset[idx]\n",
    "    plot_graph(graph_data)"
   ]
  },
  {
   "cell_type": "markdown",
   "id": "d46cad2a",
   "metadata": {
    "papermill": {
     "duration": 0.025017,
     "end_time": "2024-09-17T16:15:52.695355",
     "exception": false,
     "start_time": "2024-09-17T16:15:52.670338",
     "status": "completed"
    },
    "tags": []
   },
   "source": [
    "**Yes we wanted the fully connected graph**"
   ]
  },
  {
   "cell_type": "code",
   "execution_count": 36,
   "id": "8efd4e92",
   "metadata": {
    "execution": {
     "iopub.execute_input": "2024-09-17T16:15:52.747135Z",
     "iopub.status.busy": "2024-09-17T16:15:52.746484Z",
     "iopub.status.idle": "2024-09-17T16:15:52.770266Z",
     "shell.execute_reply": "2024-09-17T16:15:52.769393Z"
    },
    "papermill": {
     "duration": 0.052334,
     "end_time": "2024-09-17T16:15:52.772689",
     "exception": false,
     "start_time": "2024-09-17T16:15:52.720355",
     "status": "completed"
    },
    "tags": []
   },
   "outputs": [
    {
     "data": {
      "text/html": [
       "<div>\n",
       "<style scoped>\n",
       "    .dataframe tbody tr th:only-of-type {\n",
       "        vertical-align: middle;\n",
       "    }\n",
       "\n",
       "    .dataframe tbody tr th {\n",
       "        vertical-align: top;\n",
       "    }\n",
       "\n",
       "    .dataframe thead th {\n",
       "        text-align: right;\n",
       "    }\n",
       "</style>\n",
       "<table border=\"1\" class=\"dataframe\">\n",
       "  <thead>\n",
       "    <tr style=\"text-align: right;\">\n",
       "      <th></th>\n",
       "      <th>sin_Phi_0</th>\n",
       "      <th>sin_Phi_2</th>\n",
       "      <th>sin_Phi_3</th>\n",
       "      <th>sin_Phi_4</th>\n",
       "      <th>cos_Phi_0</th>\n",
       "      <th>cos_Phi_2</th>\n",
       "      <th>cos_Phi_3</th>\n",
       "      <th>cos_Phi_4</th>\n",
       "      <th>Eta_0</th>\n",
       "      <th>Eta_2</th>\n",
       "      <th>Eta_3</th>\n",
       "      <th>Eta_4</th>\n",
       "      <th>BendingAngle_0</th>\n",
       "      <th>BendingAngle_2</th>\n",
       "      <th>BendingAngle_3</th>\n",
       "      <th>BendingAngle_4</th>\n",
       "      <th>pT</th>\n",
       "    </tr>\n",
       "  </thead>\n",
       "  <tbody>\n",
       "    <tr>\n",
       "      <th>0</th>\n",
       "      <td>0.680653</td>\n",
       "      <td>0.556074</td>\n",
       "      <td>0.555731</td>\n",
       "      <td>0.581748</td>\n",
       "      <td>-0.463620</td>\n",
       "      <td>-0.294877</td>\n",
       "      <td>-0.294251</td>\n",
       "      <td>-0.328618</td>\n",
       "      <td>-1.540165</td>\n",
       "      <td>-1.586433</td>\n",
       "      <td>-1.561994</td>\n",
       "      <td>-1.558407</td>\n",
       "      <td>-0.830305</td>\n",
       "      <td>-0.015253</td>\n",
       "      <td>-0.008758</td>\n",
       "      <td>-0.005231</td>\n",
       "      <td>-0.063008</td>\n",
       "    </tr>\n",
       "    <tr>\n",
       "      <th>1</th>\n",
       "      <td>0.951025</td>\n",
       "      <td>1.026491</td>\n",
       "      <td>1.034475</td>\n",
       "      <td>1.039729</td>\n",
       "      <td>-0.903758</td>\n",
       "      <td>-1.056723</td>\n",
       "      <td>-1.074167</td>\n",
       "      <td>-1.084902</td>\n",
       "      <td>-0.357830</td>\n",
       "      <td>-0.538679</td>\n",
       "      <td>-0.482268</td>\n",
       "      <td>-0.555400</td>\n",
       "      <td>0.442012</td>\n",
       "      <td>-0.015253</td>\n",
       "      <td>-0.008758</td>\n",
       "      <td>-0.005231</td>\n",
       "      <td>0.273395</td>\n",
       "    </tr>\n",
       "    <tr>\n",
       "      <th>2</th>\n",
       "      <td>1.164943</td>\n",
       "      <td>1.034370</td>\n",
       "      <td>1.007226</td>\n",
       "      <td>0.979817</td>\n",
       "      <td>-1.372016</td>\n",
       "      <td>-1.073226</td>\n",
       "      <td>-1.017748</td>\n",
       "      <td>-0.962846</td>\n",
       "      <td>1.272358</td>\n",
       "      <td>1.374172</td>\n",
       "      <td>1.571878</td>\n",
       "      <td>1.594886</td>\n",
       "      <td>-1.060199</td>\n",
       "      <td>-3.537251</td>\n",
       "      <td>-0.008758</td>\n",
       "      <td>-0.005231</td>\n",
       "      <td>-0.772518</td>\n",
       "    </tr>\n",
       "    <tr>\n",
       "      <th>3</th>\n",
       "      <td>-0.687608</td>\n",
       "      <td>-0.952643</td>\n",
       "      <td>-0.950873</td>\n",
       "      <td>-0.906217</td>\n",
       "      <td>0.820094</td>\n",
       "      <td>0.975919</td>\n",
       "      <td>0.975256</td>\n",
       "      <td>0.950642</td>\n",
       "      <td>-1.124564</td>\n",
       "      <td>-1.038840</td>\n",
       "      <td>-1.064079</td>\n",
       "      <td>-1.119742</td>\n",
       "      <td>-0.830305</td>\n",
       "      <td>-0.015253</td>\n",
       "      <td>-0.008758</td>\n",
       "      <td>-0.005231</td>\n",
       "      <td>-0.516059</td>\n",
       "    </tr>\n",
       "    <tr>\n",
       "      <th>4</th>\n",
       "      <td>-0.738658</td>\n",
       "      <td>-0.599162</td>\n",
       "      <td>-0.597888</td>\n",
       "      <td>-0.608538</td>\n",
       "      <td>0.851419</td>\n",
       "      <td>0.765716</td>\n",
       "      <td>0.765267</td>\n",
       "      <td>0.771925</td>\n",
       "      <td>-1.444109</td>\n",
       "      <td>-1.488357</td>\n",
       "      <td>-1.512475</td>\n",
       "      <td>-1.558407</td>\n",
       "      <td>0.632859</td>\n",
       "      <td>-3.537251</td>\n",
       "      <td>-0.008758</td>\n",
       "      <td>-0.005231</td>\n",
       "      <td>0.368828</td>\n",
       "    </tr>\n",
       "    <tr>\n",
       "      <th>...</th>\n",
       "      <td>...</td>\n",
       "      <td>...</td>\n",
       "      <td>...</td>\n",
       "      <td>...</td>\n",
       "      <td>...</td>\n",
       "      <td>...</td>\n",
       "      <td>...</td>\n",
       "      <td>...</td>\n",
       "      <td>...</td>\n",
       "      <td>...</td>\n",
       "      <td>...</td>\n",
       "      <td>...</td>\n",
       "      <td>...</td>\n",
       "      <td>...</td>\n",
       "      <td>...</td>\n",
       "      <td>...</td>\n",
       "      <td>...</td>\n",
       "    </tr>\n",
       "    <tr>\n",
       "      <th>1029587</th>\n",
       "      <td>-1.013943</td>\n",
       "      <td>-1.111523</td>\n",
       "      <td>-1.119560</td>\n",
       "      <td>-1.121619</td>\n",
       "      <td>1.006560</td>\n",
       "      <td>1.058255</td>\n",
       "      <td>1.062473</td>\n",
       "      <td>1.063405</td>\n",
       "      <td>-1.065926</td>\n",
       "      <td>-1.100947</td>\n",
       "      <td>-1.126031</td>\n",
       "      <td>-1.119742</td>\n",
       "      <td>-0.003299</td>\n",
       "      <td>-0.015253</td>\n",
       "      <td>-0.008758</td>\n",
       "      <td>-0.005231</td>\n",
       "      <td>0.678260</td>\n",
       "    </tr>\n",
       "    <tr>\n",
       "      <th>1029588</th>\n",
       "      <td>-0.379758</td>\n",
       "      <td>-0.328266</td>\n",
       "      <td>-0.318613</td>\n",
       "      <td>-0.310860</td>\n",
       "      <td>0.612301</td>\n",
       "      <td>0.575852</td>\n",
       "      <td>0.568985</td>\n",
       "      <td>0.562768</td>\n",
       "      <td>0.759120</td>\n",
       "      <td>0.813454</td>\n",
       "      <td>0.783597</td>\n",
       "      <td>0.801719</td>\n",
       "      <td>-0.003299</td>\n",
       "      <td>-0.015253</td>\n",
       "      <td>-0.008758</td>\n",
       "      <td>-0.005231</td>\n",
       "      <td>1.538815</td>\n",
       "    </tr>\n",
       "    <tr>\n",
       "      <th>1029589</th>\n",
       "      <td>0.985681</td>\n",
       "      <td>0.904515</td>\n",
       "      <td>0.884286</td>\n",
       "      <td>0.890092</td>\n",
       "      <td>-0.970105</td>\n",
       "      <td>-0.821941</td>\n",
       "      <td>-0.786507</td>\n",
       "      <td>-0.796631</td>\n",
       "      <td>-0.521241</td>\n",
       "      <td>-0.455574</td>\n",
       "      <td>-0.482268</td>\n",
       "      <td>-0.471989</td>\n",
       "      <td>-0.575842</td>\n",
       "      <td>-0.015253</td>\n",
       "      <td>-0.008758</td>\n",
       "      <td>-0.005231</td>\n",
       "      <td>0.002770</td>\n",
       "    </tr>\n",
       "    <tr>\n",
       "      <th>1029590</th>\n",
       "      <td>-0.255579</td>\n",
       "      <td>-0.302007</td>\n",
       "      <td>-0.312056</td>\n",
       "      <td>-0.310860</td>\n",
       "      <td>0.518401</td>\n",
       "      <td>0.555947</td>\n",
       "      <td>0.564015</td>\n",
       "      <td>0.562768</td>\n",
       "      <td>0.614119</td>\n",
       "      <td>0.657414</td>\n",
       "      <td>0.627945</td>\n",
       "      <td>0.645103</td>\n",
       "      <td>-0.355599</td>\n",
       "      <td>-0.015253</td>\n",
       "      <td>-0.008758</td>\n",
       "      <td>-0.005231</td>\n",
       "      <td>1.500156</td>\n",
       "    </tr>\n",
       "    <tr>\n",
       "      <th>1029591</th>\n",
       "      <td>1.191736</td>\n",
       "      <td>1.143432</td>\n",
       "      <td>1.126781</td>\n",
       "      <td>1.115802</td>\n",
       "      <td>-1.443900</td>\n",
       "      <td>-1.324044</td>\n",
       "      <td>-1.283815</td>\n",
       "      <td>-1.256459</td>\n",
       "      <td>1.272358</td>\n",
       "      <td>1.374172</td>\n",
       "      <td>1.342917</td>\n",
       "      <td>1.364505</td>\n",
       "      <td>-0.590466</td>\n",
       "      <td>-0.015253</td>\n",
       "      <td>-0.008758</td>\n",
       "      <td>-0.005231</td>\n",
       "      <td>-0.121240</td>\n",
       "    </tr>\n",
       "  </tbody>\n",
       "</table>\n",
       "<p>1029592 rows × 17 columns</p>\n",
       "</div>"
      ],
      "text/plain": [
       "         sin_Phi_0  sin_Phi_2  sin_Phi_3  sin_Phi_4  cos_Phi_0  cos_Phi_2  \\\n",
       "0         0.680653   0.556074   0.555731   0.581748  -0.463620  -0.294877   \n",
       "1         0.951025   1.026491   1.034475   1.039729  -0.903758  -1.056723   \n",
       "2         1.164943   1.034370   1.007226   0.979817  -1.372016  -1.073226   \n",
       "3        -0.687608  -0.952643  -0.950873  -0.906217   0.820094   0.975919   \n",
       "4        -0.738658  -0.599162  -0.597888  -0.608538   0.851419   0.765716   \n",
       "...            ...        ...        ...        ...        ...        ...   \n",
       "1029587  -1.013943  -1.111523  -1.119560  -1.121619   1.006560   1.058255   \n",
       "1029588  -0.379758  -0.328266  -0.318613  -0.310860   0.612301   0.575852   \n",
       "1029589   0.985681   0.904515   0.884286   0.890092  -0.970105  -0.821941   \n",
       "1029590  -0.255579  -0.302007  -0.312056  -0.310860   0.518401   0.555947   \n",
       "1029591   1.191736   1.143432   1.126781   1.115802  -1.443900  -1.324044   \n",
       "\n",
       "         cos_Phi_3  cos_Phi_4     Eta_0     Eta_2     Eta_3     Eta_4  \\\n",
       "0        -0.294251  -0.328618 -1.540165 -1.586433 -1.561994 -1.558407   \n",
       "1        -1.074167  -1.084902 -0.357830 -0.538679 -0.482268 -0.555400   \n",
       "2        -1.017748  -0.962846  1.272358  1.374172  1.571878  1.594886   \n",
       "3         0.975256   0.950642 -1.124564 -1.038840 -1.064079 -1.119742   \n",
       "4         0.765267   0.771925 -1.444109 -1.488357 -1.512475 -1.558407   \n",
       "...            ...        ...       ...       ...       ...       ...   \n",
       "1029587   1.062473   1.063405 -1.065926 -1.100947 -1.126031 -1.119742   \n",
       "1029588   0.568985   0.562768  0.759120  0.813454  0.783597  0.801719   \n",
       "1029589  -0.786507  -0.796631 -0.521241 -0.455574 -0.482268 -0.471989   \n",
       "1029590   0.564015   0.562768  0.614119  0.657414  0.627945  0.645103   \n",
       "1029591  -1.283815  -1.256459  1.272358  1.374172  1.342917  1.364505   \n",
       "\n",
       "         BendingAngle_0  BendingAngle_2  BendingAngle_3  BendingAngle_4  \\\n",
       "0             -0.830305       -0.015253       -0.008758       -0.005231   \n",
       "1              0.442012       -0.015253       -0.008758       -0.005231   \n",
       "2             -1.060199       -3.537251       -0.008758       -0.005231   \n",
       "3             -0.830305       -0.015253       -0.008758       -0.005231   \n",
       "4              0.632859       -3.537251       -0.008758       -0.005231   \n",
       "...                 ...             ...             ...             ...   \n",
       "1029587       -0.003299       -0.015253       -0.008758       -0.005231   \n",
       "1029588       -0.003299       -0.015253       -0.008758       -0.005231   \n",
       "1029589       -0.575842       -0.015253       -0.008758       -0.005231   \n",
       "1029590       -0.355599       -0.015253       -0.008758       -0.005231   \n",
       "1029591       -0.590466       -0.015253       -0.008758       -0.005231   \n",
       "\n",
       "               pT  \n",
       "0       -0.063008  \n",
       "1        0.273395  \n",
       "2       -0.772518  \n",
       "3       -0.516059  \n",
       "4        0.368828  \n",
       "...           ...  \n",
       "1029587  0.678260  \n",
       "1029588  1.538815  \n",
       "1029589  0.002770  \n",
       "1029590  1.500156  \n",
       "1029591 -0.121240  \n",
       "\n",
       "[1029592 rows x 17 columns]"
      ]
     },
     "execution_count": 36,
     "metadata": {},
     "output_type": "execute_result"
    }
   ],
   "source": [
    "filtered_df"
   ]
  },
  {
   "cell_type": "code",
   "execution_count": 37,
   "id": "a368529e",
   "metadata": {
    "execution": {
     "iopub.execute_input": "2024-09-17T16:15:52.826892Z",
     "iopub.status.busy": "2024-09-17T16:15:52.826486Z",
     "iopub.status.idle": "2024-09-17T16:15:52.832483Z",
     "shell.execute_reply": "2024-09-17T16:15:52.831528Z"
    },
    "papermill": {
     "duration": 0.034231,
     "end_time": "2024-09-17T16:15:52.834396",
     "exception": false,
     "start_time": "2024-09-17T16:15:52.800165",
     "status": "completed"
    },
    "tags": []
   },
   "outputs": [],
   "source": [
    "train_loader = DataLoader(Graph_dataset(filtered_df, label, edge_index , train_idx), batch_size=1024)\n",
    "test_loader = DataLoader(Graph_dataset(filtered_df, label, edge_index , test_idx), batch_size=1024)"
   ]
  },
  {
   "cell_type": "code",
   "execution_count": 38,
   "id": "d67b8762",
   "metadata": {
    "execution": {
     "iopub.execute_input": "2024-09-17T16:15:52.887062Z",
     "iopub.status.busy": "2024-09-17T16:15:52.886354Z",
     "iopub.status.idle": "2024-09-17T16:15:54.904247Z",
     "shell.execute_reply": "2024-09-17T16:15:54.903301Z"
    },
    "papermill": {
     "duration": 2.046641,
     "end_time": "2024-09-17T16:15:54.906492",
     "exception": false,
     "start_time": "2024-09-17T16:15:52.859851",
     "status": "completed"
    },
    "tags": []
   },
   "outputs": [
    {
     "data": {
      "text/plain": [
       "DataBatch(x=[4096, 1], edge_index=[2, 12288], edge_attr=[12288, 3], y=[1024], batch=[4096], ptr=[1025])"
      ]
     },
     "execution_count": 38,
     "metadata": {},
     "output_type": "execute_result"
    }
   ],
   "source": [
    "next(iter(train_loader))"
   ]
  },
  {
   "cell_type": "markdown",
   "id": "2d8b707d",
   "metadata": {
    "papermill": {
     "duration": 0.024963,
     "end_time": "2024-09-17T16:15:54.959240",
     "exception": false,
     "start_time": "2024-09-17T16:15:54.934277",
     "status": "completed"
    },
    "tags": []
   },
   "source": [
    "**We are all set with the dataset and the dataloader**"
   ]
  },
  {
   "cell_type": "markdown",
   "id": "55c1fe59",
   "metadata": {
    "papermill": {
     "duration": 0.024824,
     "end_time": "2024-09-17T16:15:55.009507",
     "exception": false,
     "start_time": "2024-09-17T16:15:54.984683",
     "status": "completed"
    },
    "tags": []
   },
   "source": [
    "# Lets set the Model"
   ]
  },
  {
   "cell_type": "code",
   "execution_count": 39,
   "id": "257a7023",
   "metadata": {
    "execution": {
     "iopub.execute_input": "2024-09-17T16:15:55.062106Z",
     "iopub.status.busy": "2024-09-17T16:15:55.061238Z",
     "iopub.status.idle": "2024-09-17T16:15:55.066256Z",
     "shell.execute_reply": "2024-09-17T16:15:55.065367Z"
    },
    "papermill": {
     "duration": 0.033408,
     "end_time": "2024-09-17T16:15:55.068195",
     "exception": false,
     "start_time": "2024-09-17T16:15:55.034787",
     "status": "completed"
    },
    "tags": []
   },
   "outputs": [],
   "source": [
    "from torch_geometric.nn import GCNConv, GATConv, SAGEConv\n",
    "from torch_geometric.utils import to_dense_batch\n",
    "import torch\n",
    "import torch.nn as nn\n",
    "import torch.nn.functional as F"
   ]
  },
  {
   "cell_type": "code",
   "execution_count": 40,
   "id": "173e3fc8",
   "metadata": {
    "execution": {
     "iopub.execute_input": "2024-09-17T16:15:55.121397Z",
     "iopub.status.busy": "2024-09-17T16:15:55.120782Z",
     "iopub.status.idle": "2024-09-17T16:15:55.125305Z",
     "shell.execute_reply": "2024-09-17T16:15:55.124368Z"
    },
    "papermill": {
     "duration": 0.03355,
     "end_time": "2024-09-17T16:15:55.127183",
     "exception": false,
     "start_time": "2024-09-17T16:15:55.093633",
     "status": "completed"
    },
    "tags": []
   },
   "outputs": [],
   "source": [
    "import torch\n",
    "import torch.nn.functional as F\n",
    "from torch_geometric.nn import MessagePassing, GlobalAttention"
   ]
  },
  {
   "cell_type": "code",
   "execution_count": 41,
   "id": "a6831e44",
   "metadata": {
    "execution": {
     "iopub.execute_input": "2024-09-17T16:15:55.179389Z",
     "iopub.status.busy": "2024-09-17T16:15:55.179045Z",
     "iopub.status.idle": "2024-09-17T16:15:55.191242Z",
     "shell.execute_reply": "2024-09-17T16:15:55.190349Z"
    },
    "papermill": {
     "duration": 0.040879,
     "end_time": "2024-09-17T16:15:55.193252",
     "exception": false,
     "start_time": "2024-09-17T16:15:55.152373",
     "status": "completed"
    },
    "tags": []
   },
   "outputs": [],
   "source": [
    "class MPL(MessagePassing):\n",
    "    def __init__(self, in_channels, out_channels, edge_attr_dim=3, edge_hidden_dim = 16):\n",
    "        super(MPL, self).__init__(aggr='add')\n",
    "        self.mlp1 = torch.nn.Linear(in_channels*2 + edge_hidden_dim, out_channels)\n",
    "        self.mlp2 = torch.nn.Linear(in_channels, out_channels)\n",
    "        self.mlp3 = torch.nn.Linear(2*out_channels, 1)\n",
    "        self.mlp4 = torch.nn.Linear(2*out_channels, 1)\n",
    "        self.mlp5 = torch.nn.Linear(in_channels,16)\n",
    "        self.mlp6 = torch.nn.Linear(out_channels,16)\n",
    "        self.mlp7 = torch.nn.Linear(16,1)\n",
    "        \n",
    "        self.edge_mlp = torch.nn.Sequential(\n",
    "            torch.nn.Linear(edge_attr_dim, edge_hidden_dim),\n",
    "            torch.nn.ReLU(),\n",
    "            torch.nn.Linear(edge_hidden_dim, edge_hidden_dim)\n",
    "        )\n",
    "\n",
    "    def forward(self, x, edge_index, edge_attr):\n",
    "        edge_attr_transformed = self.edge_mlp(edge_attr)\n",
    "        msg = self.propagate(edge_index, x=x, edge_attr=edge_attr_transformed)\n",
    "        \n",
    "        x = F.relu(self.mlp2(x))\n",
    "        w1 = F.sigmoid(self.mlp3(torch.cat([x,msg], dim=1)))\n",
    "        w2 = F.sigmoid(self.mlp4(torch.cat([x,msg], dim=1)))\n",
    "        out = w1*msg + w2*x\n",
    "        \n",
    "        return out\n",
    "\n",
    "    def message(self, x_i, x_j, edge_index, edge_attr):\n",
    "        edge_input = torch.cat([x_i, x_j-x_i, edge_attr], dim=1)\n",
    "        \n",
    "        msg = F.relu(self.mlp1(edge_input))\n",
    "\n",
    "        w1 = F.tanh(self.mlp5(x_i))\n",
    "        w2 = F.tanh(self.mlp6(msg))\n",
    "        w = self.mlp7(w1*w2)\n",
    "        w = softmax(w, edge_index[0])\n",
    "        \n",
    "        return msg * w"
   ]
  },
  {
   "cell_type": "code",
   "execution_count": 42,
   "id": "240eaeae",
   "metadata": {
    "execution": {
     "iopub.execute_input": "2024-09-17T16:15:55.246737Z",
     "iopub.status.busy": "2024-09-17T16:15:55.245953Z",
     "iopub.status.idle": "2024-09-17T16:15:55.257081Z",
     "shell.execute_reply": "2024-09-17T16:15:55.256181Z"
    },
    "papermill": {
     "duration": 0.040313,
     "end_time": "2024-09-17T16:15:55.258981",
     "exception": false,
     "start_time": "2024-09-17T16:15:55.218668",
     "status": "completed"
    },
    "tags": []
   },
   "outputs": [],
   "source": [
    "class MODEL_GNN(torch.nn.Module):\n",
    "    def __init__(self):\n",
    "        super(MODEL_GNN, self).__init__()\n",
    "        self.conv1 = MPL(1, 4)  \n",
    "        self.conv2 = MPL(4, 8)\n",
    "        self.conv3 = MPL(8, 8)\n",
    "        self.conv4 = MPL(8, 16)\n",
    "        \n",
    "        \n",
    "        # Adjusted Linear layers to match the dimensions after concatenation\n",
    "        self.lin1 = torch.nn.Linear(24 , 32)\n",
    "        self.lin2 = torch.nn.Linear(32, 16)\n",
    "        self.lin3 = torch.nn.Linear(16, 16)\n",
    "        self.lin4 = torch.nn.Linear(16, 1)\n",
    "\n",
    "        self.global_att_pool1 = GlobalAttention(torch.nn.Sequential(torch.nn.Linear(8, 1)))\n",
    "        self.global_att_pool2 = GlobalAttention(torch.nn.Sequential(torch.nn.Linear(16, 1)))\n",
    "\n",
    "    def forward(self, data):\n",
    "        x, edge_index, batch = data.x, data.edge_index, data.batch\n",
    "        \n",
    "        x = F.relu(self.conv1(x, edge_index, data.edge_attr))\n",
    "        x = F.relu(self.conv2(x, edge_index, data.edge_attr))\n",
    "        x1 = self.global_att_pool1(x, batch)\n",
    "        \n",
    "        x = F.relu(self.conv3(x, edge_index, data.edge_attr))\n",
    "        x = F.relu(self.conv4(x, edge_index, data.edge_attr))\n",
    "        x2 = self.global_att_pool2(x, batch)\n",
    "        \n",
    "        x_out = torch.cat([x1, x2], dim=1)  # Concatenate pooled outputs\n",
    "        x = F.relu(self.lin1(x_out))\n",
    "        x = F.relu(self.lin2(x))\n",
    "        x = F.relu(self.lin3(x))\n",
    "        x = self.lin4(x).squeeze(1)\n",
    "\n",
    "        return x"
   ]
  },
  {
   "cell_type": "code",
   "execution_count": 43,
   "id": "e57ba40d",
   "metadata": {
    "execution": {
     "iopub.execute_input": "2024-09-17T16:15:55.310368Z",
     "iopub.status.busy": "2024-09-17T16:15:55.310060Z",
     "iopub.status.idle": "2024-09-17T16:15:55.476455Z",
     "shell.execute_reply": "2024-09-17T16:15:55.475609Z"
    },
    "papermill": {
     "duration": 0.195001,
     "end_time": "2024-09-17T16:15:55.478842",
     "exception": false,
     "start_time": "2024-09-17T16:15:55.283841",
     "status": "completed"
    },
    "tags": []
   },
   "outputs": [],
   "source": [
    "# Example usage:\n",
    "# Initialize your model\n",
    "device = torch.device('cuda' if torch.cuda.is_available() else 'cpu')\n",
    "model = MODEL_GNN().to(device)"
   ]
  },
  {
   "cell_type": "code",
   "execution_count": 44,
   "id": "07c6c2c9",
   "metadata": {
    "execution": {
     "iopub.execute_input": "2024-09-17T16:15:55.531525Z",
     "iopub.status.busy": "2024-09-17T16:15:55.531154Z",
     "iopub.status.idle": "2024-09-17T16:15:55.537091Z",
     "shell.execute_reply": "2024-09-17T16:15:55.536214Z"
    },
    "papermill": {
     "duration": 0.034204,
     "end_time": "2024-09-17T16:15:55.539067",
     "exception": false,
     "start_time": "2024-09-17T16:15:55.504863",
     "status": "completed"
    },
    "tags": []
   },
   "outputs": [
    {
     "data": {
      "text/plain": [
       "MODEL_GNN(\n",
       "  (conv1): MPL()\n",
       "  (conv2): MPL()\n",
       "  (conv3): MPL()\n",
       "  (conv4): MPL()\n",
       "  (lin1): Linear(in_features=24, out_features=32, bias=True)\n",
       "  (lin2): Linear(in_features=32, out_features=16, bias=True)\n",
       "  (lin3): Linear(in_features=16, out_features=16, bias=True)\n",
       "  (lin4): Linear(in_features=16, out_features=1, bias=True)\n",
       "  (global_att_pool1): GlobalAttention(gate_nn=Sequential(\n",
       "    (0): Linear(in_features=8, out_features=1, bias=True)\n",
       "  ), nn=None)\n",
       "  (global_att_pool2): GlobalAttention(gate_nn=Sequential(\n",
       "    (0): Linear(in_features=16, out_features=1, bias=True)\n",
       "  ), nn=None)\n",
       ")"
      ]
     },
     "execution_count": 44,
     "metadata": {},
     "output_type": "execute_result"
    }
   ],
   "source": [
    "model"
   ]
  },
  {
   "cell_type": "code",
   "execution_count": 45,
   "id": "07ceb097",
   "metadata": {
    "execution": {
     "iopub.execute_input": "2024-09-17T16:15:55.591967Z",
     "iopub.status.busy": "2024-09-17T16:15:55.591635Z",
     "iopub.status.idle": "2024-09-17T16:15:55.598417Z",
     "shell.execute_reply": "2024-09-17T16:15:55.597478Z"
    },
    "papermill": {
     "duration": 0.035621,
     "end_time": "2024-09-17T16:15:55.600444",
     "exception": false,
     "start_time": "2024-09-17T16:15:55.564823",
     "status": "completed"
    },
    "tags": []
   },
   "outputs": [
    {
     "name": "stdout",
     "output_type": "stream",
     "text": [
      "Total number of parameters: 5579\n",
      "Number of learnable parameters: 5579\n"
     ]
    }
   ],
   "source": [
    "total_params = sum(p.numel() for p in model.parameters())\n",
    "learnable_params = sum(p.numel() for p in model.parameters() if p.requires_grad)\n",
    "\n",
    "print(f\"Total number of parameters: {total_params}\")\n",
    "print(f\"Number of learnable parameters: {learnable_params}\")"
   ]
  },
  {
   "cell_type": "code",
   "execution_count": 46,
   "id": "7b418c1e",
   "metadata": {
    "execution": {
     "iopub.execute_input": "2024-09-17T16:15:55.654123Z",
     "iopub.status.busy": "2024-09-17T16:15:55.653531Z",
     "iopub.status.idle": "2024-09-17T16:15:55.659165Z",
     "shell.execute_reply": "2024-09-17T16:15:55.658348Z"
    },
    "papermill": {
     "duration": 0.03503,
     "end_time": "2024-09-17T16:15:55.661217",
     "exception": false,
     "start_time": "2024-09-17T16:15:55.626187",
     "status": "completed"
    },
    "tags": []
   },
   "outputs": [
    {
     "data": {
      "text/plain": [
       "MODEL_GNN(\n",
       "  (conv1): MPL()\n",
       "  (conv2): MPL()\n",
       "  (conv3): MPL()\n",
       "  (conv4): MPL()\n",
       "  (lin1): Linear(in_features=24, out_features=32, bias=True)\n",
       "  (lin2): Linear(in_features=32, out_features=16, bias=True)\n",
       "  (lin3): Linear(in_features=16, out_features=16, bias=True)\n",
       "  (lin4): Linear(in_features=16, out_features=1, bias=True)\n",
       "  (global_att_pool1): GlobalAttention(gate_nn=Sequential(\n",
       "    (0): Linear(in_features=8, out_features=1, bias=True)\n",
       "  ), nn=None)\n",
       "  (global_att_pool2): GlobalAttention(gate_nn=Sequential(\n",
       "    (0): Linear(in_features=16, out_features=1, bias=True)\n",
       "  ), nn=None)\n",
       ")"
      ]
     },
     "execution_count": 46,
     "metadata": {},
     "output_type": "execute_result"
    }
   ],
   "source": [
    "model"
   ]
  },
  {
   "cell_type": "code",
   "execution_count": 47,
   "id": "cc2aa819",
   "metadata": {
    "execution": {
     "iopub.execute_input": "2024-09-17T16:15:55.714385Z",
     "iopub.status.busy": "2024-09-17T16:15:55.713532Z",
     "iopub.status.idle": "2024-09-17T16:15:55.723195Z",
     "shell.execute_reply": "2024-09-17T16:15:55.722310Z"
    },
    "papermill": {
     "duration": 0.038137,
     "end_time": "2024-09-17T16:15:55.725178",
     "exception": false,
     "start_time": "2024-09-17T16:15:55.687041",
     "status": "completed"
    },
    "tags": []
   },
   "outputs": [
    {
     "data": {
      "text/plain": [
       "Data(x=[4, 1], edge_index=[2, 12], edge_attr=[12, 3], y=2.224287271499634)"
      ]
     },
     "execution_count": 47,
     "metadata": {},
     "output_type": "execute_result"
    }
   ],
   "source": [
    "train_dataset[20]"
   ]
  },
  {
   "cell_type": "code",
   "execution_count": 48,
   "id": "a4769862",
   "metadata": {
    "execution": {
     "iopub.execute_input": "2024-09-17T16:15:55.778885Z",
     "iopub.status.busy": "2024-09-17T16:15:55.778025Z",
     "iopub.status.idle": "2024-09-17T16:15:55.787856Z",
     "shell.execute_reply": "2024-09-17T16:15:55.786933Z"
    },
    "papermill": {
     "duration": 0.0389,
     "end_time": "2024-09-17T16:15:55.789941",
     "exception": false,
     "start_time": "2024-09-17T16:15:55.751041",
     "status": "completed"
    },
    "tags": []
   },
   "outputs": [],
   "source": [
    "data = train_dataset[20]  # Get the data instance\n",
    "x = data.x  # Node features: shape [4, 1]\n",
    "edge_index = data.edge_index  # Edge indices: shape [2, 12]\n",
    "edge_attr = data.edge_attr  # Edge attributes: shape [12, 3]\n",
    "batch = torch.zeros(x.size(0), dtype=torch.long) "
   ]
  },
  {
   "cell_type": "code",
   "execution_count": 49,
   "id": "53f9972c",
   "metadata": {
    "execution": {
     "iopub.execute_input": "2024-09-17T16:15:55.844414Z",
     "iopub.status.busy": "2024-09-17T16:15:55.843584Z",
     "iopub.status.idle": "2024-09-17T16:15:55.847705Z",
     "shell.execute_reply": "2024-09-17T16:15:55.846879Z"
    },
    "papermill": {
     "duration": 0.033369,
     "end_time": "2024-09-17T16:15:55.849689",
     "exception": false,
     "start_time": "2024-09-17T16:15:55.816320",
     "status": "completed"
    },
    "tags": []
   },
   "outputs": [],
   "source": [
    "# Forward pass with input data x and edge_index"
   ]
  },
  {
   "cell_type": "code",
   "execution_count": 50,
   "id": "29f8d0b8",
   "metadata": {
    "execution": {
     "iopub.execute_input": "2024-09-17T16:15:55.903524Z",
     "iopub.status.busy": "2024-09-17T16:15:55.902556Z",
     "iopub.status.idle": "2024-09-17T16:15:55.907124Z",
     "shell.execute_reply": "2024-09-17T16:15:55.906243Z"
    },
    "papermill": {
     "duration": 0.033302,
     "end_time": "2024-09-17T16:15:55.909014",
     "exception": false,
     "start_time": "2024-09-17T16:15:55.875712",
     "status": "completed"
    },
    "tags": []
   },
   "outputs": [],
   "source": [
    "# Define the MSE loss function\n",
    "import torch.nn as nn\n",
    "criterion = nn.MSELoss()"
   ]
  },
  {
   "cell_type": "code",
   "execution_count": 51,
   "id": "7ea193a9",
   "metadata": {
    "execution": {
     "iopub.execute_input": "2024-09-17T16:15:55.962679Z",
     "iopub.status.busy": "2024-09-17T16:15:55.962306Z",
     "iopub.status.idle": "2024-09-17T16:15:55.969708Z",
     "shell.execute_reply": "2024-09-17T16:15:55.968823Z"
    },
    "papermill": {
     "duration": 0.036328,
     "end_time": "2024-09-17T16:15:55.971621",
     "exception": false,
     "start_time": "2024-09-17T16:15:55.935293",
     "status": "completed"
    },
    "tags": []
   },
   "outputs": [],
   "source": [
    "import torch\n",
    "import os\n",
    "\n",
    "def save_checkpoint(model, optimizer, scheduler, epoch, min_test_loss, model_name):\n",
    "    checkpoint = {\n",
    "        'epoch': epoch,\n",
    "        'model_state_dict': model.state_dict(),\n",
    "        'optimizer_state_dict': optimizer.state_dict(),\n",
    "        'scheduler_state_dict': scheduler.state_dict(),\n",
    "        'min_test_loss': min_test_loss\n",
    "    }\n",
    "    torch.save(checkpoint, model_name)\n",
    "    print(f\"Checkpoint saved at epoch {epoch}.\")\n",
    "\n",
    "def load_checkpoint(model, optimizer, scheduler, model_name):\n",
    "    checkpoint = torch.load(model_name)\n",
    "    model.load_state_dict(checkpoint['model_state_dict'])\n",
    "    optimizer.load_state_dict(checkpoint['optimizer_state_dict'])\n",
    "    scheduler.load_state_dict(checkpoint['scheduler_state_dict'])\n",
    "    epoch = checkpoint['epoch']\n",
    "    min_test_loss = checkpoint['min_test_loss']\n",
    "    print(f\"Resuming from checkpoint at epoch {epoch}, with minimum test loss {min_test_loss}.\")\n",
    "    return epoch, min_test_loss\n"
   ]
  },
  {
   "cell_type": "code",
   "execution_count": 52,
   "id": "71b00b70",
   "metadata": {
    "execution": {
     "iopub.execute_input": "2024-09-17T16:15:56.024374Z",
     "iopub.status.busy": "2024-09-17T16:15:56.024040Z",
     "iopub.status.idle": "2024-09-17T16:15:56.036498Z",
     "shell.execute_reply": "2024-09-17T16:15:56.035601Z"
    },
    "papermill": {
     "duration": 0.040871,
     "end_time": "2024-09-17T16:15:56.038371",
     "exception": false,
     "start_time": "2024-09-17T16:15:55.997500",
     "status": "completed"
    },
    "tags": []
   },
   "outputs": [],
   "source": [
    "def train(train_loader, test_loader, start_epoch=0, min_test_loss=float('inf'), prog_bar=True):\n",
    "    \n",
    "    train_losses, test_losses = list(), list()\n",
    "    criterion = nn.MSELoss()\n",
    "    \n",
    "    for epoch in range(start_epoch, epochs):\n",
    "        train_loss = 0\n",
    "        test_loss = 0\n",
    "        if prog_bar:\n",
    "            pbar = tqdm(train_loader, position=0)\n",
    "        else:\n",
    "            pbar = train_loader\n",
    "            \n",
    "        # Train loop\n",
    "        for data in pbar:\n",
    "            data = data.to(device)\n",
    "            optimizer.zero_grad()\n",
    "            out = model(data)\n",
    "            labels = data.y\n",
    "            loss = criterion(out, data.y)\n",
    "            loss.backward()\n",
    "            optimizer.step()\n",
    "            if prog_bar:\n",
    "                pbar.set_description(f'MSEError: {loss.cpu().detach().numpy()}')\n",
    "                train_loss += loss.cpu().detach().numpy() / len(train_loader)\n",
    "                \n",
    "        # Test loop\n",
    "        for data in test_loader:\n",
    "            data = data.to(device)\n",
    "            optimizer.zero_grad()\n",
    "            out = model(data)\n",
    "            labels = data.y\n",
    "            loss = criterion(out, data.y)\n",
    "            test_loss += loss.cpu().detach().numpy() / len(test_loader)\n",
    "        \n",
    "        # Save best model\n",
    "        if test_loss < min_test_loss:\n",
    "            print(f'Min loss changed from {min_test_loss} to {test_loss}')\n",
    "            min_test_loss = test_loss\n",
    "            save_checkpoint(model, optimizer, lr_scheduler, epoch, min_test_loss, \"/kaggle/working/v8_plus_best_loss.pth\")\n",
    "        \n",
    "        train_losses.append(train_loss)\n",
    "        test_losses.append(test_loss)\n",
    "        \n",
    "        # Early stopping condition\n",
    "        if epoch > 10 and min(test_losses[-7:]) > min_test_loss + 1e-9:\n",
    "            break\n",
    "        \n",
    "        # Step the learning rate scheduler\n",
    "        lr_scheduler.step(test_loss)\n",
    "        \n",
    "        print(f'Epoch: {epoch+1}/{epochs} | Training Loss: {train_loss} | Testing Loss: {test_loss}')\n",
    "        \n",
    "        if prog_bar and (epoch % 5 == 0):\n",
    "            plt.plot(train_losses, label=\"Train Loss\")\n",
    "            plt.plot(test_losses, label=\"Validation Loss\")\n",
    "            plt.xlabel(\"# Epoch\")\n",
    "            plt.ylabel(\"Loss\")\n",
    "            plt.legend(loc='upper right')\n",
    "            plt.show()\n",
    "    \n",
    "    return train_losses, test_losses\n"
   ]
  },
  {
   "cell_type": "code",
   "execution_count": 53,
   "id": "d040be7c",
   "metadata": {
    "execution": {
     "iopub.execute_input": "2024-09-17T16:15:56.092113Z",
     "iopub.status.busy": "2024-09-17T16:15:56.091223Z",
     "iopub.status.idle": "2024-09-17T16:15:56.100250Z",
     "shell.execute_reply": "2024-09-17T16:15:56.099361Z"
    },
    "papermill": {
     "duration": 0.03801,
     "end_time": "2024-09-17T16:15:56.102270",
     "exception": false,
     "start_time": "2024-09-17T16:15:56.064260",
     "status": "completed"
    },
    "tags": []
   },
   "outputs": [],
   "source": [
    "def pTLossTorch(y_pred,y_true):\n",
    "#     if not inv:\n",
    "#         y_pred = torch.pow(y_pred,-1)\n",
    "#         y_true = torch.pow(y_true,-1)\n",
    "    y_t = (y_true<80).type(torch.FloatTensor)*y_true.type(torch.FloatTensor) + (y_true>=80).type(torch.FloatTensor)*(y_true<250).type(torch.FloatTensor)*y_true.type(torch.FloatTensor)**2.4 + (y_true>=160).type(torch.FloatTensor)*10 \n",
    "    return torch.mean(y_t.type(torch.FloatTensor)*torch.pow((y_pred-y_true)/y_true,2).type(torch.FloatTensor))/250\n",
    "\n",
    "def CustompTLoss(output, target, lower_pt_limit):\n",
    "    \n",
    "    if not isinstance(lower_pt_limit, torch.Tensor):\n",
    "        lower_pt_limit = torch.tensor(lower_pt_limit)\n",
    "    \n",
    "    lower_pt_limit = lower_pt_limit.to(output.dtype)\n",
    "    output =torch.clip(output, min=lower_pt_limit.to(device))\n",
    "    loss = torch.mean((target - output)**2 + torch.gt(output, lower_pt_limit.long() * \\\n",
    "        (1 / (1 + torch.exp(-(output - lower_pt_limit) * 3)) - 1) + \\\n",
    "            torch.le(output, lower_pt_limit).long()*(-1/2)))\n",
    "    return loss\n",
    "\n"
   ]
  },
  {
   "cell_type": "code",
   "execution_count": 54,
   "id": "06c4793e",
   "metadata": {
    "execution": {
     "iopub.execute_input": "2024-09-17T16:15:56.156640Z",
     "iopub.status.busy": "2024-09-17T16:15:56.156267Z",
     "iopub.status.idle": "2024-09-17T16:15:56.160475Z",
     "shell.execute_reply": "2024-09-17T16:15:56.159628Z"
    },
    "papermill": {
     "duration": 0.033469,
     "end_time": "2024-09-17T16:15:56.162348",
     "exception": false,
     "start_time": "2024-09-17T16:15:56.128879",
     "status": "completed"
    },
    "tags": []
   },
   "outputs": [],
   "source": [
    "name =  f\"CONVERTED_graph\""
   ]
  },
  {
   "cell_type": "code",
   "execution_count": 55,
   "id": "ab825c98",
   "metadata": {
    "execution": {
     "iopub.execute_input": "2024-09-17T16:15:56.216048Z",
     "iopub.status.busy": "2024-09-17T16:15:56.215567Z",
     "iopub.status.idle": "2024-09-17T16:15:56.220784Z",
     "shell.execute_reply": "2024-09-17T16:15:56.220024Z"
    },
    "papermill": {
     "duration": 0.033973,
     "end_time": "2024-09-17T16:15:56.222666",
     "exception": false,
     "start_time": "2024-09-17T16:15:56.188693",
     "status": "completed"
    },
    "tags": []
   },
   "outputs": [],
   "source": [
    "min_PT = label.min()\n",
    "max_pT = label.max()"
   ]
  },
  {
   "cell_type": "code",
   "execution_count": 56,
   "id": "162759ea",
   "metadata": {
    "execution": {
     "iopub.execute_input": "2024-09-17T16:15:56.277274Z",
     "iopub.status.busy": "2024-09-17T16:15:56.276633Z",
     "iopub.status.idle": "2024-09-18T02:11:45.470005Z",
     "shell.execute_reply": "2024-09-18T02:11:45.469040Z"
    },
    "papermill": {
     "duration": 35749.255027,
     "end_time": "2024-09-18T02:11:45.504865",
     "exception": false,
     "start_time": "2024-09-17T16:15:56.249838",
     "status": "completed"
    },
    "tags": []
   },
   "outputs": [
    {
     "data": {
      "application/vnd.jupyter.widget-view+json": {
       "model_id": "b719d7a0318042dcbbc4c4845b398b6a",
       "version_major": 2,
       "version_minor": 0
      },
      "text/plain": [
       "  0%|          | 0/805 [00:00<?, ?it/s]"
      ]
     },
     "metadata": {},
     "output_type": "display_data"
    },
    {
     "name": "stdout",
     "output_type": "stream",
     "text": [
      "Min loss changed from inf to 0.22446094667262376\n",
      "Checkpoint saved at epoch 0.\n",
      "Epoch: 1/18 | Training Loss: 0.4004212467566774 | Testing Loss: 0.22446094667262376\n"
     ]
    },
    {
     "data": {
      "image/png": "[encoded data removed]",
      "text/plain": [
       "<Figure size 640x480 with 1 Axes>"
      ]
     },
     "metadata": {},
     "output_type": "display_data"
    },
    {
     "data": {
      "application/vnd.jupyter.widget-view+json": {
       "model_id": "9d125a58ca8749b28f2f0b9a3a71ca8b",
       "version_major": 2,
       "version_minor": 0
      },
      "text/plain": [
       "  0%|          | 0/805 [00:00<?, ?it/s]"
      ]
     },
     "metadata": {},
     "output_type": "display_data"
    },
    {
     "name": "stdout",
     "output_type": "stream",
     "text": [
      "Min loss changed from 0.22446094667262376 to 0.21958181793146803\n",
      "Checkpoint saved at epoch 1.\n",
      "Epoch: 2/18 | Training Loss: 0.22570026324402453 | Testing Loss: 0.21958181793146803\n"
     ]
    },
    {
     "data": {
      "application/vnd.jupyter.widget-view+json": {
       "model_id": "8d4b9f3cbf6f4aad8a2682b47434b3a6",
       "version_major": 2,
       "version_minor": 0
      },
      "text/plain": [
       "  0%|          | 0/805 [00:00<?, ?it/s]"
      ]
     },
     "metadata": {},
     "output_type": "display_data"
    },
    {
     "name": "stdout",
     "output_type": "stream",
     "text": [
      "Min loss changed from 0.21958181793146803 to 0.21729089223807405\n",
      "Checkpoint saved at epoch 2.\n",
      "Epoch: 3/18 | Training Loss: 0.22230547638783557 | Testing Loss: 0.21729089223807405\n"
     ]
    },
    {
     "data": {
      "application/vnd.jupyter.widget-view+json": {
       "model_id": "0266aaefbc584a5ebd124cd61566e603",
       "version_major": 2,
       "version_minor": 0
      },
      "text/plain": [
       "  0%|          | 0/805 [00:00<?, ?it/s]"
      ]
     },
     "metadata": {},
     "output_type": "display_data"
    },
    {
     "name": "stdout",
     "output_type": "stream",
     "text": [
      "Min loss changed from 0.21729089223807405 to 0.21511803021525389\n",
      "Checkpoint saved at epoch 3.\n",
      "Epoch: 4/18 | Training Loss: 0.2202182411592198 | Testing Loss: 0.21511803021525389\n"
     ]
    },
    {
     "data": {
      "application/vnd.jupyter.widget-view+json": {
       "model_id": "ae1ca5ab7a274b48878a77d8a8a5bdb8",
       "version_major": 2,
       "version_minor": 0
      },
      "text/plain": [
       "  0%|          | 0/805 [00:00<?, ?it/s]"
      ]
     },
     "metadata": {},
     "output_type": "display_data"
    },
    {
     "name": "stdout",
     "output_type": "stream",
     "text": [
      "Min loss changed from 0.21511803021525389 to 0.21392749441732267\n",
      "Checkpoint saved at epoch 4.\n",
      "Epoch: 5/18 | Training Loss: 0.21851607707346468 | Testing Loss: 0.21392749441732267\n"
     ]
    },
    {
     "data": {
      "application/vnd.jupyter.widget-view+json": {
       "model_id": "9ba0a58f95d14e15bbf1da7db68e3f63",
       "version_major": 2,
       "version_minor": 0
      },
      "text/plain": [
       "  0%|          | 0/805 [00:00<?, ?it/s]"
      ]
     },
     "metadata": {},
     "output_type": "display_data"
    },
    {
     "name": "stdout",
     "output_type": "stream",
     "text": [
      "Min loss changed from 0.21392749441732267 to 0.21315244223811838\n",
      "Checkpoint saved at epoch 5.\n",
      "Epoch: 6/18 | Training Loss: 0.21755626793973948 | Testing Loss: 0.21315244223811838\n"
     ]
    },
    {
     "data": {
      "image/png": "[encoded data removed]",
      "text/plain": [
       "<Figure size 640x480 with 1 Axes>"
      ]
     },
     "metadata": {},
     "output_type": "display_data"
    },
    {
     "data": {
      "application/vnd.jupyter.widget-view+json": {
       "model_id": "ded1f757009448b79c8bb4e32b251b72",
       "version_major": 2,
       "version_minor": 0
      },
      "text/plain": [
       "  0%|          | 0/805 [00:00<?, ?it/s]"
      ]
     },
     "metadata": {},
     "output_type": "display_data"
    },
    {
     "name": "stdout",
     "output_type": "stream",
     "text": [
      "Min loss changed from 0.21315244223811838 to 0.21264341687506957\n",
      "Checkpoint saved at epoch 6.\n",
      "Epoch: 7/18 | Training Loss: 0.216948168192591 | Testing Loss: 0.21264341687506957\n"
     ]
    },
    {
     "data": {
      "application/vnd.jupyter.widget-view+json": {
       "model_id": "01c954ffd98143f5b5d72e6628ab5cf7",
       "version_major": 2,
       "version_minor": 0
      },
      "text/plain": [
       "  0%|          | 0/805 [00:00<?, ?it/s]"
      ]
     },
     "metadata": {},
     "output_type": "display_data"
    },
    {
     "name": "stdout",
     "output_type": "stream",
     "text": [
      "Min loss changed from 0.21264341687506957 to 0.2122497167622689\n",
      "Checkpoint saved at epoch 7.\n",
      "Epoch: 8/18 | Training Loss: 0.21647282670373474 | Testing Loss: 0.2122497167622689\n"
     ]
    },
    {
     "data": {
      "application/vnd.jupyter.widget-view+json": {
       "model_id": "543c3cc9fddd4377b013c92cc0042e7d",
       "version_major": 2,
       "version_minor": 0
      },
      "text/plain": [
       "  0%|          | 0/805 [00:00<?, ?it/s]"
      ]
     },
     "metadata": {},
     "output_type": "display_data"
    },
    {
     "name": "stdout",
     "output_type": "stream",
     "text": [
      "Min loss changed from 0.2122497167622689 to 0.21187226998038797\n",
      "Checkpoint saved at epoch 8.\n",
      "Epoch: 9/18 | Training Loss: 0.21601494485917289 | Testing Loss: 0.21187226998038797\n"
     ]
    },
    {
     "data": {
      "application/vnd.jupyter.widget-view+json": {
       "model_id": "4aac76fdf5084e9bbb306db64985fd9a",
       "version_major": 2,
       "version_minor": 0
      },
      "text/plain": [
       "  0%|          | 0/805 [00:00<?, ?it/s]"
      ]
     },
     "metadata": {},
     "output_type": "display_data"
    },
    {
     "name": "stdout",
     "output_type": "stream",
     "text": [
      "Min loss changed from 0.21187226998038797 to 0.2115641327777712\n",
      "Checkpoint saved at epoch 9.\n",
      "Epoch: 10/18 | Training Loss: 0.21566893693453051 | Testing Loss: 0.2115641327777712\n"
     ]
    },
    {
     "data": {
      "application/vnd.jupyter.widget-view+json": {
       "model_id": "6997f1be04e74a78a456440ef568443e",
       "version_major": 2,
       "version_minor": 0
      },
      "text/plain": [
       "  0%|          | 0/805 [00:00<?, ?it/s]"
      ]
     },
     "metadata": {},
     "output_type": "display_data"
    },
    {
     "name": "stdout",
     "output_type": "stream",
     "text": [
      "Min loss changed from 0.2115641327777712 to 0.21127435181400553\n",
      "Checkpoint saved at epoch 10.\n",
      "Epoch: 11/18 | Training Loss: 0.21531222249780407 | Testing Loss: 0.21127435181400553\n"
     ]
    },
    {
     "data": {
      "image/png": "[encoded data removed]",
      "text/plain": [
       "<Figure size 640x480 with 1 Axes>"
      ]
     },
     "metadata": {},
     "output_type": "display_data"
    },
    {
     "data": {
      "application/vnd.jupyter.widget-view+json": {
       "model_id": "3cac07baacf4499a9e166e0216041adc",
       "version_major": 2,
       "version_minor": 0
      },
      "text/plain": [
       "  0%|          | 0/805 [00:00<?, ?it/s]"
      ]
     },
     "metadata": {},
     "output_type": "display_data"
    },
    {
     "name": "stdout",
     "output_type": "stream",
     "text": [
      "Min loss changed from 0.21127435181400553 to 0.21100332683855957\n",
      "Checkpoint saved at epoch 11.\n",
      "Epoch: 12/18 | Training Loss: 0.2149360089198403 | Testing Loss: 0.21100332683855957\n"
     ]
    },
    {
     "data": {
      "application/vnd.jupyter.widget-view+json": {
       "model_id": "885d3848caed462696687482d6c53c45",
       "version_major": 2,
       "version_minor": 0
      },
      "text/plain": [
       "  0%|          | 0/805 [00:00<?, ?it/s]"
      ]
     },
     "metadata": {},
     "output_type": "display_data"
    },
    {
     "name": "stdout",
     "output_type": "stream",
     "text": [
      "Min loss changed from 0.21100332683855957 to 0.21073119430848855\n",
      "Checkpoint saved at epoch 12.\n",
      "Epoch: 13/18 | Training Loss: 0.21467640690551779 | Testing Loss: 0.21073119430848855\n"
     ]
    },
    {
     "data": {
      "application/vnd.jupyter.widget-view+json": {
       "model_id": "e80e5531d30b444e9a74d7174d624fcd",
       "version_major": 2,
       "version_minor": 0
      },
      "text/plain": [
       "  0%|          | 0/805 [00:00<?, ?it/s]"
      ]
     },
     "metadata": {},
     "output_type": "display_data"
    },
    {
     "name": "stdout",
     "output_type": "stream",
     "text": [
      "Min loss changed from 0.21073119430848855 to 0.21049331327771192\n",
      "Checkpoint saved at epoch 13.\n",
      "Epoch: 14/18 | Training Loss: 0.21434147402366505 | Testing Loss: 0.21049331327771192\n"
     ]
    },
    {
     "data": {
      "application/vnd.jupyter.widget-view+json": {
       "model_id": "8ec6fb7b62f54b27b158d433746f53a0",
       "version_major": 2,
       "version_minor": 0
      },
      "text/plain": [
       "  0%|          | 0/805 [00:00<?, ?it/s]"
      ]
     },
     "metadata": {},
     "output_type": "display_data"
    },
    {
     "name": "stdout",
     "output_type": "stream",
     "text": [
      "Min loss changed from 0.21049331327771192 to 0.21016699142090153\n",
      "Checkpoint saved at epoch 14.\n",
      "Epoch: 15/18 | Training Loss: 0.21402101346424665 | Testing Loss: 0.21016699142090153\n"
     ]
    },
    {
     "data": {
      "application/vnd.jupyter.widget-view+json": {
       "model_id": "795fb49ccc7444828b8dc12b8f4a7679",
       "version_major": 2,
       "version_minor": 0
      },
      "text/plain": [
       "  0%|          | 0/805 [00:00<?, ?it/s]"
      ]
     },
     "metadata": {},
     "output_type": "display_data"
    },
    {
     "name": "stdout",
     "output_type": "stream",
     "text": [
      "Min loss changed from 0.21016699142090153 to 0.2098161190158069\n",
      "Checkpoint saved at epoch 15.\n",
      "Epoch: 16/18 | Training Loss: 0.21370105780429702 | Testing Loss: 0.2098161190158069\n"
     ]
    },
    {
     "data": {
      "image/png": "[encoded data removed]",
      "text/plain": [
       "<Figure size 640x480 with 1 Axes>"
      ]
     },
     "metadata": {},
     "output_type": "display_data"
    },
    {
     "data": {
      "application/vnd.jupyter.widget-view+json": {
       "model_id": "8cf299586b4a4547989ad21ca615049f",
       "version_major": 2,
       "version_minor": 0
      },
      "text/plain": [
       "  0%|          | 0/805 [00:00<?, ?it/s]"
      ]
     },
     "metadata": {},
     "output_type": "display_data"
    },
    {
     "name": "stdout",
     "output_type": "stream",
     "text": [
      "Min loss changed from 0.2098161190158069 to 0.2094911558940858\n",
      "Checkpoint saved at epoch 16.\n",
      "Epoch: 17/18 | Training Loss: 0.21336157751379564 | Testing Loss: 0.2094911558940858\n"
     ]
    },
    {
     "data": {
      "application/vnd.jupyter.widget-view+json": {
       "model_id": "d7aa63146b7148258c8dabdfcc373b89",
       "version_major": 2,
       "version_minor": 0
      },
      "text/plain": [
       "  0%|          | 0/805 [00:00<?, ?it/s]"
      ]
     },
     "metadata": {},
     "output_type": "display_data"
    },
    {
     "name": "stdout",
     "output_type": "stream",
     "text": [
      "Min loss changed from 0.2094911558940858 to 0.20895881936101623\n",
      "Checkpoint saved at epoch 17.\n",
      "Epoch: 18/18 | Training Loss: 0.21294383476979956 | Testing Loss: 0.20895881936101623\n"
     ]
    }
   ],
   "source": [
    "epochs = 18\n",
    "model = MODEL_GNN().to(device)\n",
    "optimizer = torch.optim.Adam(model.parameters(), lr=0.001, weight_decay=5e-4)\n",
    "lr_scheduler = torch.optim.lr_scheduler.ReduceLROnPlateau(optimizer, verbose=True, patience=1, factor=0.5)\n",
    "\n",
    "model_name = \"/kaggle/working/v8_plus_best_loss.pth\"\n",
    "\n",
    "# Check if checkpoint exists, load it\n",
    "if os.path.exists(model_name):\n",
    "    start_epoch, min_test_loss = load_checkpoint(model, optimizer, lr_scheduler, model_name)\n",
    "else:\n",
    "    start_epoch = 0\n",
    "    min_test_loss = float('inf')\n",
    "\n",
    "train_losses, test_losses = train(train_loader, test_loader, start_epoch=start_epoch, min_test_loss=min_test_loss, prog_bar=True)"
   ]
  },
  {
   "cell_type": "markdown",
   "id": "dd35cc4f",
   "metadata": {
    "papermill": {
     "duration": 0.032312,
     "end_time": "2024-09-18T02:11:45.568645",
     "exception": false,
     "start_time": "2024-09-18T02:11:45.536333",
     "status": "completed"
    },
    "tags": []
   },
   "source": [
    "# TESTING"
   ]
  },
  {
   "cell_type": "markdown",
   "id": "9c2426e1",
   "metadata": {
    "papermill": {
     "duration": 0.031395,
     "end_time": "2024-09-18T02:11:45.631855",
     "exception": false,
     "start_time": "2024-09-18T02:11:45.600460",
     "status": "completed"
    },
    "tags": []
   },
   "source": [
    "## Metrics"
   ]
  },
  {
   "cell_type": "code",
   "execution_count": 57,
   "id": "f81af068",
   "metadata": {
    "execution": {
     "iopub.execute_input": "2024-09-18T02:11:45.697274Z",
     "iopub.status.busy": "2024-09-18T02:11:45.696427Z",
     "iopub.status.idle": "2024-09-18T02:11:45.703343Z",
     "shell.execute_reply": "2024-09-18T02:11:45.702487Z"
    },
    "papermill": {
     "duration": 0.041793,
     "end_time": "2024-09-18T02:11:45.705197",
     "exception": false,
     "start_time": "2024-09-18T02:11:45.663404",
     "status": "completed"
    },
    "tags": []
   },
   "outputs": [],
   "source": [
    "def f1_comp(y_true,y_pred):\n",
    "    f1 = []\n",
    "    for i in range(100): \n",
    "        grnd = y_true >= i\n",
    "        pred = y_pred >= i\n",
    "        f1.append(sklearn.metrics.f1_score(grnd,pred))\n",
    "    return f1\n",
    "\n",
    "def acc_comp(y_true,y_pred):\n",
    "    acc = []\n",
    "    for i in range(100):\n",
    "        grnd = y_true >= i\n",
    "        pred = y_pred >= i\n",
    "        cmp = np.sum(np.equal(grnd,np.squeeze(pred))) \n",
    "        acc.append(cmp/len(grnd)*100)\n",
    "    return acc"
   ]
  },
  {
   "cell_type": "code",
   "execution_count": 58,
   "id": "e09bdbc7",
   "metadata": {
    "execution": {
     "iopub.execute_input": "2024-09-18T02:11:45.770432Z",
     "iopub.status.busy": "2024-09-18T02:11:45.770104Z",
     "iopub.status.idle": "2024-09-18T02:11:45.824663Z",
     "shell.execute_reply": "2024-09-18T02:11:45.823669Z"
    },
    "papermill": {
     "duration": 0.089417,
     "end_time": "2024-09-18T02:11:45.826667",
     "exception": false,
     "start_time": "2024-09-18T02:11:45.737250",
     "status": "completed"
    },
    "tags": []
   },
   "outputs": [
    {
     "name": "stdout",
     "output_type": "stream",
     "text": [
      "Resuming from checkpoint at epoch 17, with minimum test loss 0.20895881936101623.\n"
     ]
    }
   ],
   "source": [
    "# model_name = f'/kaggle/working/model_trained/{name}_loss' + 'no_inv_' + '.pth'\n",
    "# model_name = \"/kaggle/input/eachstation-node-v2/model_trained/CONVERTED_graph_lossno_inv_A2.pth\"\n",
    "device = torch.device('cuda' if torch.cuda.is_available() else 'cpu')\n",
    "loaded_model = MODEL_GNN().to(device)\n",
    "start_epoch, min_test_loss = load_checkpoint(loaded_model, optimizer, lr_scheduler, model_name)\n",
    "# loaded_model.load_state_dict(torch.load(model_name))"
   ]
  },
  {
   "cell_type": "code",
   "execution_count": 59,
   "id": "89e60a8d",
   "metadata": {
    "execution": {
     "iopub.execute_input": "2024-09-18T02:11:45.891772Z",
     "iopub.status.busy": "2024-09-18T02:11:45.891050Z",
     "iopub.status.idle": "2024-09-18T02:11:45.895752Z",
     "shell.execute_reply": "2024-09-18T02:11:45.894818Z"
    },
    "papermill": {
     "duration": 0.03931,
     "end_time": "2024-09-18T02:11:45.897610",
     "exception": false,
     "start_time": "2024-09-18T02:11:45.858300",
     "status": "completed"
    },
    "tags": []
   },
   "outputs": [],
   "source": [
    "import numpy as np\n",
    "import sklearn.metrics\n",
    "import torch\n",
    "from torch.utils.data import DataLoader\n",
    "from tqdm import tqdm"
   ]
  },
  {
   "cell_type": "code",
   "execution_count": 60,
   "id": "fcb5e7aa",
   "metadata": {
    "execution": {
     "iopub.execute_input": "2024-09-18T02:11:45.962629Z",
     "iopub.status.busy": "2024-09-18T02:11:45.961855Z",
     "iopub.status.idle": "2024-09-18T02:18:26.970489Z",
     "shell.execute_reply": "2024-09-18T02:18:26.969529Z"
    },
    "papermill": {
     "duration": 401.043412,
     "end_time": "2024-09-18T02:18:26.972646",
     "exception": false,
     "start_time": "2024-09-18T02:11:45.929234",
     "status": "completed"
    },
    "tags": []
   },
   "outputs": [
    {
     "name": "stderr",
     "output_type": "stream",
     "text": [
      "100%|██████████| 202/202 [06:35<00:00,  1.96s/it]\n"
     ]
    },
    {
     "name": "stdout",
     "output_type": "stream",
     "text": [
      "Total GPU inference time: 395.722344 seconds\n",
      "MAE: 1.146910\n",
      "MSE: 3.240220\n"
     ]
    }
   ],
   "source": [
    "import time\n",
    "import numpy as np\n",
    "import torch\n",
    "from tqdm import tqdm\n",
    "import sklearn.metrics\n",
    "\n",
    "\n",
    "\n",
    "y_true_all = []\n",
    "y_pred_all = []\n",
    "test_los = 0\n",
    "loaded_model.eval()\n",
    "\n",
    "# Start GPU timer\n",
    "start_gpu_time = torch.cuda.Event(enable_timing=True)\n",
    "end_gpu_time = torch.cuda.Event(enable_timing=True)\n",
    "\n",
    "start_gpu_time.record()\n",
    "\n",
    "with torch.no_grad():\n",
    "    for data in tqdm(test_loader, position=0):\n",
    "#         print(data)\n",
    "        data = data.to(device)\n",
    "        out = loaded_model(data)\n",
    "\n",
    "        # Collect true labels and predictions\n",
    "        labels = data.y.cpu().numpy()\n",
    "        y_true_all.extend(labels)\n",
    "        y_pred_all.extend(out.cpu().detach().numpy())\n",
    "\n",
    "        loss = criterion(out, data.y)\n",
    "        test_los += loss.cpu().detach().numpy() / len(test_loader)\n",
    "\n",
    "# End GPU timer\n",
    "end_gpu_time.record()\n",
    "\n",
    "# Waits for everything to finish running on the GPU\n",
    "torch.cuda.synchronize()\n",
    "\n",
    "# Calculate total GPU inference time\n",
    "total_gpu_inference_time = start_gpu_time.elapsed_time(end_gpu_time) / 1000.0  # Convert to seconds\n",
    "print(f\"Total GPU inference time: {total_gpu_inference_time:.6f} seconds\")\n",
    "\n",
    "# Convert collected labels and predictions to numpy arrays\n",
    "y_true_all = np.array(y_true_all)\n",
    "y_pred_all = np.array(y_pred_all)\n",
    "\n",
    "# Apply scaling to the predictions\n",
    "y_true_all = y_true_all * scaler.scale_[-1] + scaler.mean_[-1]\n",
    "y_pred_all = y_pred_all * scaler.scale_[-1] + scaler.mean_[-1]\n",
    "\n",
    "# Calculate F1 scores and accuracy\n",
    "f1_scores = f1_comp(y_true_all, y_pred_all)\n",
    "accuracy_scores = acc_comp(y_true_all, y_pred_all)\n",
    "\n",
    "# Calculate MAE\n",
    "mae = sklearn.metrics.mean_absolute_error(y_true_all, y_pred_all)\n",
    "mse = sklearn.metrics.mean_squared_error(y_true_all, y_pred_all)\n",
    "\n",
    "print(f\"MAE: {mae:.6f}\")\n",
    "print(f\"MSE: {mse:.6f}\")"
   ]
  },
  {
   "cell_type": "code",
   "execution_count": 61,
   "id": "4683338a",
   "metadata": {
    "execution": {
     "iopub.execute_input": "2024-09-18T02:18:27.069907Z",
     "iopub.status.busy": "2024-09-18T02:18:27.069102Z",
     "iopub.status.idle": "2024-09-18T02:18:27.074366Z",
     "shell.execute_reply": "2024-09-18T02:18:27.073455Z"
    },
    "papermill": {
     "duration": 0.055774,
     "end_time": "2024-09-18T02:18:27.076533",
     "exception": false,
     "start_time": "2024-09-18T02:18:27.020759",
     "status": "completed"
    },
    "tags": []
   },
   "outputs": [
    {
     "name": "stdout",
     "output_type": "stream",
     "text": [
      "Test_loss: 0.2089588192872481\n",
      "F1 Scores: 0.0\n",
      "Accuracy Scores: 100.0\n",
      "Mean Absolute Error (MAE): 1.1469098\n"
     ]
    }
   ],
   "source": [
    "# Print results\n",
    "print('Test_loss:', test_los)\n",
    "print(\"F1 Scores:\", f1_scores[-1])\n",
    "print(\"Accuracy Scores:\", accuracy_scores[-1])\n",
    "print(\"Mean Absolute Error (MAE):\", mae)"
   ]
  },
  {
   "cell_type": "code",
   "execution_count": 62,
   "id": "1f0c8d81",
   "metadata": {
    "execution": {
     "iopub.execute_input": "2024-09-18T02:18:27.172273Z",
     "iopub.status.busy": "2024-09-18T02:18:27.171969Z",
     "iopub.status.idle": "2024-09-18T02:18:27.179164Z",
     "shell.execute_reply": "2024-09-18T02:18:27.178208Z"
    },
    "papermill": {
     "duration": 0.057298,
     "end_time": "2024-09-18T02:18:27.181068",
     "exception": false,
     "start_time": "2024-09-18T02:18:27.123770",
     "status": "completed"
    },
    "tags": []
   },
   "outputs": [
    {
     "name": "stdout",
     "output_type": "stream",
     "text": [
      "Results saved to evaluation_results.csv\n"
     ]
    }
   ],
   "source": [
    "import csv\n",
    "\n",
    "# Data to be saved\n",
    "results = {\n",
    "    'Test_loss': test_los,\n",
    "    'F1_Score': f1_scores[-1],\n",
    "    'Accuracy_Score': accuracy_scores[-1],\n",
    "    'MAE': mae\n",
    "}\n",
    "\n",
    "# Save to CSV\n",
    "with open('evaluation_results.csv', mode='w', newline='') as file:\n",
    "    writer = csv.writer(file)\n",
    "    writer.writerow(['Metric', 'Value'])\n",
    "    for key, value in results.items():\n",
    "        writer.writerow([key, value])\n",
    "\n",
    "print('Results saved to evaluation_results.csv')"
   ]
  },
  {
   "cell_type": "code",
   "execution_count": 63,
   "id": "fd95d35d",
   "metadata": {
    "execution": {
     "iopub.execute_input": "2024-09-18T02:18:27.277190Z",
     "iopub.status.busy": "2024-09-18T02:18:27.276854Z",
     "iopub.status.idle": "2024-09-18T02:18:28.191198Z",
     "shell.execute_reply": "2024-09-18T02:18:28.190236Z"
    },
    "papermill": {
     "duration": 0.965795,
     "end_time": "2024-09-18T02:18:28.194330",
     "exception": false,
     "start_time": "2024-09-18T02:18:27.228535",
     "status": "completed"
    },
    "tags": []
   },
   "outputs": [
    {
     "data": {
      "image/png": "[encoded data removed]",
      "text/plain": [
       "<Figure size 1000x600 with 1 Axes>"
      ]
     },
     "metadata": {},
     "output_type": "display_data"
    }
   ],
   "source": [
    "import matplotlib.pyplot as plt\n",
    "\n",
    "# Assuming y_true_all and y_pred_all are defined and properly inverted\n",
    "\n",
    "plt.figure(figsize=(10, 6))\n",
    "plt.scatter(y_true_all, y_pred_all, alpha=0.5)\n",
    "plt.xlabel('True Values')\n",
    "plt.ylabel('Predicted Values')\n",
    "plt.title('True vs Predicted Values')\n",
    "plt.plot([min(y_true_all), max(y_true_all)], [min(y_true_all), max(y_true_all)], color='red', linestyle='--') # Line of equality\n",
    "plt.grid(True)\n",
    "plt.show()\n"
   ]
  },
  {
   "cell_type": "code",
   "execution_count": 64,
   "id": "3902f154",
   "metadata": {
    "execution": {
     "iopub.execute_input": "2024-09-18T02:18:28.295645Z",
     "iopub.status.busy": "2024-09-18T02:18:28.295064Z",
     "iopub.status.idle": "2024-09-18T02:18:45.625770Z",
     "shell.execute_reply": "2024-09-18T02:18:45.624842Z"
    },
    "papermill": {
     "duration": 17.384091,
     "end_time": "2024-09-18T02:18:45.628539",
     "exception": false,
     "start_time": "2024-09-18T02:18:28.244448",
     "status": "completed"
    },
    "tags": []
   },
   "outputs": [
    {
     "data": {
      "image/png": "[encoded data removed]",
      "text/plain": [
       "<Figure size 1000x600 with 1 Axes>"
      ]
     },
     "metadata": {},
     "output_type": "display_data"
    }
   ],
   "source": [
    "import matplotlib.pyplot as plt\n",
    "\n",
    "# Example data for y_true_all and y_pred_all\n",
    "# y_true_all = [your data here]\n",
    "# y_pred_all = [your data here]\n",
    "\n",
    "plt.figure(figsize=(10, 6))\n",
    "\n",
    "# Plotting the true values\n",
    "plt.scatter(range(len(y_true_all)), y_true_all, color='blue', alpha=0.5, label='True Values')\n",
    "\n",
    "# Plotting the predicted values\n",
    "plt.scatter(range(len(y_pred_all)), y_pred_all, color='orange', alpha=0.5, label='Predicted Values')\n",
    "\n",
    "plt.xlabel('Index')\n",
    "plt.ylabel('Values')\n",
    "plt.title('True Values vs Predicted Values')\n",
    "plt.legend()\n",
    "plt.grid(True)\n",
    "plt.show()\n"
   ]
  },
  {
   "cell_type": "code",
   "execution_count": 65,
   "id": "dea0303a",
   "metadata": {
    "execution": {
     "iopub.execute_input": "2024-09-18T02:18:45.736938Z",
     "iopub.status.busy": "2024-09-18T02:18:45.736561Z",
     "iopub.status.idle": "2024-09-18T02:18:45.797058Z",
     "shell.execute_reply": "2024-09-18T02:18:45.796252Z"
    },
    "papermill": {
     "duration": 0.117862,
     "end_time": "2024-09-18T02:18:45.799387",
     "exception": false,
     "start_time": "2024-09-18T02:18:45.681525",
     "status": "completed"
    },
    "tags": []
   },
   "outputs": [],
   "source": [
    "from scipy.stats import norm\n",
    "import numpy as np\n",
    "from scipy import stats\n",
    "import matplotlib.pyplot as plt\n",
    "from matplotlib.transforms import Bbox\n",
    "import plotly.graph_objects as go\n",
    "from scipy.optimize import curve_fit"
   ]
  },
  {
   "cell_type": "code",
   "execution_count": 66,
   "id": "7321393d",
   "metadata": {
    "execution": {
     "iopub.execute_input": "2024-09-18T02:18:45.908361Z",
     "iopub.status.busy": "2024-09-18T02:18:45.907246Z",
     "iopub.status.idle": "2024-09-18T02:18:45.912514Z",
     "shell.execute_reply": "2024-09-18T02:18:45.911708Z"
    },
    "papermill": {
     "duration": 0.061052,
     "end_time": "2024-09-18T02:18:45.914504",
     "exception": false,
     "start_time": "2024-09-18T02:18:45.853452",
     "status": "completed"
    },
    "tags": []
   },
   "outputs": [],
   "source": [
    "def cuts(datain,datacheck,minval,maxval):\n",
    "    dataout = datain[np.logical_and(datacheck > minval, datacheck < maxval)]\n",
    "    \n",
    "    return(dataout)"
   ]
  },
  {
   "cell_type": "code",
   "execution_count": 67,
   "id": "6b712241",
   "metadata": {
    "execution": {
     "iopub.execute_input": "2024-09-18T02:18:46.021806Z",
     "iopub.status.busy": "2024-09-18T02:18:46.021435Z",
     "iopub.status.idle": "2024-09-18T02:18:46.034871Z",
     "shell.execute_reply": "2024-09-18T02:18:46.033950Z"
    },
    "papermill": {
     "duration": 0.069354,
     "end_time": "2024-09-18T02:18:46.036772",
     "exception": false,
     "start_time": "2024-09-18T02:18:45.967418",
     "status": "completed"
    },
    "tags": []
   },
   "outputs": [],
   "source": [
    "def plotgaussian(modelname, modelorreco, space, true, pred, varname, lower, upper, bins):\n",
    "    resmeans = []\n",
    "    stdevs = []\n",
    "    bincenters = []\n",
    "    samples = []\n",
    "    \n",
    "    #Compute residuals and bin width\n",
    "    width = (upper - lower) / bins\n",
    "    true = cuts(true, pred, lower, upper)\n",
    "    pred = cuts(pred, pred, lower, upper)\n",
    "    pred = cuts(pred, true, lower, upper)\n",
    "    true = cuts(true, true, lower, upper)\n",
    "    \n",
    "    resids = true - pred\n",
    "    \n",
    "    #Create gaussian plot for each bin\n",
    "    for i in range(bins):\n",
    "        #Find bin dimensions\n",
    "        lowertemp = lower + width * i\n",
    "        uppertemp = lower + width * (i + 1)\n",
    "        bincentertemp = (uppertemp + lowertemp) / 2\n",
    "        \n",
    "        #Cut the residuals to within lower and upper range along true values\n",
    "        residscut = cuts(resids, \n",
    "                         true, \n",
    "                         lowertemp, \n",
    "                         uppertemp)\n",
    "        \n",
    "        varnametemp = '%s Residuals Distribution (%.2f to %.2f)' % (varname, \n",
    "                                                                    lowertemp, \n",
    "                                                                    uppertemp)\n",
    "        residscut.sort()\n",
    "        \n",
    "        #Computer statistics for residuals\n",
    "        resmeantemp, resstdtemp = norm.fit(residscut)\n",
    "        samplestemp = len(residscut)\n",
    "        pdf = stats.norm.pdf(residscut, resmeantemp, resstdtemp)\n",
    "        \n",
    "        #Plot histogram of residuals\n",
    "        plt.hist(residscut, \n",
    "                 bins=bins, \n",
    "                 histtype='step', \n",
    "                 color='blue', \n",
    "                 density=1, \n",
    "                 label='Residuals')\n",
    "        \n",
    "        #Plot the normal curve fitted to the residuals\n",
    "        plt.plot(residscut, \n",
    "                 pdf, \n",
    "                 label='Normal Curve', \n",
    "                 color='black')\n",
    "        plt.title(varnametemp)\n",
    "        \n",
    "        #Plot the residuals mean as a vertical line\n",
    "        plt.axvline(resmeantemp, \n",
    "                    label='Mean: %.2f' % resmeantemp, \n",
    "                    color='red')\n",
    "        plt.xlabel('Stdev: %.2f (samples: %.i)' % (resstdtemp, \n",
    "                                                   samplestemp))\n",
    "        \n",
    "        #Plot the full-width half maximum range\n",
    "        plt.axvspan(resmeantemp - resstdtemp / 2,\n",
    "                    resmeantemp + resstdtemp / 2,\n",
    "                    facecolor='g',\n",
    "                    alpha=.3,\n",
    "                    label='Stdev')        \n",
    "        plt.legend()\n",
    "        plt.savefig(f\"{space}_gaussian.png\", bbox_inches='tight')\n",
    "        plt.close()\n",
    "        \n",
    "        #Append values to lists to be used by scatter() function\n",
    "        resmeans.append(resmeantemp)\n",
    "        samples.append(samplestemp)\n",
    "        stdevs.append(resstdtemp)\n",
    "        bincenters.append(bincentertemp)\n",
    "    \n",
    "    resmean = np.mean(resids)\n",
    "    stddev = np.std(resids)    \n",
    "    \n",
    "    return resmeans, stdevs, bincenters, samples, resmean, stddev"
   ]
  },
  {
   "cell_type": "code",
   "execution_count": 68,
   "id": "a0847650",
   "metadata": {
    "execution": {
     "iopub.execute_input": "2024-09-18T02:18:46.144273Z",
     "iopub.status.busy": "2024-09-18T02:18:46.143924Z",
     "iopub.status.idle": "2024-09-18T02:19:20.131928Z",
     "shell.execute_reply": "2024-09-18T02:19:20.131064Z"
    },
    "papermill": {
     "duration": 34.04501,
     "end_time": "2024-09-18T02:19:20.134523",
     "exception": false,
     "start_time": "2024-09-18T02:18:46.089513",
     "status": "completed"
    },
    "tags": []
   },
   "outputs": [],
   "source": [
    "resmeans, fwhms, bincenters, samples, resmean, stddev = \\\n",
    "    plotgaussian(model_name, \n",
    "                 'Model', \n",
    "                 \"/kaggle/working/\", \n",
    "                 y_true_all, \n",
    "                 y_pred_all, \n",
    "                 'pT', \n",
    "                 min_PT, \n",
    "                 max_pT, \n",
    "                 100)"
   ]
  },
  {
   "cell_type": "code",
   "execution_count": 69,
   "id": "8336e211",
   "metadata": {
    "execution": {
     "iopub.execute_input": "2024-09-18T02:19:20.254519Z",
     "iopub.status.busy": "2024-09-18T02:19:20.253825Z",
     "iopub.status.idle": "2024-09-18T02:19:20.264176Z",
     "shell.execute_reply": "2024-09-18T02:19:20.263141Z"
    },
    "papermill": {
     "duration": 0.078786,
     "end_time": "2024-09-18T02:19:20.266157",
     "exception": false,
     "start_time": "2024-09-18T02:19:20.187371",
     "status": "completed"
    },
    "tags": []
   },
   "outputs": [],
   "source": [
    "def heatmap(modelname, modelorreco, space, true, pred, varname, lower, upper, bins):\n",
    "    #Get histogram dimensions and data using numpy\n",
    "    heatmap, xedges, yedges = np.histogram2d(true, \n",
    "                                             pred, \n",
    "                                             bins=bins, \n",
    "                                             range=[[lower, upper], [lower, upper]])\n",
    "    extent = [xedges[0], xedges[-1], yedges[0], yedges[-1]]\n",
    "    \n",
    "    #Plot heatmap\n",
    "    plt.imshow(heatmap.T, \n",
    "               extent=extent, \n",
    "               origin='lower')\n",
    "    plt.plot([lower, upper], \n",
    "             [lower, upper], \n",
    "             color='blue')\n",
    "    fig = plt.gcf()\n",
    "    plt.set_cmap('gist_heat_r')\n",
    "    plt.xlabel('%s True' % varname)\n",
    "    plt.ylabel('%s Pred' % varname)\n",
    "    plt.title('Frequency Heatmap')\n",
    "    plt.xlim(lower, upper)\n",
    "    plt.ylim(lower, upper)\n",
    "    plt.colorbar()\n",
    "    fig.savefig(f\"{space}_heatmap.png\")\n",
    "    plt.plot()\n",
    "    plt.close()"
   ]
  },
  {
   "cell_type": "code",
   "execution_count": 70,
   "id": "13bf87e8",
   "metadata": {
    "execution": {
     "iopub.execute_input": "2024-09-18T02:19:20.377337Z",
     "iopub.status.busy": "2024-09-18T02:19:20.376619Z",
     "iopub.status.idle": "2024-09-18T02:19:20.613847Z",
     "shell.execute_reply": "2024-09-18T02:19:20.613090Z"
    },
    "papermill": {
     "duration": 0.293264,
     "end_time": "2024-09-18T02:19:20.616215",
     "exception": false,
     "start_time": "2024-09-18T02:19:20.322951",
     "status": "completed"
    },
    "tags": []
   },
   "outputs": [],
   "source": [
    "heatmap(model_name, \n",
    "            'Model', \n",
    "            \"/kaggle/working/\", \n",
    "            y_true_all, \n",
    "            y_pred_all, \n",
    "            'pT', \n",
    "            min_PT, \n",
    "            12, \n",
    "            50)"
   ]
  },
  {
   "cell_type": "code",
   "execution_count": 71,
   "id": "f64f844d",
   "metadata": {
    "execution": {
     "iopub.execute_input": "2024-09-18T02:19:20.723097Z",
     "iopub.status.busy": "2024-09-18T02:19:20.722759Z",
     "iopub.status.idle": "2024-09-18T02:19:20.736898Z",
     "shell.execute_reply": "2024-09-18T02:19:20.735998Z"
    },
    "papermill": {
     "duration": 0.069959,
     "end_time": "2024-09-18T02:19:20.738742",
     "exception": false,
     "start_time": "2024-09-18T02:19:20.668783",
     "status": "completed"
    },
    "tags": []
   },
   "outputs": [],
   "source": [
    "def scatter(modelname, space, metrics, bincenters, samples, varname, prednames, metricname):\n",
    "    bincenters = np.array(bincenters)\n",
    "    #Check that the bin centers match between the two datasets\n",
    "    if (np.std(bincenters[:,0]) > .0001) or (np.std(bincenters[:,-1]) > .0001):\n",
    "        print('Scatter plot failed due to different bincenters')\n",
    "        print(bincenters)\n",
    "        return\n",
    "    else:\n",
    "        #Create subplots for scatter and ratio\n",
    "        fig,axs = plt.subplots(2, gridspec_kw={'height_ratios':[3,1]})\n",
    "        axs[0].set_ylabel(metricname)\n",
    "        axs[0].set_title('Residuals %s vs %s' % (metricname,\n",
    "                                                varname))\n",
    "        \n",
    "        for i in range(len(prednames)):\n",
    "            #Find the width and range of bins\n",
    "            width = (bincenters[i][-1] - bincenters[i][-2]) / 2\n",
    "            lower = min(bincenters[i]) - width\n",
    "            upper = max(bincenters[i]) + width        \n",
    "\n",
    "#             if i == 0:\n",
    "#                   dif1 = np.abs(metrics[i])\n",
    "#             elif i == 1:\n",
    "#                   dif2 = np.abs(metrics[i])\n",
    "                    \n",
    "            if i == 0:\n",
    "                  metric1 = np.array(metrics[i])\n",
    "            elif i == 1:\n",
    "                  metric2 = np.array(metrics[i])\n",
    "\n",
    "            print(np.shape(metrics))\n",
    "            #Create the scatterplot\n",
    "            axs[0].scatter(bincenters[i], \n",
    "                           metrics[i], \n",
    "                           label=prednames[i])\n",
    "            axs[0].axhline(y=0)\n",
    "\n",
    "\n",
    "            #Use standard error of the mean for y error and bin width for x error\n",
    "            axs[0].errorbar(bincenters[i],\n",
    "                            metrics[i],\n",
    "                            xerr=(bincenters[i][-1] - bincenters[i][-2]) / 2,\n",
    "                            yerr=metrics[i] / np.sqrt(samples[i]),\n",
    "                            linestyle='')\n",
    "        axs[0].legend()\n",
    "        axs[0].set_xlim([lower,upper])\n",
    "        \n",
    "#         dif = dif1 - dif2\n",
    "#         #Create ratio subplot\n",
    "#         axs[1].scatter(bincenters[0], dif)\n",
    "#         axs[1].axhline(y=0)\n",
    "#         axs[1].set_xlim([lower, upper])\n",
    "#         axs[1].set_ylabel('|%s| - |%s|' % (prednames[0], prednames[1]))\n",
    "#         axs[1].set_xlabel('%s' % varname)\n",
    "        \n",
    "        #Plot ratio subplot for first 2 data sets\n",
    "        axs[1].scatter(bincenters[i], metric1 / metric2)\n",
    "        axs[1].axhline(y=1)\n",
    "        axs[1].set_xlim([lower,upper])\n",
    "        axs[1].set_ylim([0.5,2.0])\n",
    "        axs[1].set_yscale('log', basey=2)\n",
    "        axs[1].set_ylabel('%s / %s' % (prednames[0],\n",
    "                                       prednames[1]))\n",
    "        axs[1].set_xlabel('%s' % varname)\n",
    "        \n",
    "        #Save plot\n",
    "        fig.savefig('./Plots/%s/Comparison/%s/%s_%s_scatter' % (modelname, \n",
    "                                                                space,\n",
    "                                                                varname,\n",
    "                                                                metricname), bbox_inches='tight')\n",
    "        plt.close()"
   ]
  },
  {
   "cell_type": "code",
   "execution_count": 72,
   "id": "1e5cff59",
   "metadata": {
    "execution": {
     "iopub.execute_input": "2024-09-18T02:19:20.845179Z",
     "iopub.status.busy": "2024-09-18T02:19:20.844829Z",
     "iopub.status.idle": "2024-09-18T02:19:20.855881Z",
     "shell.execute_reply": "2024-09-18T02:19:20.854673Z"
    },
    "papermill": {
     "duration": 0.066961,
     "end_time": "2024-09-18T02:19:20.858478",
     "exception": false,
     "start_time": "2024-09-18T02:19:20.791517",
     "status": "completed"
    },
    "scrolled": true,
    "tags": []
   },
   "outputs": [],
   "source": [
    "from torch.profiler import profile, record_function, ProfilerActivity\n",
    "device = torch.device(\"cuda\" if torch.cuda.is_available() else \"cpu\")\n",
    "     \n",
    "\n",
    "def profile_model(model, inputs, num_runs=100):\n",
    "    total_time = 0\n",
    "    for _ in range(num_runs):\n",
    "        with profile(activities=[ProfilerActivity.CUDA], record_shapes=True) as prof:\n",
    "            model(inputs)\n",
    "\n",
    "        # Extract total CUDA time spent on 'model_inference'\n",
    "        for event in prof.key_averages():\n",
    "            total_time += event.cuda_time_total\n",
    "\n",
    "    average_time = total_time / num_runs\n",
    "    print(f\"Average inference time: {average_time} microseconds\")\n",
    "     \n",
    "# test_loader_2 = DataLoader(Graph_dataset(filtered_df, label, edge_index , test_idx), batch_size=1)\n",
    "# inputs = next(iter(test_loader_2))\n",
    "# inputs = inputs.to(device)\n",
    "inputs = train_dataset[20].to(device)\n",
    "# model = ...\n",
    "# profile_model(loaded_model, inputs, 1000)"
   ]
  },
  {
   "cell_type": "code",
   "execution_count": 73,
   "id": "b2b76641",
   "metadata": {
    "execution": {
     "iopub.execute_input": "2024-09-18T02:19:20.965448Z",
     "iopub.status.busy": "2024-09-18T02:19:20.964601Z",
     "iopub.status.idle": "2024-09-18T02:19:20.968509Z",
     "shell.execute_reply": "2024-09-18T02:19:20.967668Z"
    },
    "papermill": {
     "duration": 0.059214,
     "end_time": "2024-09-18T02:19:20.970426",
     "exception": false,
     "start_time": "2024-09-18T02:19:20.911212",
     "status": "completed"
    },
    "tags": []
   },
   "outputs": [],
   "source": [
    "# next(iter(Graph_dataset))"
   ]
  },
  {
   "cell_type": "code",
   "execution_count": 74,
   "id": "276dafb4",
   "metadata": {
    "execution": {
     "iopub.execute_input": "2024-09-18T02:19:21.076694Z",
     "iopub.status.busy": "2024-09-18T02:19:21.076046Z",
     "iopub.status.idle": "2024-09-18T02:19:21.080133Z",
     "shell.execute_reply": "2024-09-18T02:19:21.079275Z"
    },
    "papermill": {
     "duration": 0.059226,
     "end_time": "2024-09-18T02:19:21.082151",
     "exception": false,
     "start_time": "2024-09-18T02:19:21.022925",
     "status": "completed"
    },
    "tags": []
   },
   "outputs": [],
   "source": [
    "# test_loader_2 = DataLoader(Graph_dataset(filtered_df, label, edge_index , test_idx), batch_size=1)"
   ]
  },
  {
   "cell_type": "code",
   "execution_count": null,
   "id": "6b5f28c4",
   "metadata": {
    "papermill": {
     "duration": 0.052806,
     "end_time": "2024-09-18T02:19:21.187110",
     "exception": false,
     "start_time": "2024-09-18T02:19:21.134304",
     "status": "completed"
    },
    "tags": []
   },
   "outputs": [],
   "source": []
  }
 ],
 "metadata": {
  "kaggle": {
   "accelerator": "gpu",
   "dataSources": [
    {
     "datasetId": 1424568,
     "sourceId": 2358933,
     "sourceType": "datasetVersion"
    },
    {
     "sourceId": 183753103,
     "sourceType": "kernelVersion"
    },
    {
     "sourceId": 187178090,
     "sourceType": "kernelVersion"
    },
    {
     "sourceId": 187708631,
     "sourceType": "kernelVersion"
    },
    {
     "sourceId": 194832577,
     "sourceType": "kernelVersion"
    },
    {
     "sourceId": 195107410,
     "sourceType": "kernelVersion"
    }
   ],
   "dockerImageVersionId": 30733,
   "isGpuEnabled": true,
   "isInternetEnabled": true,
   "language": "python",
   "sourceType": "notebook"
  },
  "kernelspec": {
   "display_name": "Python 3",
   "language": "python",
   "name": "python3"
  },
  "language_info": {
   "codemirror_mode": {
    "name": "ipython",
    "version": 3
   },
   "file_extension": ".py",
   "mimetype": "text/x-python",
   "name": "python",
   "nbconvert_exporter": "python",
   "pygments_lexer": "ipython3",
   "version": "3.10.13"
  },
  "papermill": {
   "default_parameters": {},
   "duration": 36252.420267,
   "end_time": "2024-09-18T02:19:24.795772",
   "environment_variables": {},
   "exception": null,
   "input_path": "__notebook__.ipynb",
   "output_path": "__notebook__.ipynb",
   "parameters": {},
   "start_time": "2024-09-17T16:15:12.375505",
   "version": "2.5.0"
  },
  "widgets": {
   "application/vnd.jupyter.widget-state+json": {
    "state": {
     "01c954ffd98143f5b5d72e6628ab5cf7": {
      "model_module": "@jupyter-widgets/controls",
      "model_module_version": "1.5.0",
      "model_name": "HBoxModel",
      "state": {
       "_dom_classes": [],
       "_model_module": "@jupyter-widgets/controls",
       "_model_module_version": "1.5.0",
       "_model_name": "HBoxModel",
       "_view_count": null,
       "_view_module": "@jupyter-widgets/controls",
       "_view_module_version": "1.5.0",
       "_view_name": "HBoxView",
       "box_style": "",
       "children": [
        "IPY_MODEL_f54998f664b141ff9177b1134045fc85",
        "IPY_MODEL_10522030815a4990a198f9fc9276cf59",
        "IPY_MODEL_f3dbd4e9f645429a94a898c662252bde"
       ],
       "layout": "IPY_MODEL_66cfc6b3d43a45eb8476d59e2dd69447"
      }
     },
     "0266aaefbc584a5ebd124cd61566e603": {
      "model_module": "@jupyter-widgets/controls",
      "model_module_version": "1.5.0",
      "model_name": "HBoxModel",
      "state": {
       "_dom_classes": [],
       "_model_module": "@jupyter-widgets/controls",
       "_model_module_version": "1.5.0",
       "_model_name": "HBoxModel",
       "_view_count": null,
       "_view_module": "@jupyter-widgets/controls",
       "_view_module_version": "1.5.0",
       "_view_name": "HBoxView",
       "box_style": "",
       "children": [
        "IPY_MODEL_b00473a0ab71481abddd6aee143aa986",
        "IPY_MODEL_8b8539b986e7482fb994f6dd01ac0a78",
        "IPY_MODEL_f6ab9daefdf543c994727db9c15312e4"
       ],
       "layout": "IPY_MODEL_236363e4dbaf424ea1a36a61bba4cca8"
      }
     },
     "02aafeec9b70418d9107c59077c755b2": {
      "model_module": "@jupyter-widgets/controls",
      "model_module_version": "1.5.0",
      "model_name": "HTMLModel",
      "state": {
       "_dom_classes": [],
       "_model_module": "@jupyter-widgets/controls",
       "_model_module_version": "1.5.0",
       "_model_name": "HTMLModel",
       "_view_count": null,
       "_view_module": "@jupyter-widgets/controls",
       "_view_module_version": "1.5.0",
       "_view_name": "HTMLView",
       "description": "",
       "description_tooltip": null,
       "layout": "IPY_MODEL_8edefe01ac724cec8f299c58f84710bd",
       "placeholder": "​",
       "style": "IPY_MODEL_fc3a195fb7fb4c118cd964504fa6bfdf",
       "value": " 805/805 [26:22&lt;00:00,  1.60s/it]"
      }
     },
     "04e39855ef5f440db2a65cf5e7730b12": {
      "model_module": "@jupyter-widgets/base",
      "model_module_version": "1.2.0",
      "model_name": "LayoutModel",
      "state": {
       "_model_module": "@jupyter-widgets/base",
       "_model_module_version": "1.2.0",
       "_model_name": "LayoutModel",
       "_view_count": null,
       "_view_module": "@jupyter-widgets/base",
       "_view_module_version": "1.2.0",
       "_view_name": "LayoutView",
       "align_content": null,
       "align_items": null,
       "align_self": null,
       "border": null,
       "bottom": null,
       "display": null,
       "flex": null,
       "flex_flow": null,
       "grid_area": null,
       "grid_auto_columns": null,
       "grid_auto_flow": null,
       "grid_auto_rows": null,
       "grid_column": null,
       "grid_gap": null,
       "grid_row": null,
       "grid_template_areas": null,
       "grid_template_columns": null,
       "grid_template_rows": null,
       "height": null,
       "justify_content": null,
       "justify_items": null,
       "left": null,
       "margin": null,
       "max_height": null,
       "max_width": null,
       "min_height": null,
       "min_width": null,
       "object_fit": null,
       "object_position": null,
       "order": null,
       "overflow": null,
       "overflow_x": null,
       "overflow_y": null,
       "padding": null,
       "right": null,
       "top": null,
       "visibility": null,
       "width": null
      }
     },
     "0778fa2645194c41959720fd9f4c97ad": {
      "model_module": "@jupyter-widgets/controls",
      "model_module_version": "1.5.0",
      "model_name": "HTMLModel",
      "state": {
       "_dom_classes": [],
       "_model_module": "@jupyter-widgets/controls",
       "_model_module_version": "1.5.0",
       "_model_name": "HTMLModel",
       "_view_count": null,
       "_view_module": "@jupyter-widgets/controls",
       "_view_module_version": "1.5.0",
       "_view_name": "HTMLView",
       "description": "",
       "description_tooltip": null,
       "layout": "IPY_MODEL_a0cc104f5db647b8991ed7b82d8537e4",
       "placeholder": "​",
       "style": "IPY_MODEL_5379dc2704914a8592e19e26f52295c5",
       "value": "MSEError: 0.20563580095767975: 100%"
      }
     },
     "0979991de065468186700da8bc152f90": {
      "model_module": "@jupyter-widgets/controls",
      "model_module_version": "1.5.0",
      "model_name": "FloatProgressModel",
      "state": {
       "_dom_classes": [],
       "_model_module": "@jupyter-widgets/controls",
       "_model_module_version": "1.5.0",
       "_model_name": "FloatProgressModel",
       "_view_count": null,
       "_view_module": "@jupyter-widgets/controls",
       "_view_module_version": "1.5.0",
       "_view_name": "ProgressView",
       "bar_style": "success",
       "description": "",
       "description_tooltip": null,
       "layout": "IPY_MODEL_6f6aa0c381714f28b5403f4356a300a0",
       "max": 805.0,
       "min": 0.0,
       "orientation": "horizontal",
       "style": "IPY_MODEL_254cba9bacc74df7b7d65932bbfa9e33",
       "value": 805.0
      }
     },
     "0ad2b46c1198418ab42d5d874b63a01d": {
      "model_module": "@jupyter-widgets/controls",
      "model_module_version": "1.5.0",
      "model_name": "ProgressStyleModel",
      "state": {
       "_model_module": "@jupyter-widgets/controls",
       "_model_module_version": "1.5.0",
       "_model_name": "ProgressStyleModel",
       "_view_count": null,
       "_view_module": "@jupyter-widgets/base",
       "_view_module_version": "1.2.0",
       "_view_name": "StyleView",
       "bar_color": null,
       "description_width": ""
      }
     },
     "0c02bb5b5936418dad9d67a9baaf0a17": {
      "model_module": "@jupyter-widgets/controls",
      "model_module_version": "1.5.0",
      "model_name": "FloatProgressModel",
      "state": {
       "_dom_classes": [],
       "_model_module": "@jupyter-widgets/controls",
       "_model_module_version": "1.5.0",
       "_model_name": "FloatProgressModel",
       "_view_count": null,
       "_view_module": "@jupyter-widgets/controls",
       "_view_module_version": "1.5.0",
       "_view_name": "ProgressView",
       "bar_style": "success",
       "description": "",
       "description_tooltip": null,
       "layout": "IPY_MODEL_e2689904c55443f198543ed519e36204",
       "max": 805.0,
       "min": 0.0,
       "orientation": "horizontal",
       "style": "IPY_MODEL_572c89ec9768416aae8caaa1253b1005",
       "value": 805.0
      }
     },
     "0e291d577dbb4d12bdf99e2ded35280a": {
      "model_module": "@jupyter-widgets/base",
      "model_module_version": "1.2.0",
      "model_name": "LayoutModel",
      "state": {
       "_model_module": "@jupyter-widgets/base",
       "_model_module_version": "1.2.0",
       "_model_name": "LayoutModel",
       "_view_count": null,
       "_view_module": "@jupyter-widgets/base",
       "_view_module_version": "1.2.0",
       "_view_name": "LayoutView",
       "align_content": null,
       "align_items": null,
       "align_self": null,
       "border": null,
       "bottom": null,
       "display": null,
       "flex": null,
       "flex_flow": null,
       "grid_area": null,
       "grid_auto_columns": null,
       "grid_auto_flow": null,
       "grid_auto_rows": null,
       "grid_column": null,
       "grid_gap": null,
       "grid_row": null,
       "grid_template_areas": null,
       "grid_template_columns": null,
       "grid_template_rows": null,
       "height": null,
       "justify_content": null,
       "justify_items": null,
       "left": null,
       "margin": null,
       "max_height": null,
       "max_width": null,
       "min_height": null,
       "min_width": null,
       "object_fit": null,
       "object_position": null,
       "order": null,
       "overflow": null,
       "overflow_x": null,
       "overflow_y": null,
       "padding": null,
       "right": null,
       "top": null,
       "visibility": null,
       "width": null
      }
     },
     "0e39d686ee9444ce81fd9c5750cd5a4e": {
      "model_module": "@jupyter-widgets/controls",
      "model_module_version": "1.5.0",
      "model_name": "HTMLModel",
      "state": {
       "_dom_classes": [],
       "_model_module": "@jupyter-widgets/controls",
       "_model_module_version": "1.5.0",
       "_model_name": "HTMLModel",
       "_view_count": null,
       "_view_module": "@jupyter-widgets/controls",
       "_view_module_version": "1.5.0",
       "_view_name": "HTMLView",
       "description": "",
       "description_tooltip": null,
       "layout": "IPY_MODEL_ff15c232263f470e81dba693a3f40068",
       "placeholder": "​",
       "style": "IPY_MODEL_f235757176a044e99944a1fbae3dae83",
       "value": " 805/805 [26:26&lt;00:00,  1.59s/it]"
      }
     },
     "0e45422a120445fb927894e2362bd20e": {
      "model_module": "@jupyter-widgets/controls",
      "model_module_version": "1.5.0",
      "model_name": "DescriptionStyleModel",
      "state": {
       "_model_module": "@jupyter-widgets/controls",
       "_model_module_version": "1.5.0",
       "_model_name": "DescriptionStyleModel",
       "_view_count": null,
       "_view_module": "@jupyter-widgets/base",
       "_view_module_version": "1.2.0",
       "_view_name": "StyleView",
       "description_width": ""
      }
     },
     "10522030815a4990a198f9fc9276cf59": {
      "model_module": "@jupyter-widgets/controls",
      "model_module_version": "1.5.0",
      "model_name": "FloatProgressModel",
      "state": {
       "_dom_classes": [],
       "_model_module": "@jupyter-widgets/controls",
       "_model_module_version": "1.5.0",
       "_model_name": "FloatProgressModel",
       "_view_count": null,
       "_view_module": "@jupyter-widgets/controls",
       "_view_module_version": "1.5.0",
       "_view_name": "ProgressView",
       "bar_style": "success",
       "description": "",
       "description_tooltip": null,
       "layout": "IPY_MODEL_8ee10e9c93f4478ca282cc0aec6cdd31",
       "max": 805.0,
       "min": 0.0,
       "orientation": "horizontal",
       "style": "IPY_MODEL_abb10936703b4c1894d488e2b3ffa33c",
       "value": 805.0
      }
     },
     "11407c0d90ee4fbe91f58bb49e6650eb": {
      "model_module": "@jupyter-widgets/controls",
      "model_module_version": "1.5.0",
      "model_name": "ProgressStyleModel",
      "state": {
       "_model_module": "@jupyter-widgets/controls",
       "_model_module_version": "1.5.0",
       "_model_name": "ProgressStyleModel",
       "_view_count": null,
       "_view_module": "@jupyter-widgets/base",
       "_view_module_version": "1.2.0",
       "_view_name": "StyleView",
       "bar_color": null,
       "description_width": ""
      }
     },
     "1469daa13990464aa81381fbdb5482a8": {
      "model_module": "@jupyter-widgets/controls",
      "model_module_version": "1.5.0",
      "model_name": "DescriptionStyleModel",
      "state": {
       "_model_module": "@jupyter-widgets/controls",
       "_model_module_version": "1.5.0",
       "_model_name": "DescriptionStyleModel",
       "_view_count": null,
       "_view_module": "@jupyter-widgets/base",
       "_view_module_version": "1.2.0",
       "_view_name": "StyleView",
       "description_width": ""
      }
     },
     "149bdb7679c948739bebd3d523c5761e": {
      "model_module": "@jupyter-widgets/base",
      "model_module_version": "1.2.0",
      "model_name": "LayoutModel",
      "state": {
       "_model_module": "@jupyter-widgets/base",
       "_model_module_version": "1.2.0",
       "_model_name": "LayoutModel",
       "_view_count": null,
       "_view_module": "@jupyter-widgets/base",
       "_view_module_version": "1.2.0",
       "_view_name": "LayoutView",
       "align_content": null,
       "align_items": null,
       "align_self": null,
       "border": null,
       "bottom": null,
       "display": null,
       "flex": null,
       "flex_flow": null,
       "grid_area": null,
       "grid_auto_columns": null,
       "grid_auto_flow": null,
       "grid_auto_rows": null,
       "grid_column": null,
       "grid_gap": null,
       "grid_row": null,
       "grid_template_areas": null,
       "grid_template_columns": null,
       "grid_template_rows": null,
       "height": null,
       "justify_content": null,
       "justify_items": null,
       "left": null,
       "margin": null,
       "max_height": null,
       "max_width": null,
       "min_height": null,
       "min_width": null,
       "object_fit": null,
       "object_position": null,
       "order": null,
       "overflow": null,
       "overflow_x": null,
       "overflow_y": null,
       "padding": null,
       "right": null,
       "top": null,
       "visibility": null,
       "width": null
      }
     },
     "15876fc27f514a60830f6d94f0ffdb88": {
      "model_module": "@jupyter-widgets/base",
      "model_module_version": "1.2.0",
      "model_name": "LayoutModel",
      "state": {
       "_model_module": "@jupyter-widgets/base",
       "_model_module_version": "1.2.0",
       "_model_name": "LayoutModel",
       "_view_count": null,
       "_view_module": "@jupyter-widgets/base",
       "_view_module_version": "1.2.0",
       "_view_name": "LayoutView",
       "align_content": null,
       "align_items": null,
       "align_self": null,
       "border": null,
       "bottom": null,
       "display": null,
       "flex": null,
       "flex_flow": null,
       "grid_area": null,
       "grid_auto_columns": null,
       "grid_auto_flow": null,
       "grid_auto_rows": null,
       "grid_column": null,
       "grid_gap": null,
       "grid_row": null,
       "grid_template_areas": null,
       "grid_template_columns": null,
       "grid_template_rows": null,
       "height": null,
       "justify_content": null,
       "justify_items": null,
       "left": null,
       "margin": null,
       "max_height": null,
       "max_width": null,
       "min_height": null,
       "min_width": null,
       "object_fit": null,
       "object_position": null,
       "order": null,
       "overflow": null,
       "overflow_x": null,
       "overflow_y": null,
       "padding": null,
       "right": null,
       "top": null,
       "visibility": null,
       "width": null
      }
     },
     "15f5e4b7d6044683b05f2a56acea39e6": {
      "model_module": "@jupyter-widgets/base",
      "model_module_version": "1.2.0",
      "model_name": "LayoutModel",
      "state": {
       "_model_module": "@jupyter-widgets/base",
       "_model_module_version": "1.2.0",
       "_model_name": "LayoutModel",
       "_view_count": null,
       "_view_module": "@jupyter-widgets/base",
       "_view_module_version": "1.2.0",
       "_view_name": "LayoutView",
       "align_content": null,
       "align_items": null,
       "align_self": null,
       "border": null,
       "bottom": null,
       "display": null,
       "flex": null,
       "flex_flow": null,
       "grid_area": null,
       "grid_auto_columns": null,
       "grid_auto_flow": null,
       "grid_auto_rows": null,
       "grid_column": null,
       "grid_gap": null,
       "grid_row": null,
       "grid_template_areas": null,
       "grid_template_columns": null,
       "grid_template_rows": null,
       "height": null,
       "justify_content": null,
       "justify_items": null,
       "left": null,
       "margin": null,
       "max_height": null,
       "max_width": null,
       "min_height": null,
       "min_width": null,
       "object_fit": null,
       "object_position": null,
       "order": null,
       "overflow": null,
       "overflow_x": null,
       "overflow_y": null,
       "padding": null,
       "right": null,
       "top": null,
       "visibility": null,
       "width": null
      }
     },
     "176da0d342de4154a8b74a6423a5a6e5": {
      "model_module": "@jupyter-widgets/controls",
      "model_module_version": "1.5.0",
      "model_name": "DescriptionStyleModel",
      "state": {
       "_model_module": "@jupyter-widgets/controls",
       "_model_module_version": "1.5.0",
       "_model_name": "DescriptionStyleModel",
       "_view_count": null,
       "_view_module": "@jupyter-widgets/base",
       "_view_module_version": "1.2.0",
       "_view_name": "StyleView",
       "description_width": ""
      }
     },
     "19248acc0ad247df870c5c36eaf25030": {
      "model_module": "@jupyter-widgets/base",
      "model_module_version": "1.2.0",
      "model_name": "LayoutModel",
      "state": {
       "_model_module": "@jupyter-widgets/base",
       "_model_module_version": "1.2.0",
       "_model_name": "LayoutModel",
       "_view_count": null,
       "_view_module": "@jupyter-widgets/base",
       "_view_module_version": "1.2.0",
       "_view_name": "LayoutView",
       "align_content": null,
       "align_items": null,
       "align_self": null,
       "border": null,
       "bottom": null,
       "display": null,
       "flex": null,
       "flex_flow": null,
       "grid_area": null,
       "grid_auto_columns": null,
       "grid_auto_flow": null,
       "grid_auto_rows": null,
       "grid_column": null,
       "grid_gap": null,
       "grid_row": null,
       "grid_template_areas": null,
       "grid_template_columns": null,
       "grid_template_rows": null,
       "height": null,
       "justify_content": null,
       "justify_items": null,
       "left": null,
       "margin": null,
       "max_height": null,
       "max_width": null,
       "min_height": null,
       "min_width": null,
       "object_fit": null,
       "object_position": null,
       "order": null,
       "overflow": null,
       "overflow_x": null,
       "overflow_y": null,
       "padding": null,
       "right": null,
       "top": null,
       "visibility": null,
       "width": null
      }
     },
     "1b8df248617a4bdca3e3bb8d5267bc33": {
      "model_module": "@jupyter-widgets/controls",
      "model_module_version": "1.5.0",
      "model_name": "DescriptionStyleModel",
      "state": {
       "_model_module": "@jupyter-widgets/controls",
       "_model_module_version": "1.5.0",
       "_model_name": "DescriptionStyleModel",
       "_view_count": null,
       "_view_module": "@jupyter-widgets/base",
       "_view_module_version": "1.2.0",
       "_view_name": "StyleView",
       "description_width": ""
      }
     },
     "1d65f8f4e02f4996802ceddf1872726a": {
      "model_module": "@jupyter-widgets/base",
      "model_module_version": "1.2.0",
      "model_name": "LayoutModel",
      "state": {
       "_model_module": "@jupyter-widgets/base",
       "_model_module_version": "1.2.0",
       "_model_name": "LayoutModel",
       "_view_count": null,
       "_view_module": "@jupyter-widgets/base",
       "_view_module_version": "1.2.0",
       "_view_name": "LayoutView",
       "align_content": null,
       "align_items": null,
       "align_self": null,
       "border": null,
       "bottom": null,
       "display": null,
       "flex": null,
       "flex_flow": null,
       "grid_area": null,
       "grid_auto_columns": null,
       "grid_auto_flow": null,
       "grid_auto_rows": null,
       "grid_column": null,
       "grid_gap": null,
       "grid_row": null,
       "grid_template_areas": null,
       "grid_template_columns": null,
       "grid_template_rows": null,
       "height": null,
       "justify_content": null,
       "justify_items": null,
       "left": null,
       "margin": null,
       "max_height": null,
       "max_width": null,
       "min_height": null,
       "min_width": null,
       "object_fit": null,
       "object_position": null,
       "order": null,
       "overflow": null,
       "overflow_x": null,
       "overflow_y": null,
       "padding": null,
       "right": null,
       "top": null,
       "visibility": null,
       "width": null
      }
     },
     "2156ac1ea7ae40eeb3d3bb4bb4136492": {
      "model_module": "@jupyter-widgets/base",
      "model_module_version": "1.2.0",
      "model_name": "LayoutModel",
      "state": {
       "_model_module": "@jupyter-widgets/base",
       "_model_module_version": "1.2.0",
       "_model_name": "LayoutModel",
       "_view_count": null,
       "_view_module": "@jupyter-widgets/base",
       "_view_module_version": "1.2.0",
       "_view_name": "LayoutView",
       "align_content": null,
       "align_items": null,
       "align_self": null,
       "border": null,
       "bottom": null,
       "display": null,
       "flex": null,
       "flex_flow": null,
       "grid_area": null,
       "grid_auto_columns": null,
       "grid_auto_flow": null,
       "grid_auto_rows": null,
       "grid_column": null,
       "grid_gap": null,
       "grid_row": null,
       "grid_template_areas": null,
       "grid_template_columns": null,
       "grid_template_rows": null,
       "height": null,
       "justify_content": null,
       "justify_items": null,
       "left": null,
       "margin": null,
       "max_height": null,
       "max_width": null,
       "min_height": null,
       "min_width": null,
       "object_fit": null,
       "object_position": null,
       "order": null,
       "overflow": null,
       "overflow_x": null,
       "overflow_y": null,
       "padding": null,
       "right": null,
       "top": null,
       "visibility": null,
       "width": null
      }
     },
     "22f8f3fa17c0416f9fc4e5d4c1c2dcae": {
      "model_module": "@jupyter-widgets/base",
      "model_module_version": "1.2.0",
      "model_name": "LayoutModel",
      "state": {
       "_model_module": "@jupyter-widgets/base",
       "_model_module_version": "1.2.0",
       "_model_name": "LayoutModel",
       "_view_count": null,
       "_view_module": "@jupyter-widgets/base",
       "_view_module_version": "1.2.0",
       "_view_name": "LayoutView",
       "align_content": null,
       "align_items": null,
       "align_self": null,
       "border": null,
       "bottom": null,
       "display": null,
       "flex": null,
       "flex_flow": null,
       "grid_area": null,
       "grid_auto_columns": null,
       "grid_auto_flow": null,
       "grid_auto_rows": null,
       "grid_column": null,
       "grid_gap": null,
       "grid_row": null,
       "grid_template_areas": null,
       "grid_template_columns": null,
       "grid_template_rows": null,
       "height": null,
       "justify_content": null,
       "justify_items": null,
       "left": null,
       "margin": null,
       "max_height": null,
       "max_width": null,
       "min_height": null,
       "min_width": null,
       "object_fit": null,
       "object_position": null,
       "order": null,
       "overflow": null,
       "overflow_x": null,
       "overflow_y": null,
       "padding": null,
       "right": null,
       "top": null,
       "visibility": null,
       "width": null
      }
     },
     "236363e4dbaf424ea1a36a61bba4cca8": {
      "model_module": "@jupyter-widgets/base",
      "model_module_version": "1.2.0",
      "model_name": "LayoutModel",
      "state": {
       "_model_module": "@jupyter-widgets/base",
       "_model_module_version": "1.2.0",
       "_model_name": "LayoutModel",
       "_view_count": null,
       "_view_module": "@jupyter-widgets/base",
       "_view_module_version": "1.2.0",
       "_view_name": "LayoutView",
       "align_content": null,
       "align_items": null,
       "align_self": null,
       "border": null,
       "bottom": null,
       "display": null,
       "flex": null,
       "flex_flow": null,
       "grid_area": null,
       "grid_auto_columns": null,
       "grid_auto_flow": null,
       "grid_auto_rows": null,
       "grid_column": null,
       "grid_gap": null,
       "grid_row": null,
       "grid_template_areas": null,
       "grid_template_columns": null,
       "grid_template_rows": null,
       "height": null,
       "justify_content": null,
       "justify_items": null,
       "left": null,
       "margin": null,
       "max_height": null,
       "max_width": null,
       "min_height": null,
       "min_width": null,
       "object_fit": null,
       "object_position": null,
       "order": null,
       "overflow": null,
       "overflow_x": null,
       "overflow_y": null,
       "padding": null,
       "right": null,
       "top": null,
       "visibility": null,
       "width": null
      }
     },
     "239d6c56ab554ccba5d067f0c34bd3f4": {
      "model_module": "@jupyter-widgets/base",
      "model_module_version": "1.2.0",
      "model_name": "LayoutModel",
      "state": {
       "_model_module": "@jupyter-widgets/base",
       "_model_module_version": "1.2.0",
       "_model_name": "LayoutModel",
       "_view_count": null,
       "_view_module": "@jupyter-widgets/base",
       "_view_module_version": "1.2.0",
       "_view_name": "LayoutView",
       "align_content": null,
       "align_items": null,
       "align_self": null,
       "border": null,
       "bottom": null,
       "display": null,
       "flex": null,
       "flex_flow": null,
       "grid_area": null,
       "grid_auto_columns": null,
       "grid_auto_flow": null,
       "grid_auto_rows": null,
       "grid_column": null,
       "grid_gap": null,
       "grid_row": null,
       "grid_template_areas": null,
       "grid_template_columns": null,
       "grid_template_rows": null,
       "height": null,
       "justify_content": null,
       "justify_items": null,
       "left": null,
       "margin": null,
       "max_height": null,
       "max_width": null,
       "min_height": null,
       "min_width": null,
       "object_fit": null,
       "object_position": null,
       "order": null,
       "overflow": null,
       "overflow_x": null,
       "overflow_y": null,
       "padding": null,
       "right": null,
       "top": null,
       "visibility": null,
       "width": null
      }
     },
     "247a320439eb4219b10fc8db01c184df": {
      "model_module": "@jupyter-widgets/controls",
      "model_module_version": "1.5.0",
      "model_name": "HTMLModel",
      "state": {
       "_dom_classes": [],
       "_model_module": "@jupyter-widgets/controls",
       "_model_module_version": "1.5.0",
       "_model_name": "HTMLModel",
       "_view_count": null,
       "_view_module": "@jupyter-widgets/controls",
       "_view_module_version": "1.5.0",
       "_view_name": "HTMLView",
       "description": "",
       "description_tooltip": null,
       "layout": "IPY_MODEL_d3c70955fccb4f17a30fdfafea9bb458",
       "placeholder": "​",
       "style": "IPY_MODEL_ea0bdd60aa544ddca508cd6782966a44",
       "value": " 805/805 [26:34&lt;00:00,  1.62s/it]"
      }
     },
     "254cba9bacc74df7b7d65932bbfa9e33": {
      "model_module": "@jupyter-widgets/controls",
      "model_module_version": "1.5.0",
      "model_name": "ProgressStyleModel",
      "state": {
       "_model_module": "@jupyter-widgets/controls",
       "_model_module_version": "1.5.0",
       "_model_name": "ProgressStyleModel",
       "_view_count": null,
       "_view_module": "@jupyter-widgets/base",
       "_view_module_version": "1.2.0",
       "_view_name": "StyleView",
       "bar_color": null,
       "description_width": ""
      }
     },
     "25dbcfbabde34627b50f152afd336d26": {
      "model_module": "@jupyter-widgets/base",
      "model_module_version": "1.2.0",
      "model_name": "LayoutModel",
      "state": {
       "_model_module": "@jupyter-widgets/base",
       "_model_module_version": "1.2.0",
       "_model_name": "LayoutModel",
       "_view_count": null,
       "_view_module": "@jupyter-widgets/base",
       "_view_module_version": "1.2.0",
       "_view_name": "LayoutView",
       "align_content": null,
       "align_items": null,
       "align_self": null,
       "border": null,
       "bottom": null,
       "display": null,
       "flex": null,
       "flex_flow": null,
       "grid_area": null,
       "grid_auto_columns": null,
       "grid_auto_flow": null,
       "grid_auto_rows": null,
       "grid_column": null,
       "grid_gap": null,
       "grid_row": null,
       "grid_template_areas": null,
       "grid_template_columns": null,
       "grid_template_rows": null,
       "height": null,
       "justify_content": null,
       "justify_items": null,
       "left": null,
       "margin": null,
       "max_height": null,
       "max_width": null,
       "min_height": null,
       "min_width": null,
       "object_fit": null,
       "object_position": null,
       "order": null,
       "overflow": null,
       "overflow_x": null,
       "overflow_y": null,
       "padding": null,
       "right": null,
       "top": null,
       "visibility": null,
       "width": null
      }
     },
     "26247bb20121436badb4e0730a5ce44a": {
      "model_module": "@jupyter-widgets/controls",
      "model_module_version": "1.5.0",
      "model_name": "ProgressStyleModel",
      "state": {
       "_model_module": "@jupyter-widgets/controls",
       "_model_module_version": "1.5.0",
       "_model_name": "ProgressStyleModel",
       "_view_count": null,
       "_view_module": "@jupyter-widgets/base",
       "_view_module_version": "1.2.0",
       "_view_name": "StyleView",
       "bar_color": null,
       "description_width": ""
      }
     },
     "267452de5ea4483ca2aec44a46640c7a": {
      "model_module": "@jupyter-widgets/controls",
      "model_module_version": "1.5.0",
      "model_name": "HTMLModel",
      "state": {
       "_dom_classes": [],
       "_model_module": "@jupyter-widgets/controls",
       "_model_module_version": "1.5.0",
       "_model_name": "HTMLModel",
       "_view_count": null,
       "_view_module": "@jupyter-widgets/controls",
       "_view_module_version": "1.5.0",
       "_view_name": "HTMLView",
       "description": "",
       "description_tooltip": null,
       "layout": "IPY_MODEL_fb8dc13ac1da493d9566943bb554cb52",
       "placeholder": "​",
       "style": "IPY_MODEL_6e2f3dca112540f1bca8f89914cabf3d",
       "value": " 805/805 [26:38&lt;00:00,  1.60s/it]"
      }
     },
     "2a32bcc7ee1149e3af852b9a81c3eacc": {
      "model_module": "@jupyter-widgets/controls",
      "model_module_version": "1.5.0",
      "model_name": "DescriptionStyleModel",
      "state": {
       "_model_module": "@jupyter-widgets/controls",
       "_model_module_version": "1.5.0",
       "_model_name": "DescriptionStyleModel",
       "_view_count": null,
       "_view_module": "@jupyter-widgets/base",
       "_view_module_version": "1.2.0",
       "_view_name": "StyleView",
       "description_width": ""
      }
     },
     "2a4d9662a32b4e73bdde9199c8c1bd5a": {
      "model_module": "@jupyter-widgets/controls",
      "model_module_version": "1.5.0",
      "model_name": "HTMLModel",
      "state": {
       "_dom_classes": [],
       "_model_module": "@jupyter-widgets/controls",
       "_model_module_version": "1.5.0",
       "_model_name": "HTMLModel",
       "_view_count": null,
       "_view_module": "@jupyter-widgets/controls",
       "_view_module_version": "1.5.0",
       "_view_name": "HTMLView",
       "description": "",
       "description_tooltip": null,
       "layout": "IPY_MODEL_2ca4015f84b4410b832d57a898b4a13f",
       "placeholder": "​",
       "style": "IPY_MODEL_2a32bcc7ee1149e3af852b9a81c3eacc",
       "value": " 805/805 [26:27&lt;00:00,  1.58s/it]"
      }
     },
     "2bb9dd510e7e494c9f218728ea171cb1": {
      "model_module": "@jupyter-widgets/controls",
      "model_module_version": "1.5.0",
      "model_name": "DescriptionStyleModel",
      "state": {
       "_model_module": "@jupyter-widgets/controls",
       "_model_module_version": "1.5.0",
       "_model_name": "DescriptionStyleModel",
       "_view_count": null,
       "_view_module": "@jupyter-widgets/base",
       "_view_module_version": "1.2.0",
       "_view_name": "StyleView",
       "description_width": ""
      }
     },
     "2ca4015f84b4410b832d57a898b4a13f": {
      "model_module": "@jupyter-widgets/base",
      "model_module_version": "1.2.0",
      "model_name": "LayoutModel",
      "state": {
       "_model_module": "@jupyter-widgets/base",
       "_model_module_version": "1.2.0",
       "_model_name": "LayoutModel",
       "_view_count": null,
       "_view_module": "@jupyter-widgets/base",
       "_view_module_version": "1.2.0",
       "_view_name": "LayoutView",
       "align_content": null,
       "align_items": null,
       "align_self": null,
       "border": null,
       "bottom": null,
       "display": null,
       "flex": null,
       "flex_flow": null,
       "grid_area": null,
       "grid_auto_columns": null,
       "grid_auto_flow": null,
       "grid_auto_rows": null,
       "grid_column": null,
       "grid_gap": null,
       "grid_row": null,
       "grid_template_areas": null,
       "grid_template_columns": null,
       "grid_template_rows": null,
       "height": null,
       "justify_content": null,
       "justify_items": null,
       "left": null,
       "margin": null,
       "max_height": null,
       "max_width": null,
       "min_height": null,
       "min_width": null,
       "object_fit": null,
       "object_position": null,
       "order": null,
       "overflow": null,
       "overflow_x": null,
       "overflow_y": null,
       "padding": null,
       "right": null,
       "top": null,
       "visibility": null,
       "width": null
      }
     },
     "2d11057ece5947919d296952e06b9aab": {
      "model_module": "@jupyter-widgets/base",
      "model_module_version": "1.2.0",
      "model_name": "LayoutModel",
      "state": {
       "_model_module": "@jupyter-widgets/base",
       "_model_module_version": "1.2.0",
       "_model_name": "LayoutModel",
       "_view_count": null,
       "_view_module": "@jupyter-widgets/base",
       "_view_module_version": "1.2.0",
       "_view_name": "LayoutView",
       "align_content": null,
       "align_items": null,
       "align_self": null,
       "border": null,
       "bottom": null,
       "display": null,
       "flex": null,
       "flex_flow": null,
       "grid_area": null,
       "grid_auto_columns": null,
       "grid_auto_flow": null,
       "grid_auto_rows": null,
       "grid_column": null,
       "grid_gap": null,
       "grid_row": null,
       "grid_template_areas": null,
       "grid_template_columns": null,
       "grid_template_rows": null,
       "height": null,
       "justify_content": null,
       "justify_items": null,
       "left": null,
       "margin": null,
       "max_height": null,
       "max_width": null,
       "min_height": null,
       "min_width": null,
       "object_fit": null,
       "object_position": null,
       "order": null,
       "overflow": null,
       "overflow_x": null,
       "overflow_y": null,
       "padding": null,
       "right": null,
       "top": null,
       "visibility": null,
       "width": null
      }
     },
     "2f6e0c2854af406c834e920f6bcb0ec3": {
      "model_module": "@jupyter-widgets/controls",
      "model_module_version": "1.5.0",
      "model_name": "DescriptionStyleModel",
      "state": {
       "_model_module": "@jupyter-widgets/controls",
       "_model_module_version": "1.5.0",
       "_model_name": "DescriptionStyleModel",
       "_view_count": null,
       "_view_module": "@jupyter-widgets/base",
       "_view_module_version": "1.2.0",
       "_view_name": "StyleView",
       "description_width": ""
      }
     },
     "3128fa83e483484e802841262d363e31": {
      "model_module": "@jupyter-widgets/controls",
      "model_module_version": "1.5.0",
      "model_name": "HTMLModel",
      "state": {
       "_dom_classes": [],
       "_model_module": "@jupyter-widgets/controls",
       "_model_module_version": "1.5.0",
       "_model_name": "HTMLModel",
       "_view_count": null,
       "_view_module": "@jupyter-widgets/controls",
       "_view_module_version": "1.5.0",
       "_view_name": "HTMLView",
       "description": "",
       "description_tooltip": null,
       "layout": "IPY_MODEL_6ca8f9a555c2409d9219b42b5619aaf6",
       "placeholder": "​",
       "style": "IPY_MODEL_1469daa13990464aa81381fbdb5482a8",
       "value": " 805/805 [26:39&lt;00:00,  1.63s/it]"
      }
     },
     "32e7f421d1ab4e6ea6d776035abdcaf7": {
      "model_module": "@jupyter-widgets/controls",
      "model_module_version": "1.5.0",
      "model_name": "DescriptionStyleModel",
      "state": {
       "_model_module": "@jupyter-widgets/controls",
       "_model_module_version": "1.5.0",
       "_model_name": "DescriptionStyleModel",
       "_view_count": null,
       "_view_module": "@jupyter-widgets/base",
       "_view_module_version": "1.2.0",
       "_view_name": "StyleView",
       "description_width": ""
      }
     },
     "33657e19640847c09384414a5d294827": {
      "model_module": "@jupyter-widgets/base",
      "model_module_version": "1.2.0",
      "model_name": "LayoutModel",
      "state": {
       "_model_module": "@jupyter-widgets/base",
       "_model_module_version": "1.2.0",
       "_model_name": "LayoutModel",
       "_view_count": null,
       "_view_module": "@jupyter-widgets/base",
       "_view_module_version": "1.2.0",
       "_view_name": "LayoutView",
       "align_content": null,
       "align_items": null,
       "align_self": null,
       "border": null,
       "bottom": null,
       "display": null,
       "flex": null,
       "flex_flow": null,
       "grid_area": null,
       "grid_auto_columns": null,
       "grid_auto_flow": null,
       "grid_auto_rows": null,
       "grid_column": null,
       "grid_gap": null,
       "grid_row": null,
       "grid_template_areas": null,
       "grid_template_columns": null,
       "grid_template_rows": null,
       "height": null,
       "justify_content": null,
       "justify_items": null,
       "left": null,
       "margin": null,
       "max_height": null,
       "max_width": null,
       "min_height": null,
       "min_width": null,
       "object_fit": null,
       "object_position": null,
       "order": null,
       "overflow": null,
       "overflow_x": null,
       "overflow_y": null,
       "padding": null,
       "right": null,
       "top": null,
       "visibility": null,
       "width": null
      }
     },
     "3367ec4ba16f44b9977a11a7b4d0e608": {
      "model_module": "@jupyter-widgets/controls",
      "model_module_version": "1.5.0",
      "model_name": "HTMLModel",
      "state": {
       "_dom_classes": [],
       "_model_module": "@jupyter-widgets/controls",
       "_model_module_version": "1.5.0",
       "_model_name": "HTMLModel",
       "_view_count": null,
       "_view_module": "@jupyter-widgets/controls",
       "_view_module_version": "1.5.0",
       "_view_name": "HTMLView",
       "description": "",
       "description_tooltip": null,
       "layout": "IPY_MODEL_33657e19640847c09384414a5d294827",
       "placeholder": "​",
       "style": "IPY_MODEL_425ed881f7de4b52a670aceb73fb520c",
       "value": "MSEError: 0.21202389895915985: 100%"
      }
     },
     "38869466600d410eae72f7b20651c098": {
      "model_module": "@jupyter-widgets/base",
      "model_module_version": "1.2.0",
      "model_name": "LayoutModel",
      "state": {
       "_model_module": "@jupyter-widgets/base",
       "_model_module_version": "1.2.0",
       "_model_name": "LayoutModel",
       "_view_count": null,
       "_view_module": "@jupyter-widgets/base",
       "_view_module_version": "1.2.0",
       "_view_name": "LayoutView",
       "align_content": null,
       "align_items": null,
       "align_self": null,
       "border": null,
       "bottom": null,
       "display": null,
       "flex": null,
       "flex_flow": null,
       "grid_area": null,
       "grid_auto_columns": null,
       "grid_auto_flow": null,
       "grid_auto_rows": null,
       "grid_column": null,
       "grid_gap": null,
       "grid_row": null,
       "grid_template_areas": null,
       "grid_template_columns": null,
       "grid_template_rows": null,
       "height": null,
       "justify_content": null,
       "justify_items": null,
       "left": null,
       "margin": null,
       "max_height": null,
       "max_width": null,
       "min_height": null,
       "min_width": null,
       "object_fit": null,
       "object_position": null,
       "order": null,
       "overflow": null,
       "overflow_x": null,
       "overflow_y": null,
       "padding": null,
       "right": null,
       "top": null,
       "visibility": null,
       "width": null
      }
     },
     "3a3979d19f894502abf4c6b289363d1a": {
      "model_module": "@jupyter-widgets/controls",
      "model_module_version": "1.5.0",
      "model_name": "HTMLModel",
      "state": {
       "_dom_classes": [],
       "_model_module": "@jupyter-widgets/controls",
       "_model_module_version": "1.5.0",
       "_model_name": "HTMLModel",
       "_view_count": null,
       "_view_module": "@jupyter-widgets/controls",
       "_view_module_version": "1.5.0",
       "_view_name": "HTMLView",
       "description": "",
       "description_tooltip": null,
       "layout": "IPY_MODEL_b4fc2304512c4a1ebce81db084c7791b",
       "placeholder": "​",
       "style": "IPY_MODEL_1b8df248617a4bdca3e3bb8d5267bc33",
       "value": " 805/805 [26:41&lt;00:00,  1.62s/it]"
      }
     },
     "3b7dd995ba2948bd8497821c2c11a78e": {
      "model_module": "@jupyter-widgets/controls",
      "model_module_version": "1.5.0",
      "model_name": "FloatProgressModel",
      "state": {
       "_dom_classes": [],
       "_model_module": "@jupyter-widgets/controls",
       "_model_module_version": "1.5.0",
       "_model_name": "FloatProgressModel",
       "_view_count": null,
       "_view_module": "@jupyter-widgets/controls",
       "_view_module_version": "1.5.0",
       "_view_name": "ProgressView",
       "bar_style": "success",
       "description": "",
       "description_tooltip": null,
       "layout": "IPY_MODEL_15876fc27f514a60830f6d94f0ffdb88",
       "max": 805.0,
       "min": 0.0,
       "orientation": "horizontal",
       "style": "IPY_MODEL_5b4238390505491ea9b305d566b51eb6",
       "value": 805.0
      }
     },
     "3cac07baacf4499a9e166e0216041adc": {
      "model_module": "@jupyter-widgets/controls",
      "model_module_version": "1.5.0",
      "model_name": "HBoxModel",
      "state": {
       "_dom_classes": [],
       "_model_module": "@jupyter-widgets/controls",
       "_model_module_version": "1.5.0",
       "_model_name": "HBoxModel",
       "_view_count": null,
       "_view_module": "@jupyter-widgets/controls",
       "_view_module_version": "1.5.0",
       "_view_name": "HBoxView",
       "box_style": "",
       "children": [
        "IPY_MODEL_4317f207eecd493d873743a6e3b9b6ac",
        "IPY_MODEL_6fbf80428e4f4df18a7e3aae5340fa5e",
        "IPY_MODEL_6958aec8ad604872946e75f99de560e3"
       ],
       "layout": "IPY_MODEL_f809d7ac87054169a5b7e59b76b72ff8"
      }
     },
     "3f03661f7fdf4fa5bbc79fa0cfa9c0b1": {
      "model_module": "@jupyter-widgets/controls",
      "model_module_version": "1.5.0",
      "model_name": "HTMLModel",
      "state": {
       "_dom_classes": [],
       "_model_module": "@jupyter-widgets/controls",
       "_model_module_version": "1.5.0",
       "_model_name": "HTMLModel",
       "_view_count": null,
       "_view_module": "@jupyter-widgets/controls",
       "_view_module_version": "1.5.0",
       "_view_name": "HTMLView",
       "description": "",
       "description_tooltip": null,
       "layout": "IPY_MODEL_faf04b09821349e1b255e2c3ba9c8bf8",
       "placeholder": "​",
       "style": "IPY_MODEL_b4990fbc932942ecb180ab07df0db3a3",
       "value": "MSEError: 0.20641253888607025: 100%"
      }
     },
     "40407a558e9140a58675b809ca35849c": {
      "model_module": "@jupyter-widgets/base",
      "model_module_version": "1.2.0",
      "model_name": "LayoutModel",
      "state": {
       "_model_module": "@jupyter-widgets/base",
       "_model_module_version": "1.2.0",
       "_model_name": "LayoutModel",
       "_view_count": null,
       "_view_module": "@jupyter-widgets/base",
       "_view_module_version": "1.2.0",
       "_view_name": "LayoutView",
       "align_content": null,
       "align_items": null,
       "align_self": null,
       "border": null,
       "bottom": null,
       "display": null,
       "flex": null,
       "flex_flow": null,
       "grid_area": null,
       "grid_auto_columns": null,
       "grid_auto_flow": null,
       "grid_auto_rows": null,
       "grid_column": null,
       "grid_gap": null,
       "grid_row": null,
       "grid_template_areas": null,
       "grid_template_columns": null,
       "grid_template_rows": null,
       "height": null,
       "justify_content": null,
       "justify_items": null,
       "left": null,
       "margin": null,
       "max_height": null,
       "max_width": null,
       "min_height": null,
       "min_width": null,
       "object_fit": null,
       "object_position": null,
       "order": null,
       "overflow": null,
       "overflow_x": null,
       "overflow_y": null,
       "padding": null,
       "right": null,
       "top": null,
       "visibility": null,
       "width": null
      }
     },
     "425ed881f7de4b52a670aceb73fb520c": {
      "model_module": "@jupyter-widgets/controls",
      "model_module_version": "1.5.0",
      "model_name": "DescriptionStyleModel",
      "state": {
       "_model_module": "@jupyter-widgets/controls",
       "_model_module_version": "1.5.0",
       "_model_name": "DescriptionStyleModel",
       "_view_count": null,
       "_view_module": "@jupyter-widgets/base",
       "_view_module_version": "1.2.0",
       "_view_name": "StyleView",
       "description_width": ""
      }
     },
     "4317f207eecd493d873743a6e3b9b6ac": {
      "model_module": "@jupyter-widgets/controls",
      "model_module_version": "1.5.0",
      "model_name": "HTMLModel",
      "state": {
       "_dom_classes": [],
       "_model_module": "@jupyter-widgets/controls",
       "_model_module_version": "1.5.0",
       "_model_name": "HTMLModel",
       "_view_count": null,
       "_view_module": "@jupyter-widgets/controls",
       "_view_module_version": "1.5.0",
       "_view_name": "HTMLView",
       "description": "",
       "description_tooltip": null,
       "layout": "IPY_MODEL_93421662fed043568446f9dd2786a1a0",
       "placeholder": "​",
       "style": "IPY_MODEL_51f40991d75b407daefafca95b654a2b",
       "value": "MSEError: 0.21083340048789978: 100%"
      }
     },
     "45d2390b02a44bbc9079050aa2a7a829": {
      "model_module": "@jupyter-widgets/controls",
      "model_module_version": "1.5.0",
      "model_name": "DescriptionStyleModel",
      "state": {
       "_model_module": "@jupyter-widgets/controls",
       "_model_module_version": "1.5.0",
       "_model_name": "DescriptionStyleModel",
       "_view_count": null,
       "_view_module": "@jupyter-widgets/base",
       "_view_module_version": "1.2.0",
       "_view_name": "StyleView",
       "description_width": ""
      }
     },
     "46f6de885bec41cb8b9586addb30dfb1": {
      "model_module": "@jupyter-widgets/controls",
      "model_module_version": "1.5.0",
      "model_name": "FloatProgressModel",
      "state": {
       "_dom_classes": [],
       "_model_module": "@jupyter-widgets/controls",
       "_model_module_version": "1.5.0",
       "_model_name": "FloatProgressModel",
       "_view_count": null,
       "_view_module": "@jupyter-widgets/controls",
       "_view_module_version": "1.5.0",
       "_view_name": "ProgressView",
       "bar_style": "success",
       "description": "",
       "description_tooltip": null,
       "layout": "IPY_MODEL_ef596c0ae25a4bbeaefcdd054f6cc6ba",
       "max": 805.0,
       "min": 0.0,
       "orientation": "horizontal",
       "style": "IPY_MODEL_c8d4ec7944504b28a4f6fb5aa36dfbba",
       "value": 805.0
      }
     },
     "49c3dff152304c70bfe2db2a270f508c": {
      "model_module": "@jupyter-widgets/controls",
      "model_module_version": "1.5.0",
      "model_name": "FloatProgressModel",
      "state": {
       "_dom_classes": [],
       "_model_module": "@jupyter-widgets/controls",
       "_model_module_version": "1.5.0",
       "_model_name": "FloatProgressModel",
       "_view_count": null,
       "_view_module": "@jupyter-widgets/controls",
       "_view_module_version": "1.5.0",
       "_view_name": "ProgressView",
       "bar_style": "success",
       "description": "",
       "description_tooltip": null,
       "layout": "IPY_MODEL_2d11057ece5947919d296952e06b9aab",
       "max": 805.0,
       "min": 0.0,
       "orientation": "horizontal",
       "style": "IPY_MODEL_a3f1d4b05172485ea7fb8592d65c40a6",
       "value": 805.0
      }
     },
     "4aac76fdf5084e9bbb306db64985fd9a": {
      "model_module": "@jupyter-widgets/controls",
      "model_module_version": "1.5.0",
      "model_name": "HBoxModel",
      "state": {
       "_dom_classes": [],
       "_model_module": "@jupyter-widgets/controls",
       "_model_module_version": "1.5.0",
       "_model_name": "HBoxModel",
       "_view_count": null,
       "_view_module": "@jupyter-widgets/controls",
       "_view_module_version": "1.5.0",
       "_view_name": "HBoxView",
       "box_style": "",
       "children": [
        "IPY_MODEL_8f972ebce20f49e58147c97e3fa12529",
        "IPY_MODEL_4cfa55ead8dd4fd2bf7e6d79cf7187e2",
        "IPY_MODEL_02aafeec9b70418d9107c59077c755b2"
       ],
       "layout": "IPY_MODEL_239d6c56ab554ccba5d067f0c34bd3f4"
      }
     },
     "4b3c2ca01b2b46d08ba1de6834b6479a": {
      "model_module": "@jupyter-widgets/base",
      "model_module_version": "1.2.0",
      "model_name": "LayoutModel",
      "state": {
       "_model_module": "@jupyter-widgets/base",
       "_model_module_version": "1.2.0",
       "_model_name": "LayoutModel",
       "_view_count": null,
       "_view_module": "@jupyter-widgets/base",
       "_view_module_version": "1.2.0",
       "_view_name": "LayoutView",
       "align_content": null,
       "align_items": null,
       "align_self": null,
       "border": null,
       "bottom": null,
       "display": null,
       "flex": null,
       "flex_flow": null,
       "grid_area": null,
       "grid_auto_columns": null,
       "grid_auto_flow": null,
       "grid_auto_rows": null,
       "grid_column": null,
       "grid_gap": null,
       "grid_row": null,
       "grid_template_areas": null,
       "grid_template_columns": null,
       "grid_template_rows": null,
       "height": null,
       "justify_content": null,
       "justify_items": null,
       "left": null,
       "margin": null,
       "max_height": null,
       "max_width": null,
       "min_height": null,
       "min_width": null,
       "object_fit": null,
       "object_position": null,
       "order": null,
       "overflow": null,
       "overflow_x": null,
       "overflow_y": null,
       "padding": null,
       "right": null,
       "top": null,
       "visibility": null,
       "width": null
      }
     },
     "4cebeae9c7ea49f08c792a7399f22836": {
      "model_module": "@jupyter-widgets/controls",
      "model_module_version": "1.5.0",
      "model_name": "FloatProgressModel",
      "state": {
       "_dom_classes": [],
       "_model_module": "@jupyter-widgets/controls",
       "_model_module_version": "1.5.0",
       "_model_name": "FloatProgressModel",
       "_view_count": null,
       "_view_module": "@jupyter-widgets/controls",
       "_view_module_version": "1.5.0",
       "_view_name": "ProgressView",
       "bar_style": "success",
       "description": "",
       "description_tooltip": null,
       "layout": "IPY_MODEL_e9df58e621174ee0bbd90528e6d45357",
       "max": 805.0,
       "min": 0.0,
       "orientation": "horizontal",
       "style": "IPY_MODEL_ff4fe4feabdf4cc88587b325c7543a9f",
       "value": 805.0
      }
     },
     "4cfa55ead8dd4fd2bf7e6d79cf7187e2": {
      "model_module": "@jupyter-widgets/controls",
      "model_module_version": "1.5.0",
      "model_name": "FloatProgressModel",
      "state": {
       "_dom_classes": [],
       "_model_module": "@jupyter-widgets/controls",
       "_model_module_version": "1.5.0",
       "_model_name": "FloatProgressModel",
       "_view_count": null,
       "_view_module": "@jupyter-widgets/controls",
       "_view_module_version": "1.5.0",
       "_view_name": "ProgressView",
       "bar_style": "success",
       "description": "",
       "description_tooltip": null,
       "layout": "IPY_MODEL_940a7bf8738547e29ca04b5d0f271ee3",
       "max": 805.0,
       "min": 0.0,
       "orientation": "horizontal",
       "style": "IPY_MODEL_6689f6a087004e3f8ea5e4242b9ab669",
       "value": 805.0
      }
     },
     "4e0a9eccab2a4e3aadceee12c124f8c2": {
      "model_module": "@jupyter-widgets/controls",
      "model_module_version": "1.5.0",
      "model_name": "HTMLModel",
      "state": {
       "_dom_classes": [],
       "_model_module": "@jupyter-widgets/controls",
       "_model_module_version": "1.5.0",
       "_model_name": "HTMLModel",
       "_view_count": null,
       "_view_module": "@jupyter-widgets/controls",
       "_view_module_version": "1.5.0",
       "_view_name": "HTMLView",
       "description": "",
       "description_tooltip": null,
       "layout": "IPY_MODEL_c9d8d63dcc5f4830ad29dd4921184cc5",
       "placeholder": "​",
       "style": "IPY_MODEL_a8fe38e556ae48a1b3c7de485e34b9bc",
       "value": "MSEError: 0.21360616385936737: 100%"
      }
     },
     "51f40991d75b407daefafca95b654a2b": {
      "model_module": "@jupyter-widgets/controls",
      "model_module_version": "1.5.0",
      "model_name": "DescriptionStyleModel",
      "state": {
       "_model_module": "@jupyter-widgets/controls",
       "_model_module_version": "1.5.0",
       "_model_name": "DescriptionStyleModel",
       "_view_count": null,
       "_view_module": "@jupyter-widgets/base",
       "_view_module_version": "1.2.0",
       "_view_name": "StyleView",
       "description_width": ""
      }
     },
     "5379dc2704914a8592e19e26f52295c5": {
      "model_module": "@jupyter-widgets/controls",
      "model_module_version": "1.5.0",
      "model_name": "DescriptionStyleModel",
      "state": {
       "_model_module": "@jupyter-widgets/controls",
       "_model_module_version": "1.5.0",
       "_model_name": "DescriptionStyleModel",
       "_view_count": null,
       "_view_module": "@jupyter-widgets/base",
       "_view_module_version": "1.2.0",
       "_view_name": "StyleView",
       "description_width": ""
      }
     },
     "543c3cc9fddd4377b013c92cc0042e7d": {
      "model_module": "@jupyter-widgets/controls",
      "model_module_version": "1.5.0",
      "model_name": "HBoxModel",
      "state": {
       "_dom_classes": [],
       "_model_module": "@jupyter-widgets/controls",
       "_model_module_version": "1.5.0",
       "_model_name": "HBoxModel",
       "_view_count": null,
       "_view_module": "@jupyter-widgets/controls",
       "_view_module_version": "1.5.0",
       "_view_name": "HBoxView",
       "box_style": "",
       "children": [
        "IPY_MODEL_4e0a9eccab2a4e3aadceee12c124f8c2",
        "IPY_MODEL_6a69ebe1a1244354b3d53956df747642",
        "IPY_MODEL_0e39d686ee9444ce81fd9c5750cd5a4e"
       ],
       "layout": "IPY_MODEL_78339eb0480a4b17a85094a72aa8eaea"
      }
     },
     "55b28063bd534fc9af7e213ff9a67107": {
      "model_module": "@jupyter-widgets/controls",
      "model_module_version": "1.5.0",
      "model_name": "HTMLModel",
      "state": {
       "_dom_classes": [],
       "_model_module": "@jupyter-widgets/controls",
       "_model_module_version": "1.5.0",
       "_model_name": "HTMLModel",
       "_view_count": null,
       "_view_module": "@jupyter-widgets/controls",
       "_view_module_version": "1.5.0",
       "_view_name": "HTMLView",
       "description": "",
       "description_tooltip": null,
       "layout": "IPY_MODEL_f6f299a378ce4a94b04882329e43bee6",
       "placeholder": "​",
       "style": "IPY_MODEL_32e7f421d1ab4e6ea6d776035abdcaf7",
       "value": " 805/805 [26:27&lt;00:00,  1.60s/it]"
      }
     },
     "572c89ec9768416aae8caaa1253b1005": {
      "model_module": "@jupyter-widgets/controls",
      "model_module_version": "1.5.0",
      "model_name": "ProgressStyleModel",
      "state": {
       "_model_module": "@jupyter-widgets/controls",
       "_model_module_version": "1.5.0",
       "_model_name": "ProgressStyleModel",
       "_view_count": null,
       "_view_module": "@jupyter-widgets/base",
       "_view_module_version": "1.2.0",
       "_view_name": "StyleView",
       "bar_color": null,
       "description_width": ""
      }
     },
     "59109d88bff34e2ab7472b5a97f2c462": {
      "model_module": "@jupyter-widgets/base",
      "model_module_version": "1.2.0",
      "model_name": "LayoutModel",
      "state": {
       "_model_module": "@jupyter-widgets/base",
       "_model_module_version": "1.2.0",
       "_model_name": "LayoutModel",
       "_view_count": null,
       "_view_module": "@jupyter-widgets/base",
       "_view_module_version": "1.2.0",
       "_view_name": "LayoutView",
       "align_content": null,
       "align_items": null,
       "align_self": null,
       "border": null,
       "bottom": null,
       "display": null,
       "flex": null,
       "flex_flow": null,
       "grid_area": null,
       "grid_auto_columns": null,
       "grid_auto_flow": null,
       "grid_auto_rows": null,
       "grid_column": null,
       "grid_gap": null,
       "grid_row": null,
       "grid_template_areas": null,
       "grid_template_columns": null,
       "grid_template_rows": null,
       "height": null,
       "justify_content": null,
       "justify_items": null,
       "left": null,
       "margin": null,
       "max_height": null,
       "max_width": null,
       "min_height": null,
       "min_width": null,
       "object_fit": null,
       "object_position": null,
       "order": null,
       "overflow": null,
       "overflow_x": null,
       "overflow_y": null,
       "padding": null,
       "right": null,
       "top": null,
       "visibility": null,
       "width": null
      }
     },
     "5a7a7273caa446febb65142aa0ea80f9": {
      "model_module": "@jupyter-widgets/base",
      "model_module_version": "1.2.0",
      "model_name": "LayoutModel",
      "state": {
       "_model_module": "@jupyter-widgets/base",
       "_model_module_version": "1.2.0",
       "_model_name": "LayoutModel",
       "_view_count": null,
       "_view_module": "@jupyter-widgets/base",
       "_view_module_version": "1.2.0",
       "_view_name": "LayoutView",
       "align_content": null,
       "align_items": null,
       "align_self": null,
       "border": null,
       "bottom": null,
       "display": null,
       "flex": null,
       "flex_flow": null,
       "grid_area": null,
       "grid_auto_columns": null,
       "grid_auto_flow": null,
       "grid_auto_rows": null,
       "grid_column": null,
       "grid_gap": null,
       "grid_row": null,
       "grid_template_areas": null,
       "grid_template_columns": null,
       "grid_template_rows": null,
       "height": null,
       "justify_content": null,
       "justify_items": null,
       "left": null,
       "margin": null,
       "max_height": null,
       "max_width": null,
       "min_height": null,
       "min_width": null,
       "object_fit": null,
       "object_position": null,
       "order": null,
       "overflow": null,
       "overflow_x": null,
       "overflow_y": null,
       "padding": null,
       "right": null,
       "top": null,
       "visibility": null,
       "width": null
      }
     },
     "5b4238390505491ea9b305d566b51eb6": {
      "model_module": "@jupyter-widgets/controls",
      "model_module_version": "1.5.0",
      "model_name": "ProgressStyleModel",
      "state": {
       "_model_module": "@jupyter-widgets/controls",
       "_model_module_version": "1.5.0",
       "_model_name": "ProgressStyleModel",
       "_view_count": null,
       "_view_module": "@jupyter-widgets/base",
       "_view_module_version": "1.2.0",
       "_view_name": "StyleView",
       "bar_color": null,
       "description_width": ""
      }
     },
     "5cd699b0343b4cadb405b79091d1f01f": {
      "model_module": "@jupyter-widgets/controls",
      "model_module_version": "1.5.0",
      "model_name": "DescriptionStyleModel",
      "state": {
       "_model_module": "@jupyter-widgets/controls",
       "_model_module_version": "1.5.0",
       "_model_name": "DescriptionStyleModel",
       "_view_count": null,
       "_view_module": "@jupyter-widgets/base",
       "_view_module_version": "1.2.0",
       "_view_name": "StyleView",
       "description_width": ""
      }
     },
     "5f22c6014c6c4872a91c5257d7914610": {
      "model_module": "@jupyter-widgets/controls",
      "model_module_version": "1.5.0",
      "model_name": "DescriptionStyleModel",
      "state": {
       "_model_module": "@jupyter-widgets/controls",
       "_model_module_version": "1.5.0",
       "_model_name": "DescriptionStyleModel",
       "_view_count": null,
       "_view_module": "@jupyter-widgets/base",
       "_view_module_version": "1.2.0",
       "_view_name": "StyleView",
       "description_width": ""
      }
     },
     "634cab8db6b44c708b4e3b97ebd91030": {
      "model_module": "@jupyter-widgets/controls",
      "model_module_version": "1.5.0",
      "model_name": "DescriptionStyleModel",
      "state": {
       "_model_module": "@jupyter-widgets/controls",
       "_model_module_version": "1.5.0",
       "_model_name": "DescriptionStyleModel",
       "_view_count": null,
       "_view_module": "@jupyter-widgets/base",
       "_view_module_version": "1.2.0",
       "_view_name": "StyleView",
       "description_width": ""
      }
     },
     "6689f6a087004e3f8ea5e4242b9ab669": {
      "model_module": "@jupyter-widgets/controls",
      "model_module_version": "1.5.0",
      "model_name": "ProgressStyleModel",
      "state": {
       "_model_module": "@jupyter-widgets/controls",
       "_model_module_version": "1.5.0",
       "_model_name": "ProgressStyleModel",
       "_view_count": null,
       "_view_module": "@jupyter-widgets/base",
       "_view_module_version": "1.2.0",
       "_view_name": "StyleView",
       "bar_color": null,
       "description_width": ""
      }
     },
     "66cfc6b3d43a45eb8476d59e2dd69447": {
      "model_module": "@jupyter-widgets/base",
      "model_module_version": "1.2.0",
      "model_name": "LayoutModel",
      "state": {
       "_model_module": "@jupyter-widgets/base",
       "_model_module_version": "1.2.0",
       "_model_name": "LayoutModel",
       "_view_count": null,
       "_view_module": "@jupyter-widgets/base",
       "_view_module_version": "1.2.0",
       "_view_name": "LayoutView",
       "align_content": null,
       "align_items": null,
       "align_self": null,
       "border": null,
       "bottom": null,
       "display": null,
       "flex": null,
       "flex_flow": null,
       "grid_area": null,
       "grid_auto_columns": null,
       "grid_auto_flow": null,
       "grid_auto_rows": null,
       "grid_column": null,
       "grid_gap": null,
       "grid_row": null,
       "grid_template_areas": null,
       "grid_template_columns": null,
       "grid_template_rows": null,
       "height": null,
       "justify_content": null,
       "justify_items": null,
       "left": null,
       "margin": null,
       "max_height": null,
       "max_width": null,
       "min_height": null,
       "min_width": null,
       "object_fit": null,
       "object_position": null,
       "order": null,
       "overflow": null,
       "overflow_x": null,
       "overflow_y": null,
       "padding": null,
       "right": null,
       "top": null,
       "visibility": null,
       "width": null
      }
     },
     "6958aec8ad604872946e75f99de560e3": {
      "model_module": "@jupyter-widgets/controls",
      "model_module_version": "1.5.0",
      "model_name": "HTMLModel",
      "state": {
       "_dom_classes": [],
       "_model_module": "@jupyter-widgets/controls",
       "_model_module_version": "1.5.0",
       "_model_name": "HTMLModel",
       "_view_count": null,
       "_view_module": "@jupyter-widgets/controls",
       "_view_module_version": "1.5.0",
       "_view_name": "HTMLView",
       "description": "",
       "description_tooltip": null,
       "layout": "IPY_MODEL_ce9845b32de64ff88e08284406ea143f",
       "placeholder": "​",
       "style": "IPY_MODEL_e92fc4e0a5b84d3c87eb67784ac7f4db",
       "value": " 805/805 [26:29&lt;00:00,  1.62s/it]"
      }
     },
     "696eb2acefc8451f9a923d8dc410a8e5": {
      "model_module": "@jupyter-widgets/controls",
      "model_module_version": "1.5.0",
      "model_name": "HTMLModel",
      "state": {
       "_dom_classes": [],
       "_model_module": "@jupyter-widgets/controls",
       "_model_module_version": "1.5.0",
       "_model_name": "HTMLModel",
       "_view_count": null,
       "_view_module": "@jupyter-widgets/controls",
       "_view_module_version": "1.5.0",
       "_view_name": "HTMLView",
       "description": "",
       "description_tooltip": null,
       "layout": "IPY_MODEL_40407a558e9140a58675b809ca35849c",
       "placeholder": "​",
       "style": "IPY_MODEL_5f22c6014c6c4872a91c5257d7914610",
       "value": "MSEError: 0.2156408727169037: 100%"
      }
     },
     "6997f1be04e74a78a456440ef568443e": {
      "model_module": "@jupyter-widgets/controls",
      "model_module_version": "1.5.0",
      "model_name": "HBoxModel",
      "state": {
       "_dom_classes": [],
       "_model_module": "@jupyter-widgets/controls",
       "_model_module_version": "1.5.0",
       "_model_name": "HBoxModel",
       "_view_count": null,
       "_view_module": "@jupyter-widgets/controls",
       "_view_module_version": "1.5.0",
       "_view_name": "HBoxView",
       "box_style": "",
       "children": [
        "IPY_MODEL_3367ec4ba16f44b9977a11a7b4d0e608",
        "IPY_MODEL_d654ae386f6e4bd4b140c95b5e1b8e90",
        "IPY_MODEL_955585e82be74caeb037338b94d7d494"
       ],
       "layout": "IPY_MODEL_ce0a94036b6d41788b4845394e23edc7"
      }
     },
     "6a69ebe1a1244354b3d53956df747642": {
      "model_module": "@jupyter-widgets/controls",
      "model_module_version": "1.5.0",
      "model_name": "FloatProgressModel",
      "state": {
       "_dom_classes": [],
       "_model_module": "@jupyter-widgets/controls",
       "_model_module_version": "1.5.0",
       "_model_name": "FloatProgressModel",
       "_view_count": null,
       "_view_module": "@jupyter-widgets/controls",
       "_view_module_version": "1.5.0",
       "_view_name": "ProgressView",
       "bar_style": "success",
       "description": "",
       "description_tooltip": null,
       "layout": "IPY_MODEL_c30fca96e1e14fb89a3c4519e1f7e354",
       "max": 805.0,
       "min": 0.0,
       "orientation": "horizontal",
       "style": "IPY_MODEL_b55f608ca7734f32ae8682ed31b7fa92",
       "value": 805.0
      }
     },
     "6ca8f9a555c2409d9219b42b5619aaf6": {
      "model_module": "@jupyter-widgets/base",
      "model_module_version": "1.2.0",
      "model_name": "LayoutModel",
      "state": {
       "_model_module": "@jupyter-widgets/base",
       "_model_module_version": "1.2.0",
       "_model_name": "LayoutModel",
       "_view_count": null,
       "_view_module": "@jupyter-widgets/base",
       "_view_module_version": "1.2.0",
       "_view_name": "LayoutView",
       "align_content": null,
       "align_items": null,
       "align_self": null,
       "border": null,
       "bottom": null,
       "display": null,
       "flex": null,
       "flex_flow": null,
       "grid_area": null,
       "grid_auto_columns": null,
       "grid_auto_flow": null,
       "grid_auto_rows": null,
       "grid_column": null,
       "grid_gap": null,
       "grid_row": null,
       "grid_template_areas": null,
       "grid_template_columns": null,
       "grid_template_rows": null,
       "height": null,
       "justify_content": null,
       "justify_items": null,
       "left": null,
       "margin": null,
       "max_height": null,
       "max_width": null,
       "min_height": null,
       "min_width": null,
       "object_fit": null,
       "object_position": null,
       "order": null,
       "overflow": null,
       "overflow_x": null,
       "overflow_y": null,
       "padding": null,
       "right": null,
       "top": null,
       "visibility": null,
       "width": null
      }
     },
     "6cd54f36cb4a46cd834d400a11572d8f": {
      "model_module": "@jupyter-widgets/controls",
      "model_module_version": "1.5.0",
      "model_name": "HTMLModel",
      "state": {
       "_dom_classes": [],
       "_model_module": "@jupyter-widgets/controls",
       "_model_module_version": "1.5.0",
       "_model_name": "HTMLModel",
       "_view_count": null,
       "_view_module": "@jupyter-widgets/controls",
       "_view_module_version": "1.5.0",
       "_view_name": "HTMLView",
       "description": "",
       "description_tooltip": null,
       "layout": "IPY_MODEL_81ce13bd261f461db95b34492063a2bd",
       "placeholder": "​",
       "style": "IPY_MODEL_176da0d342de4154a8b74a6423a5a6e5",
       "value": "MSEError: 0.233551487326622: 100%"
      }
     },
     "6e2f3dca112540f1bca8f89914cabf3d": {
      "model_module": "@jupyter-widgets/controls",
      "model_module_version": "1.5.0",
      "model_name": "DescriptionStyleModel",
      "state": {
       "_model_module": "@jupyter-widgets/controls",
       "_model_module_version": "1.5.0",
       "_model_name": "DescriptionStyleModel",
       "_view_count": null,
       "_view_module": "@jupyter-widgets/base",
       "_view_module_version": "1.2.0",
       "_view_name": "StyleView",
       "description_width": ""
      }
     },
     "6e342ff184f8443d9bba0116e3a9ba75": {
      "model_module": "@jupyter-widgets/controls",
      "model_module_version": "1.5.0",
      "model_name": "ProgressStyleModel",
      "state": {
       "_model_module": "@jupyter-widgets/controls",
       "_model_module_version": "1.5.0",
       "_model_name": "ProgressStyleModel",
       "_view_count": null,
       "_view_module": "@jupyter-widgets/base",
       "_view_module_version": "1.2.0",
       "_view_name": "StyleView",
       "bar_color": null,
       "description_width": ""
      }
     },
     "6e48876a7eac4f15bdeee7cc908fd230": {
      "model_module": "@jupyter-widgets/controls",
      "model_module_version": "1.5.0",
      "model_name": "ProgressStyleModel",
      "state": {
       "_model_module": "@jupyter-widgets/controls",
       "_model_module_version": "1.5.0",
       "_model_name": "ProgressStyleModel",
       "_view_count": null,
       "_view_module": "@jupyter-widgets/base",
       "_view_module_version": "1.2.0",
       "_view_name": "StyleView",
       "bar_color": null,
       "description_width": ""
      }
     },
     "6f6aa0c381714f28b5403f4356a300a0": {
      "model_module": "@jupyter-widgets/base",
      "model_module_version": "1.2.0",
      "model_name": "LayoutModel",
      "state": {
       "_model_module": "@jupyter-widgets/base",
       "_model_module_version": "1.2.0",
       "_model_name": "LayoutModel",
       "_view_count": null,
       "_view_module": "@jupyter-widgets/base",
       "_view_module_version": "1.2.0",
       "_view_name": "LayoutView",
       "align_content": null,
       "align_items": null,
       "align_self": null,
       "border": null,
       "bottom": null,
       "display": null,
       "flex": null,
       "flex_flow": null,
       "grid_area": null,
       "grid_auto_columns": null,
       "grid_auto_flow": null,
       "grid_auto_rows": null,
       "grid_column": null,
       "grid_gap": null,
       "grid_row": null,
       "grid_template_areas": null,
       "grid_template_columns": null,
       "grid_template_rows": null,
       "height": null,
       "justify_content": null,
       "justify_items": null,
       "left": null,
       "margin": null,
       "max_height": null,
       "max_width": null,
       "min_height": null,
       "min_width": null,
       "object_fit": null,
       "object_position": null,
       "order": null,
       "overflow": null,
       "overflow_x": null,
       "overflow_y": null,
       "padding": null,
       "right": null,
       "top": null,
       "visibility": null,
       "width": null
      }
     },
     "6fbf80428e4f4df18a7e3aae5340fa5e": {
      "model_module": "@jupyter-widgets/controls",
      "model_module_version": "1.5.0",
      "model_name": "FloatProgressModel",
      "state": {
       "_dom_classes": [],
       "_model_module": "@jupyter-widgets/controls",
       "_model_module_version": "1.5.0",
       "_model_name": "FloatProgressModel",
       "_view_count": null,
       "_view_module": "@jupyter-widgets/controls",
       "_view_module_version": "1.5.0",
       "_view_name": "ProgressView",
       "bar_style": "success",
       "description": "",
       "description_tooltip": null,
       "layout": "IPY_MODEL_f047e887e6b4497eace0ebee6b9f1751",
       "max": 805.0,
       "min": 0.0,
       "orientation": "horizontal",
       "style": "IPY_MODEL_7fa58a9eaa6c485cbddd175e5cca526e",
       "value": 805.0
      }
     },
     "711a16694b91420db78549844b7fd91a": {
      "model_module": "@jupyter-widgets/base",
      "model_module_version": "1.2.0",
      "model_name": "LayoutModel",
      "state": {
       "_model_module": "@jupyter-widgets/base",
       "_model_module_version": "1.2.0",
       "_model_name": "LayoutModel",
       "_view_count": null,
       "_view_module": "@jupyter-widgets/base",
       "_view_module_version": "1.2.0",
       "_view_name": "LayoutView",
       "align_content": null,
       "align_items": null,
       "align_self": null,
       "border": null,
       "bottom": null,
       "display": null,
       "flex": null,
       "flex_flow": null,
       "grid_area": null,
       "grid_auto_columns": null,
       "grid_auto_flow": null,
       "grid_auto_rows": null,
       "grid_column": null,
       "grid_gap": null,
       "grid_row": null,
       "grid_template_areas": null,
       "grid_template_columns": null,
       "grid_template_rows": null,
       "height": null,
       "justify_content": null,
       "justify_items": null,
       "left": null,
       "margin": null,
       "max_height": null,
       "max_width": null,
       "min_height": null,
       "min_width": null,
       "object_fit": null,
       "object_position": null,
       "order": null,
       "overflow": null,
       "overflow_x": null,
       "overflow_y": null,
       "padding": null,
       "right": null,
       "top": null,
       "visibility": null,
       "width": null
      }
     },
     "765526c0b00749668a7cb258a979d182": {
      "model_module": "@jupyter-widgets/controls",
      "model_module_version": "1.5.0",
      "model_name": "FloatProgressModel",
      "state": {
       "_dom_classes": [],
       "_model_module": "@jupyter-widgets/controls",
       "_model_module_version": "1.5.0",
       "_model_name": "FloatProgressModel",
       "_view_count": null,
       "_view_module": "@jupyter-widgets/controls",
       "_view_module_version": "1.5.0",
       "_view_name": "ProgressView",
       "bar_style": "success",
       "description": "",
       "description_tooltip": null,
       "layout": "IPY_MODEL_a468e0fffdc34bde8b8d1509497bb5b6",
       "max": 805.0,
       "min": 0.0,
       "orientation": "horizontal",
       "style": "IPY_MODEL_c871ade257004c5ebc405d44e9346c39",
       "value": 805.0
      }
     },
     "7670bffb18f2428a8c44abe368e49493": {
      "model_module": "@jupyter-widgets/controls",
      "model_module_version": "1.5.0",
      "model_name": "FloatProgressModel",
      "state": {
       "_dom_classes": [],
       "_model_module": "@jupyter-widgets/controls",
       "_model_module_version": "1.5.0",
       "_model_name": "FloatProgressModel",
       "_view_count": null,
       "_view_module": "@jupyter-widgets/controls",
       "_view_module_version": "1.5.0",
       "_view_name": "ProgressView",
       "bar_style": "success",
       "description": "",
       "description_tooltip": null,
       "layout": "IPY_MODEL_9baf6036410f4587acfffd8c27a091ea",
       "max": 805.0,
       "min": 0.0,
       "orientation": "horizontal",
       "style": "IPY_MODEL_6e48876a7eac4f15bdeee7cc908fd230",
       "value": 805.0
      }
     },
     "76cdad7c97e746c3adbe034241b8b6bd": {
      "model_module": "@jupyter-widgets/base",
      "model_module_version": "1.2.0",
      "model_name": "LayoutModel",
      "state": {
       "_model_module": "@jupyter-widgets/base",
       "_model_module_version": "1.2.0",
       "_model_name": "LayoutModel",
       "_view_count": null,
       "_view_module": "@jupyter-widgets/base",
       "_view_module_version": "1.2.0",
       "_view_name": "LayoutView",
       "align_content": null,
       "align_items": null,
       "align_self": null,
       "border": null,
       "bottom": null,
       "display": null,
       "flex": null,
       "flex_flow": null,
       "grid_area": null,
       "grid_auto_columns": null,
       "grid_auto_flow": null,
       "grid_auto_rows": null,
       "grid_column": null,
       "grid_gap": null,
       "grid_row": null,
       "grid_template_areas": null,
       "grid_template_columns": null,
       "grid_template_rows": null,
       "height": null,
       "justify_content": null,
       "justify_items": null,
       "left": null,
       "margin": null,
       "max_height": null,
       "max_width": null,
       "min_height": null,
       "min_width": null,
       "object_fit": null,
       "object_position": null,
       "order": null,
       "overflow": null,
       "overflow_x": null,
       "overflow_y": null,
       "padding": null,
       "right": null,
       "top": null,
       "visibility": null,
       "width": null
      }
     },
     "76e60ff7fa114c289028038c41c72b94": {
      "model_module": "@jupyter-widgets/controls",
      "model_module_version": "1.5.0",
      "model_name": "HTMLModel",
      "state": {
       "_dom_classes": [],
       "_model_module": "@jupyter-widgets/controls",
       "_model_module_version": "1.5.0",
       "_model_name": "HTMLModel",
       "_view_count": null,
       "_view_module": "@jupyter-widgets/controls",
       "_view_module_version": "1.5.0",
       "_view_name": "HTMLView",
       "description": "",
       "description_tooltip": null,
       "layout": "IPY_MODEL_a2c87a20d8a449c59996818b75b411e0",
       "placeholder": "​",
       "style": "IPY_MODEL_fbbf397a76134923b2908032a25633c4",
       "value": "MSEError: 0.20837640762329102: 100%"
      }
     },
     "7749fb1e1ba34762887fbb635f1ffbd0": {
      "model_module": "@jupyter-widgets/controls",
      "model_module_version": "1.5.0",
      "model_name": "FloatProgressModel",
      "state": {
       "_dom_classes": [],
       "_model_module": "@jupyter-widgets/controls",
       "_model_module_version": "1.5.0",
       "_model_name": "FloatProgressModel",
       "_view_count": null,
       "_view_module": "@jupyter-widgets/controls",
       "_view_module_version": "1.5.0",
       "_view_name": "ProgressView",
       "bar_style": "success",
       "description": "",
       "description_tooltip": null,
       "layout": "IPY_MODEL_b70d5a46428d48a7a2074473e81d2130",
       "max": 805.0,
       "min": 0.0,
       "orientation": "horizontal",
       "style": "IPY_MODEL_aacfcf069c5a44309a32ee77f098e5e4",
       "value": 805.0
      }
     },
     "78339eb0480a4b17a85094a72aa8eaea": {
      "model_module": "@jupyter-widgets/base",
      "model_module_version": "1.2.0",
      "model_name": "LayoutModel",
      "state": {
       "_model_module": "@jupyter-widgets/base",
       "_model_module_version": "1.2.0",
       "_model_name": "LayoutModel",
       "_view_count": null,
       "_view_module": "@jupyter-widgets/base",
       "_view_module_version": "1.2.0",
       "_view_name": "LayoutView",
       "align_content": null,
       "align_items": null,
       "align_self": null,
       "border": null,
       "bottom": null,
       "display": null,
       "flex": null,
       "flex_flow": null,
       "grid_area": null,
       "grid_auto_columns": null,
       "grid_auto_flow": null,
       "grid_auto_rows": null,
       "grid_column": null,
       "grid_gap": null,
       "grid_row": null,
       "grid_template_areas": null,
       "grid_template_columns": null,
       "grid_template_rows": null,
       "height": null,
       "justify_content": null,
       "justify_items": null,
       "left": null,
       "margin": null,
       "max_height": null,
       "max_width": null,
       "min_height": null,
       "min_width": null,
       "object_fit": null,
       "object_position": null,
       "order": null,
       "overflow": null,
       "overflow_x": null,
       "overflow_y": null,
       "padding": null,
       "right": null,
       "top": null,
       "visibility": null,
       "width": null
      }
     },
     "795fb49ccc7444828b8dc12b8f4a7679": {
      "model_module": "@jupyter-widgets/controls",
      "model_module_version": "1.5.0",
      "model_name": "HBoxModel",
      "state": {
       "_dom_classes": [],
       "_model_module": "@jupyter-widgets/controls",
       "_model_module_version": "1.5.0",
       "_model_name": "HBoxModel",
       "_view_count": null,
       "_view_module": "@jupyter-widgets/controls",
       "_view_module_version": "1.5.0",
       "_view_name": "HBoxView",
       "box_style": "",
       "children": [
        "IPY_MODEL_ebd71ff40dfa41d0807ffc642d924b60",
        "IPY_MODEL_7749fb1e1ba34762887fbb635f1ffbd0",
        "IPY_MODEL_f47db198c4734ad8b486e82b9747a1cc"
       ],
       "layout": "IPY_MODEL_1d65f8f4e02f4996802ceddf1872726a"
      }
     },
     "79bd0cd9d2a3458b9dcf811931b01aea": {
      "model_module": "@jupyter-widgets/controls",
      "model_module_version": "1.5.0",
      "model_name": "DescriptionStyleModel",
      "state": {
       "_model_module": "@jupyter-widgets/controls",
       "_model_module_version": "1.5.0",
       "_model_name": "DescriptionStyleModel",
       "_view_count": null,
       "_view_module": "@jupyter-widgets/base",
       "_view_module_version": "1.2.0",
       "_view_name": "StyleView",
       "description_width": ""
      }
     },
     "7a9e086b96d04f32b5d5ef2e8b89eb27": {
      "model_module": "@jupyter-widgets/base",
      "model_module_version": "1.2.0",
      "model_name": "LayoutModel",
      "state": {
       "_model_module": "@jupyter-widgets/base",
       "_model_module_version": "1.2.0",
       "_model_name": "LayoutModel",
       "_view_count": null,
       "_view_module": "@jupyter-widgets/base",
       "_view_module_version": "1.2.0",
       "_view_name": "LayoutView",
       "align_content": null,
       "align_items": null,
       "align_self": null,
       "border": null,
       "bottom": null,
       "display": null,
       "flex": null,
       "flex_flow": null,
       "grid_area": null,
       "grid_auto_columns": null,
       "grid_auto_flow": null,
       "grid_auto_rows": null,
       "grid_column": null,
       "grid_gap": null,
       "grid_row": null,
       "grid_template_areas": null,
       "grid_template_columns": null,
       "grid_template_rows": null,
       "height": null,
       "justify_content": null,
       "justify_items": null,
       "left": null,
       "margin": null,
       "max_height": null,
       "max_width": null,
       "min_height": null,
       "min_width": null,
       "object_fit": null,
       "object_position": null,
       "order": null,
       "overflow": null,
       "overflow_x": null,
       "overflow_y": null,
       "padding": null,
       "right": null,
       "top": null,
       "visibility": null,
       "width": null
      }
     },
     "7b2d9ddd802a49ef8e8ccd446999b986": {
      "model_module": "@jupyter-widgets/controls",
      "model_module_version": "1.5.0",
      "model_name": "DescriptionStyleModel",
      "state": {
       "_model_module": "@jupyter-widgets/controls",
       "_model_module_version": "1.5.0",
       "_model_name": "DescriptionStyleModel",
       "_view_count": null,
       "_view_module": "@jupyter-widgets/base",
       "_view_module_version": "1.2.0",
       "_view_name": "StyleView",
       "description_width": ""
      }
     },
     "7cac220ae5934b3b84511868bd55e464": {
      "model_module": "@jupyter-widgets/controls",
      "model_module_version": "1.5.0",
      "model_name": "HTMLModel",
      "state": {
       "_dom_classes": [],
       "_model_module": "@jupyter-widgets/controls",
       "_model_module_version": "1.5.0",
       "_model_name": "HTMLModel",
       "_view_count": null,
       "_view_module": "@jupyter-widgets/controls",
       "_view_module_version": "1.5.0",
       "_view_name": "HTMLView",
       "description": "",
       "description_tooltip": null,
       "layout": "IPY_MODEL_cc3fdabd08f64f27878dcbc50ecef3ea",
       "placeholder": "​",
       "style": "IPY_MODEL_8422c515ac004c5fa070d81ff4005c93",
       "value": "MSEError: 0.22308790683746338: 100%"
      }
     },
     "7cf3b878475745fb9ba1b1a25581960b": {
      "model_module": "@jupyter-widgets/base",
      "model_module_version": "1.2.0",
      "model_name": "LayoutModel",
      "state": {
       "_model_module": "@jupyter-widgets/base",
       "_model_module_version": "1.2.0",
       "_model_name": "LayoutModel",
       "_view_count": null,
       "_view_module": "@jupyter-widgets/base",
       "_view_module_version": "1.2.0",
       "_view_name": "LayoutView",
       "align_content": null,
       "align_items": null,
       "align_self": null,
       "border": null,
       "bottom": null,
       "display": null,
       "flex": null,
       "flex_flow": null,
       "grid_area": null,
       "grid_auto_columns": null,
       "grid_auto_flow": null,
       "grid_auto_rows": null,
       "grid_column": null,
       "grid_gap": null,
       "grid_row": null,
       "grid_template_areas": null,
       "grid_template_columns": null,
       "grid_template_rows": null,
       "height": null,
       "justify_content": null,
       "justify_items": null,
       "left": null,
       "margin": null,
       "max_height": null,
       "max_width": null,
       "min_height": null,
       "min_width": null,
       "object_fit": null,
       "object_position": null,
       "order": null,
       "overflow": null,
       "overflow_x": null,
       "overflow_y": null,
       "padding": null,
       "right": null,
       "top": null,
       "visibility": null,
       "width": null
      }
     },
     "7fa58a9eaa6c485cbddd175e5cca526e": {
      "model_module": "@jupyter-widgets/controls",
      "model_module_version": "1.5.0",
      "model_name": "ProgressStyleModel",
      "state": {
       "_model_module": "@jupyter-widgets/controls",
       "_model_module_version": "1.5.0",
       "_model_name": "ProgressStyleModel",
       "_view_count": null,
       "_view_module": "@jupyter-widgets/base",
       "_view_module_version": "1.2.0",
       "_view_name": "StyleView",
       "bar_color": null,
       "description_width": ""
      }
     },
     "7ff3e82a5a1949708a0c6fdab6310ffa": {
      "model_module": "@jupyter-widgets/base",
      "model_module_version": "1.2.0",
      "model_name": "LayoutModel",
      "state": {
       "_model_module": "@jupyter-widgets/base",
       "_model_module_version": "1.2.0",
       "_model_name": "LayoutModel",
       "_view_count": null,
       "_view_module": "@jupyter-widgets/base",
       "_view_module_version": "1.2.0",
       "_view_name": "LayoutView",
       "align_content": null,
       "align_items": null,
       "align_self": null,
       "border": null,
       "bottom": null,
       "display": null,
       "flex": null,
       "flex_flow": null,
       "grid_area": null,
       "grid_auto_columns": null,
       "grid_auto_flow": null,
       "grid_auto_rows": null,
       "grid_column": null,
       "grid_gap": null,
       "grid_row": null,
       "grid_template_areas": null,
       "grid_template_columns": null,
       "grid_template_rows": null,
       "height": null,
       "justify_content": null,
       "justify_items": null,
       "left": null,
       "margin": null,
       "max_height": null,
       "max_width": null,
       "min_height": null,
       "min_width": null,
       "object_fit": null,
       "object_position": null,
       "order": null,
       "overflow": null,
       "overflow_x": null,
       "overflow_y": null,
       "padding": null,
       "right": null,
       "top": null,
       "visibility": null,
       "width": null
      }
     },
     "81ce13bd261f461db95b34492063a2bd": {
      "model_module": "@jupyter-widgets/base",
      "model_module_version": "1.2.0",
      "model_name": "LayoutModel",
      "state": {
       "_model_module": "@jupyter-widgets/base",
       "_model_module_version": "1.2.0",
       "_model_name": "LayoutModel",
       "_view_count": null,
       "_view_module": "@jupyter-widgets/base",
       "_view_module_version": "1.2.0",
       "_view_name": "LayoutView",
       "align_content": null,
       "align_items": null,
       "align_self": null,
       "border": null,
       "bottom": null,
       "display": null,
       "flex": null,
       "flex_flow": null,
       "grid_area": null,
       "grid_auto_columns": null,
       "grid_auto_flow": null,
       "grid_auto_rows": null,
       "grid_column": null,
       "grid_gap": null,
       "grid_row": null,
       "grid_template_areas": null,
       "grid_template_columns": null,
       "grid_template_rows": null,
       "height": null,
       "justify_content": null,
       "justify_items": null,
       "left": null,
       "margin": null,
       "max_height": null,
       "max_width": null,
       "min_height": null,
       "min_width": null,
       "object_fit": null,
       "object_position": null,
       "order": null,
       "overflow": null,
       "overflow_x": null,
       "overflow_y": null,
       "padding": null,
       "right": null,
       "top": null,
       "visibility": null,
       "width": null
      }
     },
     "829505bf00bc45e39f15894d7163eb3c": {
      "model_module": "@jupyter-widgets/base",
      "model_module_version": "1.2.0",
      "model_name": "LayoutModel",
      "state": {
       "_model_module": "@jupyter-widgets/base",
       "_model_module_version": "1.2.0",
       "_model_name": "LayoutModel",
       "_view_count": null,
       "_view_module": "@jupyter-widgets/base",
       "_view_module_version": "1.2.0",
       "_view_name": "LayoutView",
       "align_content": null,
       "align_items": null,
       "align_self": null,
       "border": null,
       "bottom": null,
       "display": null,
       "flex": null,
       "flex_flow": null,
       "grid_area": null,
       "grid_auto_columns": null,
       "grid_auto_flow": null,
       "grid_auto_rows": null,
       "grid_column": null,
       "grid_gap": null,
       "grid_row": null,
       "grid_template_areas": null,
       "grid_template_columns": null,
       "grid_template_rows": null,
       "height": null,
       "justify_content": null,
       "justify_items": null,
       "left": null,
       "margin": null,
       "max_height": null,
       "max_width": null,
       "min_height": null,
       "min_width": null,
       "object_fit": null,
       "object_position": null,
       "order": null,
       "overflow": null,
       "overflow_x": null,
       "overflow_y": null,
       "padding": null,
       "right": null,
       "top": null,
       "visibility": null,
       "width": null
      }
     },
     "8422c515ac004c5fa070d81ff4005c93": {
      "model_module": "@jupyter-widgets/controls",
      "model_module_version": "1.5.0",
      "model_name": "DescriptionStyleModel",
      "state": {
       "_model_module": "@jupyter-widgets/controls",
       "_model_module_version": "1.5.0",
       "_model_name": "DescriptionStyleModel",
       "_view_count": null,
       "_view_module": "@jupyter-widgets/base",
       "_view_module_version": "1.2.0",
       "_view_name": "StyleView",
       "description_width": ""
      }
     },
     "885d3848caed462696687482d6c53c45": {
      "model_module": "@jupyter-widgets/controls",
      "model_module_version": "1.5.0",
      "model_name": "HBoxModel",
      "state": {
       "_dom_classes": [],
       "_model_module": "@jupyter-widgets/controls",
       "_model_module_version": "1.5.0",
       "_model_name": "HBoxModel",
       "_view_count": null,
       "_view_module": "@jupyter-widgets/controls",
       "_view_module_version": "1.5.0",
       "_view_name": "HBoxView",
       "box_style": "",
       "children": [
        "IPY_MODEL_cdfba2519a9d4619a279526cf73b2591",
        "IPY_MODEL_765526c0b00749668a7cb258a979d182",
        "IPY_MODEL_3128fa83e483484e802841262d363e31"
       ],
       "layout": "IPY_MODEL_b1f891c5a33d45c8adf90957ac433214"
      }
     },
     "8a3f9a15334d408e8597e59414a94f82": {
      "model_module": "@jupyter-widgets/controls",
      "model_module_version": "1.5.0",
      "model_name": "DescriptionStyleModel",
      "state": {
       "_model_module": "@jupyter-widgets/controls",
       "_model_module_version": "1.5.0",
       "_model_name": "DescriptionStyleModel",
       "_view_count": null,
       "_view_module": "@jupyter-widgets/base",
       "_view_module_version": "1.2.0",
       "_view_name": "StyleView",
       "description_width": ""
      }
     },
     "8a836dfe81fe40038c4fd59af122be93": {
      "model_module": "@jupyter-widgets/base",
      "model_module_version": "1.2.0",
      "model_name": "LayoutModel",
      "state": {
       "_model_module": "@jupyter-widgets/base",
       "_model_module_version": "1.2.0",
       "_model_name": "LayoutModel",
       "_view_count": null,
       "_view_module": "@jupyter-widgets/base",
       "_view_module_version": "1.2.0",
       "_view_name": "LayoutView",
       "align_content": null,
       "align_items": null,
       "align_self": null,
       "border": null,
       "bottom": null,
       "display": null,
       "flex": null,
       "flex_flow": null,
       "grid_area": null,
       "grid_auto_columns": null,
       "grid_auto_flow": null,
       "grid_auto_rows": null,
       "grid_column": null,
       "grid_gap": null,
       "grid_row": null,
       "grid_template_areas": null,
       "grid_template_columns": null,
       "grid_template_rows": null,
       "height": null,
       "justify_content": null,
       "justify_items": null,
       "left": null,
       "margin": null,
       "max_height": null,
       "max_width": null,
       "min_height": null,
       "min_width": null,
       "object_fit": null,
       "object_position": null,
       "order": null,
       "overflow": null,
       "overflow_x": null,
       "overflow_y": null,
       "padding": null,
       "right": null,
       "top": null,
       "visibility": null,
       "width": null
      }
     },
     "8b8539b986e7482fb994f6dd01ac0a78": {
      "model_module": "@jupyter-widgets/controls",
      "model_module_version": "1.5.0",
      "model_name": "FloatProgressModel",
      "state": {
       "_dom_classes": [],
       "_model_module": "@jupyter-widgets/controls",
       "_model_module_version": "1.5.0",
       "_model_name": "FloatProgressModel",
       "_view_count": null,
       "_view_module": "@jupyter-widgets/controls",
       "_view_module_version": "1.5.0",
       "_view_name": "ProgressView",
       "bar_style": "success",
       "description": "",
       "description_tooltip": null,
       "layout": "IPY_MODEL_b1bd8ae2962e45c793b9acd906523d14",
       "max": 805.0,
       "min": 0.0,
       "orientation": "horizontal",
       "style": "IPY_MODEL_6e342ff184f8443d9bba0116e3a9ba75",
       "value": 805.0
      }
     },
     "8cf299586b4a4547989ad21ca615049f": {
      "model_module": "@jupyter-widgets/controls",
      "model_module_version": "1.5.0",
      "model_name": "HBoxModel",
      "state": {
       "_dom_classes": [],
       "_model_module": "@jupyter-widgets/controls",
       "_model_module_version": "1.5.0",
       "_model_name": "HBoxModel",
       "_view_count": null,
       "_view_module": "@jupyter-widgets/controls",
       "_view_module_version": "1.5.0",
       "_view_name": "HBoxView",
       "box_style": "",
       "children": [
        "IPY_MODEL_3f03661f7fdf4fa5bbc79fa0cfa9c0b1",
        "IPY_MODEL_0c02bb5b5936418dad9d67a9baaf0a17",
        "IPY_MODEL_d540d4589b724be7860ad6f7eb68c230"
       ],
       "layout": "IPY_MODEL_b3d21c71b555476eaa8810ffead04be9"
      }
     },
     "8d4b9f3cbf6f4aad8a2682b47434b3a6": {
      "model_module": "@jupyter-widgets/controls",
      "model_module_version": "1.5.0",
      "model_name": "HBoxModel",
      "state": {
       "_dom_classes": [],
       "_model_module": "@jupyter-widgets/controls",
       "_model_module_version": "1.5.0",
       "_model_name": "HBoxModel",
       "_view_count": null,
       "_view_module": "@jupyter-widgets/controls",
       "_view_module_version": "1.5.0",
       "_view_name": "HBoxView",
       "box_style": "",
       "children": [
        "IPY_MODEL_7cac220ae5934b3b84511868bd55e464",
        "IPY_MODEL_ecd726c1da0548e6a078de192edaa21a",
        "IPY_MODEL_f697968cae8b49908de036c78f129708"
       ],
       "layout": "IPY_MODEL_0e291d577dbb4d12bdf99e2ded35280a"
      }
     },
     "8ec6fb7b62f54b27b158d433746f53a0": {
      "model_module": "@jupyter-widgets/controls",
      "model_module_version": "1.5.0",
      "model_name": "HBoxModel",
      "state": {
       "_dom_classes": [],
       "_model_module": "@jupyter-widgets/controls",
       "_model_module_version": "1.5.0",
       "_model_name": "HBoxModel",
       "_view_count": null,
       "_view_module": "@jupyter-widgets/controls",
       "_view_module_version": "1.5.0",
       "_view_name": "HBoxView",
       "box_style": "",
       "children": [
        "IPY_MODEL_76e60ff7fa114c289028038c41c72b94",
        "IPY_MODEL_0979991de065468186700da8bc152f90",
        "IPY_MODEL_9ad283cda6644fad92f18c17f408d1da"
       ],
       "layout": "IPY_MODEL_19248acc0ad247df870c5c36eaf25030"
      }
     },
     "8edefe01ac724cec8f299c58f84710bd": {
      "model_module": "@jupyter-widgets/base",
      "model_module_version": "1.2.0",
      "model_name": "LayoutModel",
      "state": {
       "_model_module": "@jupyter-widgets/base",
       "_model_module_version": "1.2.0",
       "_model_name": "LayoutModel",
       "_view_count": null,
       "_view_module": "@jupyter-widgets/base",
       "_view_module_version": "1.2.0",
       "_view_name": "LayoutView",
       "align_content": null,
       "align_items": null,
       "align_self": null,
       "border": null,
       "bottom": null,
       "display": null,
       "flex": null,
       "flex_flow": null,
       "grid_area": null,
       "grid_auto_columns": null,
       "grid_auto_flow": null,
       "grid_auto_rows": null,
       "grid_column": null,
       "grid_gap": null,
       "grid_row": null,
       "grid_template_areas": null,
       "grid_template_columns": null,
       "grid_template_rows": null,
       "height": null,
       "justify_content": null,
       "justify_items": null,
       "left": null,
       "margin": null,
       "max_height": null,
       "max_width": null,
       "min_height": null,
       "min_width": null,
       "object_fit": null,
       "object_position": null,
       "order": null,
       "overflow": null,
       "overflow_x": null,
       "overflow_y": null,
       "padding": null,
       "right": null,
       "top": null,
       "visibility": null,
       "width": null
      }
     },
     "8ee10e9c93f4478ca282cc0aec6cdd31": {
      "model_module": "@jupyter-widgets/base",
      "model_module_version": "1.2.0",
      "model_name": "LayoutModel",
      "state": {
       "_model_module": "@jupyter-widgets/base",
       "_model_module_version": "1.2.0",
       "_model_name": "LayoutModel",
       "_view_count": null,
       "_view_module": "@jupyter-widgets/base",
       "_view_module_version": "1.2.0",
       "_view_name": "LayoutView",
       "align_content": null,
       "align_items": null,
       "align_self": null,
       "border": null,
       "bottom": null,
       "display": null,
       "flex": null,
       "flex_flow": null,
       "grid_area": null,
       "grid_auto_columns": null,
       "grid_auto_flow": null,
       "grid_auto_rows": null,
       "grid_column": null,
       "grid_gap": null,
       "grid_row": null,
       "grid_template_areas": null,
       "grid_template_columns": null,
       "grid_template_rows": null,
       "height": null,
       "justify_content": null,
       "justify_items": null,
       "left": null,
       "margin": null,
       "max_height": null,
       "max_width": null,
       "min_height": null,
       "min_width": null,
       "object_fit": null,
       "object_position": null,
       "order": null,
       "overflow": null,
       "overflow_x": null,
       "overflow_y": null,
       "padding": null,
       "right": null,
       "top": null,
       "visibility": null,
       "width": null
      }
     },
     "8f27dba6d8e54d749de8d004d4987643": {
      "model_module": "@jupyter-widgets/controls",
      "model_module_version": "1.5.0",
      "model_name": "HTMLModel",
      "state": {
       "_dom_classes": [],
       "_model_module": "@jupyter-widgets/controls",
       "_model_module_version": "1.5.0",
       "_model_name": "HTMLModel",
       "_view_count": null,
       "_view_module": "@jupyter-widgets/controls",
       "_view_module_version": "1.5.0",
       "_view_name": "HTMLView",
       "description": "",
       "description_tooltip": null,
       "layout": "IPY_MODEL_7ff3e82a5a1949708a0c6fdab6310ffa",
       "placeholder": "​",
       "style": "IPY_MODEL_f4ed05c89a624312a9b7cda4ab49e670",
       "value": "MSEError: 0.2271592617034912: 100%"
      }
     },
     "8f972ebce20f49e58147c97e3fa12529": {
      "model_module": "@jupyter-widgets/controls",
      "model_module_version": "1.5.0",
      "model_name": "HTMLModel",
      "state": {
       "_dom_classes": [],
       "_model_module": "@jupyter-widgets/controls",
       "_model_module_version": "1.5.0",
       "_model_name": "HTMLModel",
       "_view_count": null,
       "_view_module": "@jupyter-widgets/controls",
       "_view_module_version": "1.5.0",
       "_view_name": "HTMLView",
       "description": "",
       "description_tooltip": null,
       "layout": "IPY_MODEL_9d1358e441cb45779e0d6987ab7cb9c8",
       "placeholder": "​",
       "style": "IPY_MODEL_2f6e0c2854af406c834e920f6bcb0ec3",
       "value": "MSEError: 0.2125849574804306: 100%"
      }
     },
     "900877602cc04a34ae3355d37f44b8e3": {
      "model_module": "@jupyter-widgets/controls",
      "model_module_version": "1.5.0",
      "model_name": "HTMLModel",
      "state": {
       "_dom_classes": [],
       "_model_module": "@jupyter-widgets/controls",
       "_model_module_version": "1.5.0",
       "_model_name": "HTMLModel",
       "_view_count": null,
       "_view_module": "@jupyter-widgets/controls",
       "_view_module_version": "1.5.0",
       "_view_name": "HTMLView",
       "description": "",
       "description_tooltip": null,
       "layout": "IPY_MODEL_93e2bd9f7acc4ca3be168ee2e4d5c589",
       "placeholder": "​",
       "style": "IPY_MODEL_91be0bcee69f4c819ee29decd148d218",
       "value": "MSEError: 0.20936615765094757: 100%"
      }
     },
     "91be0bcee69f4c819ee29decd148d218": {
      "model_module": "@jupyter-widgets/controls",
      "model_module_version": "1.5.0",
      "model_name": "DescriptionStyleModel",
      "state": {
       "_model_module": "@jupyter-widgets/controls",
       "_model_module_version": "1.5.0",
       "_model_name": "DescriptionStyleModel",
       "_view_count": null,
       "_view_module": "@jupyter-widgets/base",
       "_view_module_version": "1.2.0",
       "_view_name": "StyleView",
       "description_width": ""
      }
     },
     "923729666fd0449aa26bb80c22dfb665": {
      "model_module": "@jupyter-widgets/controls",
      "model_module_version": "1.5.0",
      "model_name": "DescriptionStyleModel",
      "state": {
       "_model_module": "@jupyter-widgets/controls",
       "_model_module_version": "1.5.0",
       "_model_name": "DescriptionStyleModel",
       "_view_count": null,
       "_view_module": "@jupyter-widgets/base",
       "_view_module_version": "1.2.0",
       "_view_name": "StyleView",
       "description_width": ""
      }
     },
     "93421662fed043568446f9dd2786a1a0": {
      "model_module": "@jupyter-widgets/base",
      "model_module_version": "1.2.0",
      "model_name": "LayoutModel",
      "state": {
       "_model_module": "@jupyter-widgets/base",
       "_model_module_version": "1.2.0",
       "_model_name": "LayoutModel",
       "_view_count": null,
       "_view_module": "@jupyter-widgets/base",
       "_view_module_version": "1.2.0",
       "_view_name": "LayoutView",
       "align_content": null,
       "align_items": null,
       "align_self": null,
       "border": null,
       "bottom": null,
       "display": null,
       "flex": null,
       "flex_flow": null,
       "grid_area": null,
       "grid_auto_columns": null,
       "grid_auto_flow": null,
       "grid_auto_rows": null,
       "grid_column": null,
       "grid_gap": null,
       "grid_row": null,
       "grid_template_areas": null,
       "grid_template_columns": null,
       "grid_template_rows": null,
       "height": null,
       "justify_content": null,
       "justify_items": null,
       "left": null,
       "margin": null,
       "max_height": null,
       "max_width": null,
       "min_height": null,
       "min_width": null,
       "object_fit": null,
       "object_position": null,
       "order": null,
       "overflow": null,
       "overflow_x": null,
       "overflow_y": null,
       "padding": null,
       "right": null,
       "top": null,
       "visibility": null,
       "width": null
      }
     },
     "93aef4a4e6154793bd8cef32d9ee2782": {
      "model_module": "@jupyter-widgets/controls",
      "model_module_version": "1.5.0",
      "model_name": "ProgressStyleModel",
      "state": {
       "_model_module": "@jupyter-widgets/controls",
       "_model_module_version": "1.5.0",
       "_model_name": "ProgressStyleModel",
       "_view_count": null,
       "_view_module": "@jupyter-widgets/base",
       "_view_module_version": "1.2.0",
       "_view_name": "StyleView",
       "bar_color": null,
       "description_width": ""
      }
     },
     "93e2bd9f7acc4ca3be168ee2e4d5c589": {
      "model_module": "@jupyter-widgets/base",
      "model_module_version": "1.2.0",
      "model_name": "LayoutModel",
      "state": {
       "_model_module": "@jupyter-widgets/base",
       "_model_module_version": "1.2.0",
       "_model_name": "LayoutModel",
       "_view_count": null,
       "_view_module": "@jupyter-widgets/base",
       "_view_module_version": "1.2.0",
       "_view_name": "LayoutView",
       "align_content": null,
       "align_items": null,
       "align_self": null,
       "border": null,
       "bottom": null,
       "display": null,
       "flex": null,
       "flex_flow": null,
       "grid_area": null,
       "grid_auto_columns": null,
       "grid_auto_flow": null,
       "grid_auto_rows": null,
       "grid_column": null,
       "grid_gap": null,
       "grid_row": null,
       "grid_template_areas": null,
       "grid_template_columns": null,
       "grid_template_rows": null,
       "height": null,
       "justify_content": null,
       "justify_items": null,
       "left": null,
       "margin": null,
       "max_height": null,
       "max_width": null,
       "min_height": null,
       "min_width": null,
       "object_fit": null,
       "object_position": null,
       "order": null,
       "overflow": null,
       "overflow_x": null,
       "overflow_y": null,
       "padding": null,
       "right": null,
       "top": null,
       "visibility": null,
       "width": null
      }
     },
     "940a7bf8738547e29ca04b5d0f271ee3": {
      "model_module": "@jupyter-widgets/base",
      "model_module_version": "1.2.0",
      "model_name": "LayoutModel",
      "state": {
       "_model_module": "@jupyter-widgets/base",
       "_model_module_version": "1.2.0",
       "_model_name": "LayoutModel",
       "_view_count": null,
       "_view_module": "@jupyter-widgets/base",
       "_view_module_version": "1.2.0",
       "_view_name": "LayoutView",
       "align_content": null,
       "align_items": null,
       "align_self": null,
       "border": null,
       "bottom": null,
       "display": null,
       "flex": null,
       "flex_flow": null,
       "grid_area": null,
       "grid_auto_columns": null,
       "grid_auto_flow": null,
       "grid_auto_rows": null,
       "grid_column": null,
       "grid_gap": null,
       "grid_row": null,
       "grid_template_areas": null,
       "grid_template_columns": null,
       "grid_template_rows": null,
       "height": null,
       "justify_content": null,
       "justify_items": null,
       "left": null,
       "margin": null,
       "max_height": null,
       "max_width": null,
       "min_height": null,
       "min_width": null,
       "object_fit": null,
       "object_position": null,
       "order": null,
       "overflow": null,
       "overflow_x": null,
       "overflow_y": null,
       "padding": null,
       "right": null,
       "top": null,
       "visibility": null,
       "width": null
      }
     },
     "94b2fddc7bf744bf89656e0f578c2a36": {
      "model_module": "@jupyter-widgets/base",
      "model_module_version": "1.2.0",
      "model_name": "LayoutModel",
      "state": {
       "_model_module": "@jupyter-widgets/base",
       "_model_module_version": "1.2.0",
       "_model_name": "LayoutModel",
       "_view_count": null,
       "_view_module": "@jupyter-widgets/base",
       "_view_module_version": "1.2.0",
       "_view_name": "LayoutView",
       "align_content": null,
       "align_items": null,
       "align_self": null,
       "border": null,
       "bottom": null,
       "display": null,
       "flex": null,
       "flex_flow": null,
       "grid_area": null,
       "grid_auto_columns": null,
       "grid_auto_flow": null,
       "grid_auto_rows": null,
       "grid_column": null,
       "grid_gap": null,
       "grid_row": null,
       "grid_template_areas": null,
       "grid_template_columns": null,
       "grid_template_rows": null,
       "height": null,
       "justify_content": null,
       "justify_items": null,
       "left": null,
       "margin": null,
       "max_height": null,
       "max_width": null,
       "min_height": null,
       "min_width": null,
       "object_fit": null,
       "object_position": null,
       "order": null,
       "overflow": null,
       "overflow_x": null,
       "overflow_y": null,
       "padding": null,
       "right": null,
       "top": null,
       "visibility": null,
       "width": null
      }
     },
     "955585e82be74caeb037338b94d7d494": {
      "model_module": "@jupyter-widgets/controls",
      "model_module_version": "1.5.0",
      "model_name": "HTMLModel",
      "state": {
       "_dom_classes": [],
       "_model_module": "@jupyter-widgets/controls",
       "_model_module_version": "1.5.0",
       "_model_name": "HTMLModel",
       "_view_count": null,
       "_view_module": "@jupyter-widgets/controls",
       "_view_module_version": "1.5.0",
       "_view_name": "HTMLView",
       "description": "",
       "description_tooltip": null,
       "layout": "IPY_MODEL_b1fa1e9efcd24460862af13ca616c8c4",
       "placeholder": "​",
       "style": "IPY_MODEL_e2834f117cc041e5b5ae68db02577b08",
       "value": " 805/805 [26:22&lt;00:00,  1.59s/it]"
      }
     },
     "990ab79b1da64ab38807a1fdd8290729": {
      "model_module": "@jupyter-widgets/base",
      "model_module_version": "1.2.0",
      "model_name": "LayoutModel",
      "state": {
       "_model_module": "@jupyter-widgets/base",
       "_model_module_version": "1.2.0",
       "_model_name": "LayoutModel",
       "_view_count": null,
       "_view_module": "@jupyter-widgets/base",
       "_view_module_version": "1.2.0",
       "_view_name": "LayoutView",
       "align_content": null,
       "align_items": null,
       "align_self": null,
       "border": null,
       "bottom": null,
       "display": null,
       "flex": null,
       "flex_flow": null,
       "grid_area": null,
       "grid_auto_columns": null,
       "grid_auto_flow": null,
       "grid_auto_rows": null,
       "grid_column": null,
       "grid_gap": null,
       "grid_row": null,
       "grid_template_areas": null,
       "grid_template_columns": null,
       "grid_template_rows": null,
       "height": null,
       "justify_content": null,
       "justify_items": null,
       "left": null,
       "margin": null,
       "max_height": null,
       "max_width": null,
       "min_height": null,
       "min_width": null,
       "object_fit": null,
       "object_position": null,
       "order": null,
       "overflow": null,
       "overflow_x": null,
       "overflow_y": null,
       "padding": null,
       "right": null,
       "top": null,
       "visibility": null,
       "width": null
      }
     },
     "997cbba0bae34456b9155d5ae79e3a7a": {
      "model_module": "@jupyter-widgets/controls",
      "model_module_version": "1.5.0",
      "model_name": "FloatProgressModel",
      "state": {
       "_dom_classes": [],
       "_model_module": "@jupyter-widgets/controls",
       "_model_module_version": "1.5.0",
       "_model_name": "FloatProgressModel",
       "_view_count": null,
       "_view_module": "@jupyter-widgets/controls",
       "_view_module_version": "1.5.0",
       "_view_name": "ProgressView",
       "bar_style": "success",
       "description": "",
       "description_tooltip": null,
       "layout": "IPY_MODEL_8a836dfe81fe40038c4fd59af122be93",
       "max": 805.0,
       "min": 0.0,
       "orientation": "horizontal",
       "style": "IPY_MODEL_0ad2b46c1198418ab42d5d874b63a01d",
       "value": 805.0
      }
     },
     "9ad283cda6644fad92f18c17f408d1da": {
      "model_module": "@jupyter-widgets/controls",
      "model_module_version": "1.5.0",
      "model_name": "HTMLModel",
      "state": {
       "_dom_classes": [],
       "_model_module": "@jupyter-widgets/controls",
       "_model_module_version": "1.5.0",
       "_model_name": "HTMLModel",
       "_view_count": null,
       "_view_module": "@jupyter-widgets/controls",
       "_view_module_version": "1.5.0",
       "_view_name": "HTMLView",
       "description": "",
       "description_tooltip": null,
       "layout": "IPY_MODEL_5a7a7273caa446febb65142aa0ea80f9",
       "placeholder": "​",
       "style": "IPY_MODEL_45d2390b02a44bbc9079050aa2a7a829",
       "value": " 805/805 [26:48&lt;00:00,  1.66s/it]"
      }
     },
     "9ba0a58f95d14e15bbf1da7db68e3f63": {
      "model_module": "@jupyter-widgets/controls",
      "model_module_version": "1.5.0",
      "model_name": "HBoxModel",
      "state": {
       "_dom_classes": [],
       "_model_module": "@jupyter-widgets/controls",
       "_model_module_version": "1.5.0",
       "_model_name": "HBoxModel",
       "_view_count": null,
       "_view_module": "@jupyter-widgets/controls",
       "_view_module_version": "1.5.0",
       "_view_name": "HBoxView",
       "box_style": "",
       "children": [
        "IPY_MODEL_d93d08c4799a4b7085bbbd8011aa26a2",
        "IPY_MODEL_7670bffb18f2428a8c44abe368e49493",
        "IPY_MODEL_2a4d9662a32b4e73bdde9199c8c1bd5a"
       ],
       "layout": "IPY_MODEL_38869466600d410eae72f7b20651c098"
      }
     },
     "9baf6036410f4587acfffd8c27a091ea": {
      "model_module": "@jupyter-widgets/base",
      "model_module_version": "1.2.0",
      "model_name": "LayoutModel",
      "state": {
       "_model_module": "@jupyter-widgets/base",
       "_model_module_version": "1.2.0",
       "_model_name": "LayoutModel",
       "_view_count": null,
       "_view_module": "@jupyter-widgets/base",
       "_view_module_version": "1.2.0",
       "_view_name": "LayoutView",
       "align_content": null,
       "align_items": null,
       "align_self": null,
       "border": null,
       "bottom": null,
       "display": null,
       "flex": null,
       "flex_flow": null,
       "grid_area": null,
       "grid_auto_columns": null,
       "grid_auto_flow": null,
       "grid_auto_rows": null,
       "grid_column": null,
       "grid_gap": null,
       "grid_row": null,
       "grid_template_areas": null,
       "grid_template_columns": null,
       "grid_template_rows": null,
       "height": null,
       "justify_content": null,
       "justify_items": null,
       "left": null,
       "margin": null,
       "max_height": null,
       "max_width": null,
       "min_height": null,
       "min_width": null,
       "object_fit": null,
       "object_position": null,
       "order": null,
       "overflow": null,
       "overflow_x": null,
       "overflow_y": null,
       "padding": null,
       "right": null,
       "top": null,
       "visibility": null,
       "width": null
      }
     },
     "9d0603c38fcd43f388d57258d33ad62b": {
      "model_module": "@jupyter-widgets/controls",
      "model_module_version": "1.5.0",
      "model_name": "DescriptionStyleModel",
      "state": {
       "_model_module": "@jupyter-widgets/controls",
       "_model_module_version": "1.5.0",
       "_model_name": "DescriptionStyleModel",
       "_view_count": null,
       "_view_module": "@jupyter-widgets/base",
       "_view_module_version": "1.2.0",
       "_view_name": "StyleView",
       "description_width": ""
      }
     },
     "9d125a58ca8749b28f2f0b9a3a71ca8b": {
      "model_module": "@jupyter-widgets/controls",
      "model_module_version": "1.5.0",
      "model_name": "HBoxModel",
      "state": {
       "_dom_classes": [],
       "_model_module": "@jupyter-widgets/controls",
       "_model_module_version": "1.5.0",
       "_model_name": "HBoxModel",
       "_view_count": null,
       "_view_module": "@jupyter-widgets/controls",
       "_view_module_version": "1.5.0",
       "_view_name": "HBoxView",
       "box_style": "",
       "children": [
        "IPY_MODEL_8f27dba6d8e54d749de8d004d4987643",
        "IPY_MODEL_3b7dd995ba2948bd8497821c2c11a78e",
        "IPY_MODEL_267452de5ea4483ca2aec44a46640c7a"
       ],
       "layout": "IPY_MODEL_22f8f3fa17c0416f9fc4e5d4c1c2dcae"
      }
     },
     "9d1358e441cb45779e0d6987ab7cb9c8": {
      "model_module": "@jupyter-widgets/base",
      "model_module_version": "1.2.0",
      "model_name": "LayoutModel",
      "state": {
       "_model_module": "@jupyter-widgets/base",
       "_model_module_version": "1.2.0",
       "_model_name": "LayoutModel",
       "_view_count": null,
       "_view_module": "@jupyter-widgets/base",
       "_view_module_version": "1.2.0",
       "_view_name": "LayoutView",
       "align_content": null,
       "align_items": null,
       "align_self": null,
       "border": null,
       "bottom": null,
       "display": null,
       "flex": null,
       "flex_flow": null,
       "grid_area": null,
       "grid_auto_columns": null,
       "grid_auto_flow": null,
       "grid_auto_rows": null,
       "grid_column": null,
       "grid_gap": null,
       "grid_row": null,
       "grid_template_areas": null,
       "grid_template_columns": null,
       "grid_template_rows": null,
       "height": null,
       "justify_content": null,
       "justify_items": null,
       "left": null,
       "margin": null,
       "max_height": null,
       "max_width": null,
       "min_height": null,
       "min_width": null,
       "object_fit": null,
       "object_position": null,
       "order": null,
       "overflow": null,
       "overflow_x": null,
       "overflow_y": null,
       "padding": null,
       "right": null,
       "top": null,
       "visibility": null,
       "width": null
      }
     },
     "a0cc104f5db647b8991ed7b82d8537e4": {
      "model_module": "@jupyter-widgets/base",
      "model_module_version": "1.2.0",
      "model_name": "LayoutModel",
      "state": {
       "_model_module": "@jupyter-widgets/base",
       "_model_module_version": "1.2.0",
       "_model_name": "LayoutModel",
       "_view_count": null,
       "_view_module": "@jupyter-widgets/base",
       "_view_module_version": "1.2.0",
       "_view_name": "LayoutView",
       "align_content": null,
       "align_items": null,
       "align_self": null,
       "border": null,
       "bottom": null,
       "display": null,
       "flex": null,
       "flex_flow": null,
       "grid_area": null,
       "grid_auto_columns": null,
       "grid_auto_flow": null,
       "grid_auto_rows": null,
       "grid_column": null,
       "grid_gap": null,
       "grid_row": null,
       "grid_template_areas": null,
       "grid_template_columns": null,
       "grid_template_rows": null,
       "height": null,
       "justify_content": null,
       "justify_items": null,
       "left": null,
       "margin": null,
       "max_height": null,
       "max_width": null,
       "min_height": null,
       "min_width": null,
       "object_fit": null,
       "object_position": null,
       "order": null,
       "overflow": null,
       "overflow_x": null,
       "overflow_y": null,
       "padding": null,
       "right": null,
       "top": null,
       "visibility": null,
       "width": null
      }
     },
     "a26c194db04149848027edde98c72cc7": {
      "model_module": "@jupyter-widgets/base",
      "model_module_version": "1.2.0",
      "model_name": "LayoutModel",
      "state": {
       "_model_module": "@jupyter-widgets/base",
       "_model_module_version": "1.2.0",
       "_model_name": "LayoutModel",
       "_view_count": null,
       "_view_module": "@jupyter-widgets/base",
       "_view_module_version": "1.2.0",
       "_view_name": "LayoutView",
       "align_content": null,
       "align_items": null,
       "align_self": null,
       "border": null,
       "bottom": null,
       "display": null,
       "flex": null,
       "flex_flow": null,
       "grid_area": null,
       "grid_auto_columns": null,
       "grid_auto_flow": null,
       "grid_auto_rows": null,
       "grid_column": null,
       "grid_gap": null,
       "grid_row": null,
       "grid_template_areas": null,
       "grid_template_columns": null,
       "grid_template_rows": null,
       "height": null,
       "justify_content": null,
       "justify_items": null,
       "left": null,
       "margin": null,
       "max_height": null,
       "max_width": null,
       "min_height": null,
       "min_width": null,
       "object_fit": null,
       "object_position": null,
       "order": null,
       "overflow": null,
       "overflow_x": null,
       "overflow_y": null,
       "padding": null,
       "right": null,
       "top": null,
       "visibility": null,
       "width": null
      }
     },
     "a29eb1b104c244549c8b9124049e3fdd": {
      "model_module": "@jupyter-widgets/controls",
      "model_module_version": "1.5.0",
      "model_name": "DescriptionStyleModel",
      "state": {
       "_model_module": "@jupyter-widgets/controls",
       "_model_module_version": "1.5.0",
       "_model_name": "DescriptionStyleModel",
       "_view_count": null,
       "_view_module": "@jupyter-widgets/base",
       "_view_module_version": "1.2.0",
       "_view_name": "StyleView",
       "description_width": ""
      }
     },
     "a2c87a20d8a449c59996818b75b411e0": {
      "model_module": "@jupyter-widgets/base",
      "model_module_version": "1.2.0",
      "model_name": "LayoutModel",
      "state": {
       "_model_module": "@jupyter-widgets/base",
       "_model_module_version": "1.2.0",
       "_model_name": "LayoutModel",
       "_view_count": null,
       "_view_module": "@jupyter-widgets/base",
       "_view_module_version": "1.2.0",
       "_view_name": "LayoutView",
       "align_content": null,
       "align_items": null,
       "align_self": null,
       "border": null,
       "bottom": null,
       "display": null,
       "flex": null,
       "flex_flow": null,
       "grid_area": null,
       "grid_auto_columns": null,
       "grid_auto_flow": null,
       "grid_auto_rows": null,
       "grid_column": null,
       "grid_gap": null,
       "grid_row": null,
       "grid_template_areas": null,
       "grid_template_columns": null,
       "grid_template_rows": null,
       "height": null,
       "justify_content": null,
       "justify_items": null,
       "left": null,
       "margin": null,
       "max_height": null,
       "max_width": null,
       "min_height": null,
       "min_width": null,
       "object_fit": null,
       "object_position": null,
       "order": null,
       "overflow": null,
       "overflow_x": null,
       "overflow_y": null,
       "padding": null,
       "right": null,
       "top": null,
       "visibility": null,
       "width": null
      }
     },
     "a3f1d4b05172485ea7fb8592d65c40a6": {
      "model_module": "@jupyter-widgets/controls",
      "model_module_version": "1.5.0",
      "model_name": "ProgressStyleModel",
      "state": {
       "_model_module": "@jupyter-widgets/controls",
       "_model_module_version": "1.5.0",
       "_model_name": "ProgressStyleModel",
       "_view_count": null,
       "_view_module": "@jupyter-widgets/base",
       "_view_module_version": "1.2.0",
       "_view_name": "StyleView",
       "bar_color": null,
       "description_width": ""
      }
     },
     "a468e0fffdc34bde8b8d1509497bb5b6": {
      "model_module": "@jupyter-widgets/base",
      "model_module_version": "1.2.0",
      "model_name": "LayoutModel",
      "state": {
       "_model_module": "@jupyter-widgets/base",
       "_model_module_version": "1.2.0",
       "_model_name": "LayoutModel",
       "_view_count": null,
       "_view_module": "@jupyter-widgets/base",
       "_view_module_version": "1.2.0",
       "_view_name": "LayoutView",
       "align_content": null,
       "align_items": null,
       "align_self": null,
       "border": null,
       "bottom": null,
       "display": null,
       "flex": null,
       "flex_flow": null,
       "grid_area": null,
       "grid_auto_columns": null,
       "grid_auto_flow": null,
       "grid_auto_rows": null,
       "grid_column": null,
       "grid_gap": null,
       "grid_row": null,
       "grid_template_areas": null,
       "grid_template_columns": null,
       "grid_template_rows": null,
       "height": null,
       "justify_content": null,
       "justify_items": null,
       "left": null,
       "margin": null,
       "max_height": null,
       "max_width": null,
       "min_height": null,
       "min_width": null,
       "object_fit": null,
       "object_position": null,
       "order": null,
       "overflow": null,
       "overflow_x": null,
       "overflow_y": null,
       "padding": null,
       "right": null,
       "top": null,
       "visibility": null,
       "width": null
      }
     },
     "a8fe38e556ae48a1b3c7de485e34b9bc": {
      "model_module": "@jupyter-widgets/controls",
      "model_module_version": "1.5.0",
      "model_name": "DescriptionStyleModel",
      "state": {
       "_model_module": "@jupyter-widgets/controls",
       "_model_module_version": "1.5.0",
       "_model_name": "DescriptionStyleModel",
       "_view_count": null,
       "_view_module": "@jupyter-widgets/base",
       "_view_module_version": "1.2.0",
       "_view_name": "StyleView",
       "description_width": ""
      }
     },
     "aacfcf069c5a44309a32ee77f098e5e4": {
      "model_module": "@jupyter-widgets/controls",
      "model_module_version": "1.5.0",
      "model_name": "ProgressStyleModel",
      "state": {
       "_model_module": "@jupyter-widgets/controls",
       "_model_module_version": "1.5.0",
       "_model_name": "ProgressStyleModel",
       "_view_count": null,
       "_view_module": "@jupyter-widgets/base",
       "_view_module_version": "1.2.0",
       "_view_name": "StyleView",
       "bar_color": null,
       "description_width": ""
      }
     },
     "abb10936703b4c1894d488e2b3ffa33c": {
      "model_module": "@jupyter-widgets/controls",
      "model_module_version": "1.5.0",
      "model_name": "ProgressStyleModel",
      "state": {
       "_model_module": "@jupyter-widgets/controls",
       "_model_module_version": "1.5.0",
       "_model_name": "ProgressStyleModel",
       "_view_count": null,
       "_view_module": "@jupyter-widgets/base",
       "_view_module_version": "1.2.0",
       "_view_name": "StyleView",
       "bar_color": null,
       "description_width": ""
      }
     },
     "ac6f2f80f30a4e33b9bec47648aa78ca": {
      "model_module": "@jupyter-widgets/base",
      "model_module_version": "1.2.0",
      "model_name": "LayoutModel",
      "state": {
       "_model_module": "@jupyter-widgets/base",
       "_model_module_version": "1.2.0",
       "_model_name": "LayoutModel",
       "_view_count": null,
       "_view_module": "@jupyter-widgets/base",
       "_view_module_version": "1.2.0",
       "_view_name": "LayoutView",
       "align_content": null,
       "align_items": null,
       "align_self": null,
       "border": null,
       "bottom": null,
       "display": null,
       "flex": null,
       "flex_flow": null,
       "grid_area": null,
       "grid_auto_columns": null,
       "grid_auto_flow": null,
       "grid_auto_rows": null,
       "grid_column": null,
       "grid_gap": null,
       "grid_row": null,
       "grid_template_areas": null,
       "grid_template_columns": null,
       "grid_template_rows": null,
       "height": null,
       "justify_content": null,
       "justify_items": null,
       "left": null,
       "margin": null,
       "max_height": null,
       "max_width": null,
       "min_height": null,
       "min_width": null,
       "object_fit": null,
       "object_position": null,
       "order": null,
       "overflow": null,
       "overflow_x": null,
       "overflow_y": null,
       "padding": null,
       "right": null,
       "top": null,
       "visibility": null,
       "width": null
      }
     },
     "ae1ca5ab7a274b48878a77d8a8a5bdb8": {
      "model_module": "@jupyter-widgets/controls",
      "model_module_version": "1.5.0",
      "model_name": "HBoxModel",
      "state": {
       "_dom_classes": [],
       "_model_module": "@jupyter-widgets/controls",
       "_model_module_version": "1.5.0",
       "_model_name": "HBoxModel",
       "_view_count": null,
       "_view_module": "@jupyter-widgets/controls",
       "_view_module_version": "1.5.0",
       "_view_name": "HBoxView",
       "box_style": "",
       "children": [
        "IPY_MODEL_b409bbd20f3e4b7b9dbba869bab072a9",
        "IPY_MODEL_46f6de885bec41cb8b9586addb30dfb1",
        "IPY_MODEL_247a320439eb4219b10fc8db01c184df"
       ],
       "layout": "IPY_MODEL_94b2fddc7bf744bf89656e0f578c2a36"
      }
     },
     "b00473a0ab71481abddd6aee143aa986": {
      "model_module": "@jupyter-widgets/controls",
      "model_module_version": "1.5.0",
      "model_name": "HTMLModel",
      "state": {
       "_dom_classes": [],
       "_model_module": "@jupyter-widgets/controls",
       "_model_module_version": "1.5.0",
       "_model_name": "HTMLModel",
       "_view_count": null,
       "_view_module": "@jupyter-widgets/controls",
       "_view_module_version": "1.5.0",
       "_view_name": "HTMLView",
       "description": "",
       "description_tooltip": null,
       "layout": "IPY_MODEL_15f5e4b7d6044683b05f2a56acea39e6",
       "placeholder": "​",
       "style": "IPY_MODEL_634cab8db6b44c708b4e3b97ebd91030",
       "value": "MSEError: 0.21926608681678772: 100%"
      }
     },
     "b1bd8ae2962e45c793b9acd906523d14": {
      "model_module": "@jupyter-widgets/base",
      "model_module_version": "1.2.0",
      "model_name": "LayoutModel",
      "state": {
       "_model_module": "@jupyter-widgets/base",
       "_model_module_version": "1.2.0",
       "_model_name": "LayoutModel",
       "_view_count": null,
       "_view_module": "@jupyter-widgets/base",
       "_view_module_version": "1.2.0",
       "_view_name": "LayoutView",
       "align_content": null,
       "align_items": null,
       "align_self": null,
       "border": null,
       "bottom": null,
       "display": null,
       "flex": null,
       "flex_flow": null,
       "grid_area": null,
       "grid_auto_columns": null,
       "grid_auto_flow": null,
       "grid_auto_rows": null,
       "grid_column": null,
       "grid_gap": null,
       "grid_row": null,
       "grid_template_areas": null,
       "grid_template_columns": null,
       "grid_template_rows": null,
       "height": null,
       "justify_content": null,
       "justify_items": null,
       "left": null,
       "margin": null,
       "max_height": null,
       "max_width": null,
       "min_height": null,
       "min_width": null,
       "object_fit": null,
       "object_position": null,
       "order": null,
       "overflow": null,
       "overflow_x": null,
       "overflow_y": null,
       "padding": null,
       "right": null,
       "top": null,
       "visibility": null,
       "width": null
      }
     },
     "b1f891c5a33d45c8adf90957ac433214": {
      "model_module": "@jupyter-widgets/base",
      "model_module_version": "1.2.0",
      "model_name": "LayoutModel",
      "state": {
       "_model_module": "@jupyter-widgets/base",
       "_model_module_version": "1.2.0",
       "_model_name": "LayoutModel",
       "_view_count": null,
       "_view_module": "@jupyter-widgets/base",
       "_view_module_version": "1.2.0",
       "_view_name": "LayoutView",
       "align_content": null,
       "align_items": null,
       "align_self": null,
       "border": null,
       "bottom": null,
       "display": null,
       "flex": null,
       "flex_flow": null,
       "grid_area": null,
       "grid_auto_columns": null,
       "grid_auto_flow": null,
       "grid_auto_rows": null,
       "grid_column": null,
       "grid_gap": null,
       "grid_row": null,
       "grid_template_areas": null,
       "grid_template_columns": null,
       "grid_template_rows": null,
       "height": null,
       "justify_content": null,
       "justify_items": null,
       "left": null,
       "margin": null,
       "max_height": null,
       "max_width": null,
       "min_height": null,
       "min_width": null,
       "object_fit": null,
       "object_position": null,
       "order": null,
       "overflow": null,
       "overflow_x": null,
       "overflow_y": null,
       "padding": null,
       "right": null,
       "top": null,
       "visibility": null,
       "width": null
      }
     },
     "b1fa1e9efcd24460862af13ca616c8c4": {
      "model_module": "@jupyter-widgets/base",
      "model_module_version": "1.2.0",
      "model_name": "LayoutModel",
      "state": {
       "_model_module": "@jupyter-widgets/base",
       "_model_module_version": "1.2.0",
       "_model_name": "LayoutModel",
       "_view_count": null,
       "_view_module": "@jupyter-widgets/base",
       "_view_module_version": "1.2.0",
       "_view_name": "LayoutView",
       "align_content": null,
       "align_items": null,
       "align_self": null,
       "border": null,
       "bottom": null,
       "display": null,
       "flex": null,
       "flex_flow": null,
       "grid_area": null,
       "grid_auto_columns": null,
       "grid_auto_flow": null,
       "grid_auto_rows": null,
       "grid_column": null,
       "grid_gap": null,
       "grid_row": null,
       "grid_template_areas": null,
       "grid_template_columns": null,
       "grid_template_rows": null,
       "height": null,
       "justify_content": null,
       "justify_items": null,
       "left": null,
       "margin": null,
       "max_height": null,
       "max_width": null,
       "min_height": null,
       "min_width": null,
       "object_fit": null,
       "object_position": null,
       "order": null,
       "overflow": null,
       "overflow_x": null,
       "overflow_y": null,
       "padding": null,
       "right": null,
       "top": null,
       "visibility": null,
       "width": null
      }
     },
     "b3d21c71b555476eaa8810ffead04be9": {
      "model_module": "@jupyter-widgets/base",
      "model_module_version": "1.2.0",
      "model_name": "LayoutModel",
      "state": {
       "_model_module": "@jupyter-widgets/base",
       "_model_module_version": "1.2.0",
       "_model_name": "LayoutModel",
       "_view_count": null,
       "_view_module": "@jupyter-widgets/base",
       "_view_module_version": "1.2.0",
       "_view_name": "LayoutView",
       "align_content": null,
       "align_items": null,
       "align_self": null,
       "border": null,
       "bottom": null,
       "display": null,
       "flex": null,
       "flex_flow": null,
       "grid_area": null,
       "grid_auto_columns": null,
       "grid_auto_flow": null,
       "grid_auto_rows": null,
       "grid_column": null,
       "grid_gap": null,
       "grid_row": null,
       "grid_template_areas": null,
       "grid_template_columns": null,
       "grid_template_rows": null,
       "height": null,
       "justify_content": null,
       "justify_items": null,
       "left": null,
       "margin": null,
       "max_height": null,
       "max_width": null,
       "min_height": null,
       "min_width": null,
       "object_fit": null,
       "object_position": null,
       "order": null,
       "overflow": null,
       "overflow_x": null,
       "overflow_y": null,
       "padding": null,
       "right": null,
       "top": null,
       "visibility": null,
       "width": null
      }
     },
     "b409bbd20f3e4b7b9dbba869bab072a9": {
      "model_module": "@jupyter-widgets/controls",
      "model_module_version": "1.5.0",
      "model_name": "HTMLModel",
      "state": {
       "_dom_classes": [],
       "_model_module": "@jupyter-widgets/controls",
       "_model_module_version": "1.5.0",
       "_model_name": "HTMLModel",
       "_view_count": null,
       "_view_module": "@jupyter-widgets/controls",
       "_view_module_version": "1.5.0",
       "_view_name": "HTMLView",
       "description": "",
       "description_tooltip": null,
       "layout": "IPY_MODEL_cfd9290d14ce4178b3e879301102b150",
       "placeholder": "​",
       "style": "IPY_MODEL_2bb9dd510e7e494c9f218728ea171cb1",
       "value": "MSEError: 0.21667824685573578: 100%"
      }
     },
     "b4990fbc932942ecb180ab07df0db3a3": {
      "model_module": "@jupyter-widgets/controls",
      "model_module_version": "1.5.0",
      "model_name": "DescriptionStyleModel",
      "state": {
       "_model_module": "@jupyter-widgets/controls",
       "_model_module_version": "1.5.0",
       "_model_name": "DescriptionStyleModel",
       "_view_count": null,
       "_view_module": "@jupyter-widgets/base",
       "_view_module_version": "1.2.0",
       "_view_name": "StyleView",
       "description_width": ""
      }
     },
     "b4fc2304512c4a1ebce81db084c7791b": {
      "model_module": "@jupyter-widgets/base",
      "model_module_version": "1.2.0",
      "model_name": "LayoutModel",
      "state": {
       "_model_module": "@jupyter-widgets/base",
       "_model_module_version": "1.2.0",
       "_model_name": "LayoutModel",
       "_view_count": null,
       "_view_module": "@jupyter-widgets/base",
       "_view_module_version": "1.2.0",
       "_view_name": "LayoutView",
       "align_content": null,
       "align_items": null,
       "align_self": null,
       "border": null,
       "bottom": null,
       "display": null,
       "flex": null,
       "flex_flow": null,
       "grid_area": null,
       "grid_auto_columns": null,
       "grid_auto_flow": null,
       "grid_auto_rows": null,
       "grid_column": null,
       "grid_gap": null,
       "grid_row": null,
       "grid_template_areas": null,
       "grid_template_columns": null,
       "grid_template_rows": null,
       "height": null,
       "justify_content": null,
       "justify_items": null,
       "left": null,
       "margin": null,
       "max_height": null,
       "max_width": null,
       "min_height": null,
       "min_width": null,
       "object_fit": null,
       "object_position": null,
       "order": null,
       "overflow": null,
       "overflow_x": null,
       "overflow_y": null,
       "padding": null,
       "right": null,
       "top": null,
       "visibility": null,
       "width": null
      }
     },
     "b55f608ca7734f32ae8682ed31b7fa92": {
      "model_module": "@jupyter-widgets/controls",
      "model_module_version": "1.5.0",
      "model_name": "ProgressStyleModel",
      "state": {
       "_model_module": "@jupyter-widgets/controls",
       "_model_module_version": "1.5.0",
       "_model_name": "ProgressStyleModel",
       "_view_count": null,
       "_view_module": "@jupyter-widgets/base",
       "_view_module_version": "1.2.0",
       "_view_name": "StyleView",
       "bar_color": null,
       "description_width": ""
      }
     },
     "b70d5a46428d48a7a2074473e81d2130": {
      "model_module": "@jupyter-widgets/base",
      "model_module_version": "1.2.0",
      "model_name": "LayoutModel",
      "state": {
       "_model_module": "@jupyter-widgets/base",
       "_model_module_version": "1.2.0",
       "_model_name": "LayoutModel",
       "_view_count": null,
       "_view_module": "@jupyter-widgets/base",
       "_view_module_version": "1.2.0",
       "_view_name": "LayoutView",
       "align_content": null,
       "align_items": null,
       "align_self": null,
       "border": null,
       "bottom": null,
       "display": null,
       "flex": null,
       "flex_flow": null,
       "grid_area": null,
       "grid_auto_columns": null,
       "grid_auto_flow": null,
       "grid_auto_rows": null,
       "grid_column": null,
       "grid_gap": null,
       "grid_row": null,
       "grid_template_areas": null,
       "grid_template_columns": null,
       "grid_template_rows": null,
       "height": null,
       "justify_content": null,
       "justify_items": null,
       "left": null,
       "margin": null,
       "max_height": null,
       "max_width": null,
       "min_height": null,
       "min_width": null,
       "object_fit": null,
       "object_position": null,
       "order": null,
       "overflow": null,
       "overflow_x": null,
       "overflow_y": null,
       "padding": null,
       "right": null,
       "top": null,
       "visibility": null,
       "width": null
      }
     },
     "b719d7a0318042dcbbc4c4845b398b6a": {
      "model_module": "@jupyter-widgets/controls",
      "model_module_version": "1.5.0",
      "model_name": "HBoxModel",
      "state": {
       "_dom_classes": [],
       "_model_module": "@jupyter-widgets/controls",
       "_model_module_version": "1.5.0",
       "_model_name": "HBoxModel",
       "_view_count": null,
       "_view_module": "@jupyter-widgets/controls",
       "_view_module_version": "1.5.0",
       "_view_name": "HBoxView",
       "box_style": "",
       "children": [
        "IPY_MODEL_6cd54f36cb4a46cd834d400a11572d8f",
        "IPY_MODEL_49c3dff152304c70bfe2db2a270f508c",
        "IPY_MODEL_3a3979d19f894502abf4c6b289363d1a"
       ],
       "layout": "IPY_MODEL_711a16694b91420db78549844b7fd91a"
      }
     },
     "c30fca96e1e14fb89a3c4519e1f7e354": {
      "model_module": "@jupyter-widgets/base",
      "model_module_version": "1.2.0",
      "model_name": "LayoutModel",
      "state": {
       "_model_module": "@jupyter-widgets/base",
       "_model_module_version": "1.2.0",
       "_model_name": "LayoutModel",
       "_view_count": null,
       "_view_module": "@jupyter-widgets/base",
       "_view_module_version": "1.2.0",
       "_view_name": "LayoutView",
       "align_content": null,
       "align_items": null,
       "align_self": null,
       "border": null,
       "bottom": null,
       "display": null,
       "flex": null,
       "flex_flow": null,
       "grid_area": null,
       "grid_auto_columns": null,
       "grid_auto_flow": null,
       "grid_auto_rows": null,
       "grid_column": null,
       "grid_gap": null,
       "grid_row": null,
       "grid_template_areas": null,
       "grid_template_columns": null,
       "grid_template_rows": null,
       "height": null,
       "justify_content": null,
       "justify_items": null,
       "left": null,
       "margin": null,
       "max_height": null,
       "max_width": null,
       "min_height": null,
       "min_width": null,
       "object_fit": null,
       "object_position": null,
       "order": null,
       "overflow": null,
       "overflow_x": null,
       "overflow_y": null,
       "padding": null,
       "right": null,
       "top": null,
       "visibility": null,
       "width": null
      }
     },
     "c539e181816145e29425174ae6f692d1": {
      "model_module": "@jupyter-widgets/base",
      "model_module_version": "1.2.0",
      "model_name": "LayoutModel",
      "state": {
       "_model_module": "@jupyter-widgets/base",
       "_model_module_version": "1.2.0",
       "_model_name": "LayoutModel",
       "_view_count": null,
       "_view_module": "@jupyter-widgets/base",
       "_view_module_version": "1.2.0",
       "_view_name": "LayoutView",
       "align_content": null,
       "align_items": null,
       "align_self": null,
       "border": null,
       "bottom": null,
       "display": null,
       "flex": null,
       "flex_flow": null,
       "grid_area": null,
       "grid_auto_columns": null,
       "grid_auto_flow": null,
       "grid_auto_rows": null,
       "grid_column": null,
       "grid_gap": null,
       "grid_row": null,
       "grid_template_areas": null,
       "grid_template_columns": null,
       "grid_template_rows": null,
       "height": null,
       "justify_content": null,
       "justify_items": null,
       "left": null,
       "margin": null,
       "max_height": null,
       "max_width": null,
       "min_height": null,
       "min_width": null,
       "object_fit": null,
       "object_position": null,
       "order": null,
       "overflow": null,
       "overflow_x": null,
       "overflow_y": null,
       "padding": null,
       "right": null,
       "top": null,
       "visibility": null,
       "width": null
      }
     },
     "c7f44bfd2e564f0a807e81275554da2b": {
      "model_module": "@jupyter-widgets/base",
      "model_module_version": "1.2.0",
      "model_name": "LayoutModel",
      "state": {
       "_model_module": "@jupyter-widgets/base",
       "_model_module_version": "1.2.0",
       "_model_name": "LayoutModel",
       "_view_count": null,
       "_view_module": "@jupyter-widgets/base",
       "_view_module_version": "1.2.0",
       "_view_name": "LayoutView",
       "align_content": null,
       "align_items": null,
       "align_self": null,
       "border": null,
       "bottom": null,
       "display": null,
       "flex": null,
       "flex_flow": null,
       "grid_area": null,
       "grid_auto_columns": null,
       "grid_auto_flow": null,
       "grid_auto_rows": null,
       "grid_column": null,
       "grid_gap": null,
       "grid_row": null,
       "grid_template_areas": null,
       "grid_template_columns": null,
       "grid_template_rows": null,
       "height": null,
       "justify_content": null,
       "justify_items": null,
       "left": null,
       "margin": null,
       "max_height": null,
       "max_width": null,
       "min_height": null,
       "min_width": null,
       "object_fit": null,
       "object_position": null,
       "order": null,
       "overflow": null,
       "overflow_x": null,
       "overflow_y": null,
       "padding": null,
       "right": null,
       "top": null,
       "visibility": null,
       "width": null
      }
     },
     "c871ade257004c5ebc405d44e9346c39": {
      "model_module": "@jupyter-widgets/controls",
      "model_module_version": "1.5.0",
      "model_name": "ProgressStyleModel",
      "state": {
       "_model_module": "@jupyter-widgets/controls",
       "_model_module_version": "1.5.0",
       "_model_name": "ProgressStyleModel",
       "_view_count": null,
       "_view_module": "@jupyter-widgets/base",
       "_view_module_version": "1.2.0",
       "_view_name": "StyleView",
       "bar_color": null,
       "description_width": ""
      }
     },
     "c8d4ec7944504b28a4f6fb5aa36dfbba": {
      "model_module": "@jupyter-widgets/controls",
      "model_module_version": "1.5.0",
      "model_name": "ProgressStyleModel",
      "state": {
       "_model_module": "@jupyter-widgets/controls",
       "_model_module_version": "1.5.0",
       "_model_name": "ProgressStyleModel",
       "_view_count": null,
       "_view_module": "@jupyter-widgets/base",
       "_view_module_version": "1.2.0",
       "_view_name": "StyleView",
       "bar_color": null,
       "description_width": ""
      }
     },
     "c9d8d63dcc5f4830ad29dd4921184cc5": {
      "model_module": "@jupyter-widgets/base",
      "model_module_version": "1.2.0",
      "model_name": "LayoutModel",
      "state": {
       "_model_module": "@jupyter-widgets/base",
       "_model_module_version": "1.2.0",
       "_model_name": "LayoutModel",
       "_view_count": null,
       "_view_module": "@jupyter-widgets/base",
       "_view_module_version": "1.2.0",
       "_view_name": "LayoutView",
       "align_content": null,
       "align_items": null,
       "align_self": null,
       "border": null,
       "bottom": null,
       "display": null,
       "flex": null,
       "flex_flow": null,
       "grid_area": null,
       "grid_auto_columns": null,
       "grid_auto_flow": null,
       "grid_auto_rows": null,
       "grid_column": null,
       "grid_gap": null,
       "grid_row": null,
       "grid_template_areas": null,
       "grid_template_columns": null,
       "grid_template_rows": null,
       "height": null,
       "justify_content": null,
       "justify_items": null,
       "left": null,
       "margin": null,
       "max_height": null,
       "max_width": null,
       "min_height": null,
       "min_width": null,
       "object_fit": null,
       "object_position": null,
       "order": null,
       "overflow": null,
       "overflow_x": null,
       "overflow_y": null,
       "padding": null,
       "right": null,
       "top": null,
       "visibility": null,
       "width": null
      }
     },
     "cc3fdabd08f64f27878dcbc50ecef3ea": {
      "model_module": "@jupyter-widgets/base",
      "model_module_version": "1.2.0",
      "model_name": "LayoutModel",
      "state": {
       "_model_module": "@jupyter-widgets/base",
       "_model_module_version": "1.2.0",
       "_model_name": "LayoutModel",
       "_view_count": null,
       "_view_module": "@jupyter-widgets/base",
       "_view_module_version": "1.2.0",
       "_view_name": "LayoutView",
       "align_content": null,
       "align_items": null,
       "align_self": null,
       "border": null,
       "bottom": null,
       "display": null,
       "flex": null,
       "flex_flow": null,
       "grid_area": null,
       "grid_auto_columns": null,
       "grid_auto_flow": null,
       "grid_auto_rows": null,
       "grid_column": null,
       "grid_gap": null,
       "grid_row": null,
       "grid_template_areas": null,
       "grid_template_columns": null,
       "grid_template_rows": null,
       "height": null,
       "justify_content": null,
       "justify_items": null,
       "left": null,
       "margin": null,
       "max_height": null,
       "max_width": null,
       "min_height": null,
       "min_width": null,
       "object_fit": null,
       "object_position": null,
       "order": null,
       "overflow": null,
       "overflow_x": null,
       "overflow_y": null,
       "padding": null,
       "right": null,
       "top": null,
       "visibility": null,
       "width": null
      }
     },
     "cd540d68270b49b4b5bb6819af1a3a03": {
      "model_module": "@jupyter-widgets/controls",
      "model_module_version": "1.5.0",
      "model_name": "DescriptionStyleModel",
      "state": {
       "_model_module": "@jupyter-widgets/controls",
       "_model_module_version": "1.5.0",
       "_model_name": "DescriptionStyleModel",
       "_view_count": null,
       "_view_module": "@jupyter-widgets/base",
       "_view_module_version": "1.2.0",
       "_view_name": "StyleView",
       "description_width": ""
      }
     },
     "cdfba2519a9d4619a279526cf73b2591": {
      "model_module": "@jupyter-widgets/controls",
      "model_module_version": "1.5.0",
      "model_name": "HTMLModel",
      "state": {
       "_dom_classes": [],
       "_model_module": "@jupyter-widgets/controls",
       "_model_module_version": "1.5.0",
       "_model_name": "HTMLModel",
       "_view_count": null,
       "_view_module": "@jupyter-widgets/controls",
       "_view_module_version": "1.5.0",
       "_view_name": "HTMLView",
       "description": "",
       "description_tooltip": null,
       "layout": "IPY_MODEL_4b3c2ca01b2b46d08ba1de6834b6479a",
       "placeholder": "​",
       "style": "IPY_MODEL_9d0603c38fcd43f388d57258d33ad62b",
       "value": "MSEError: 0.2104184478521347: 100%"
      }
     },
     "ce0a94036b6d41788b4845394e23edc7": {
      "model_module": "@jupyter-widgets/base",
      "model_module_version": "1.2.0",
      "model_name": "LayoutModel",
      "state": {
       "_model_module": "@jupyter-widgets/base",
       "_model_module_version": "1.2.0",
       "_model_name": "LayoutModel",
       "_view_count": null,
       "_view_module": "@jupyter-widgets/base",
       "_view_module_version": "1.2.0",
       "_view_name": "LayoutView",
       "align_content": null,
       "align_items": null,
       "align_self": null,
       "border": null,
       "bottom": null,
       "display": null,
       "flex": null,
       "flex_flow": null,
       "grid_area": null,
       "grid_auto_columns": null,
       "grid_auto_flow": null,
       "grid_auto_rows": null,
       "grid_column": null,
       "grid_gap": null,
       "grid_row": null,
       "grid_template_areas": null,
       "grid_template_columns": null,
       "grid_template_rows": null,
       "height": null,
       "justify_content": null,
       "justify_items": null,
       "left": null,
       "margin": null,
       "max_height": null,
       "max_width": null,
       "min_height": null,
       "min_width": null,
       "object_fit": null,
       "object_position": null,
       "order": null,
       "overflow": null,
       "overflow_x": null,
       "overflow_y": null,
       "padding": null,
       "right": null,
       "top": null,
       "visibility": null,
       "width": null
      }
     },
     "ce9845b32de64ff88e08284406ea143f": {
      "model_module": "@jupyter-widgets/base",
      "model_module_version": "1.2.0",
      "model_name": "LayoutModel",
      "state": {
       "_model_module": "@jupyter-widgets/base",
       "_model_module_version": "1.2.0",
       "_model_name": "LayoutModel",
       "_view_count": null,
       "_view_module": "@jupyter-widgets/base",
       "_view_module_version": "1.2.0",
       "_view_name": "LayoutView",
       "align_content": null,
       "align_items": null,
       "align_self": null,
       "border": null,
       "bottom": null,
       "display": null,
       "flex": null,
       "flex_flow": null,
       "grid_area": null,
       "grid_auto_columns": null,
       "grid_auto_flow": null,
       "grid_auto_rows": null,
       "grid_column": null,
       "grid_gap": null,
       "grid_row": null,
       "grid_template_areas": null,
       "grid_template_columns": null,
       "grid_template_rows": null,
       "height": null,
       "justify_content": null,
       "justify_items": null,
       "left": null,
       "margin": null,
       "max_height": null,
       "max_width": null,
       "min_height": null,
       "min_width": null,
       "object_fit": null,
       "object_position": null,
       "order": null,
       "overflow": null,
       "overflow_x": null,
       "overflow_y": null,
       "padding": null,
       "right": null,
       "top": null,
       "visibility": null,
       "width": null
      }
     },
     "cfd9290d14ce4178b3e879301102b150": {
      "model_module": "@jupyter-widgets/base",
      "model_module_version": "1.2.0",
      "model_name": "LayoutModel",
      "state": {
       "_model_module": "@jupyter-widgets/base",
       "_model_module_version": "1.2.0",
       "_model_name": "LayoutModel",
       "_view_count": null,
       "_view_module": "@jupyter-widgets/base",
       "_view_module_version": "1.2.0",
       "_view_name": "LayoutView",
       "align_content": null,
       "align_items": null,
       "align_self": null,
       "border": null,
       "bottom": null,
       "display": null,
       "flex": null,
       "flex_flow": null,
       "grid_area": null,
       "grid_auto_columns": null,
       "grid_auto_flow": null,
       "grid_auto_rows": null,
       "grid_column": null,
       "grid_gap": null,
       "grid_row": null,
       "grid_template_areas": null,
       "grid_template_columns": null,
       "grid_template_rows": null,
       "height": null,
       "justify_content": null,
       "justify_items": null,
       "left": null,
       "margin": null,
       "max_height": null,
       "max_width": null,
       "min_height": null,
       "min_width": null,
       "object_fit": null,
       "object_position": null,
       "order": null,
       "overflow": null,
       "overflow_x": null,
       "overflow_y": null,
       "padding": null,
       "right": null,
       "top": null,
       "visibility": null,
       "width": null
      }
     },
     "d0a945a7a53d4aa8a880e1b237833e37": {
      "model_module": "@jupyter-widgets/controls",
      "model_module_version": "1.5.0",
      "model_name": "HTMLModel",
      "state": {
       "_dom_classes": [],
       "_model_module": "@jupyter-widgets/controls",
       "_model_module_version": "1.5.0",
       "_model_name": "HTMLModel",
       "_view_count": null,
       "_view_module": "@jupyter-widgets/controls",
       "_view_module_version": "1.5.0",
       "_view_name": "HTMLView",
       "description": "",
       "description_tooltip": null,
       "layout": "IPY_MODEL_76cdad7c97e746c3adbe034241b8b6bd",
       "placeholder": "​",
       "style": "IPY_MODEL_0e45422a120445fb927894e2362bd20e",
       "value": " 805/805 [26:29&lt;00:00,  1.60s/it]"
      }
     },
     "d1cf090c74854a86a2223ca9dbf072d5": {
      "model_module": "@jupyter-widgets/base",
      "model_module_version": "1.2.0",
      "model_name": "LayoutModel",
      "state": {
       "_model_module": "@jupyter-widgets/base",
       "_model_module_version": "1.2.0",
       "_model_name": "LayoutModel",
       "_view_count": null,
       "_view_module": "@jupyter-widgets/base",
       "_view_module_version": "1.2.0",
       "_view_name": "LayoutView",
       "align_content": null,
       "align_items": null,
       "align_self": null,
       "border": null,
       "bottom": null,
       "display": null,
       "flex": null,
       "flex_flow": null,
       "grid_area": null,
       "grid_auto_columns": null,
       "grid_auto_flow": null,
       "grid_auto_rows": null,
       "grid_column": null,
       "grid_gap": null,
       "grid_row": null,
       "grid_template_areas": null,
       "grid_template_columns": null,
       "grid_template_rows": null,
       "height": null,
       "justify_content": null,
       "justify_items": null,
       "left": null,
       "margin": null,
       "max_height": null,
       "max_width": null,
       "min_height": null,
       "min_width": null,
       "object_fit": null,
       "object_position": null,
       "order": null,
       "overflow": null,
       "overflow_x": null,
       "overflow_y": null,
       "padding": null,
       "right": null,
       "top": null,
       "visibility": null,
       "width": null
      }
     },
     "d3c70955fccb4f17a30fdfafea9bb458": {
      "model_module": "@jupyter-widgets/base",
      "model_module_version": "1.2.0",
      "model_name": "LayoutModel",
      "state": {
       "_model_module": "@jupyter-widgets/base",
       "_model_module_version": "1.2.0",
       "_model_name": "LayoutModel",
       "_view_count": null,
       "_view_module": "@jupyter-widgets/base",
       "_view_module_version": "1.2.0",
       "_view_name": "LayoutView",
       "align_content": null,
       "align_items": null,
       "align_self": null,
       "border": null,
       "bottom": null,
       "display": null,
       "flex": null,
       "flex_flow": null,
       "grid_area": null,
       "grid_auto_columns": null,
       "grid_auto_flow": null,
       "grid_auto_rows": null,
       "grid_column": null,
       "grid_gap": null,
       "grid_row": null,
       "grid_template_areas": null,
       "grid_template_columns": null,
       "grid_template_rows": null,
       "height": null,
       "justify_content": null,
       "justify_items": null,
       "left": null,
       "margin": null,
       "max_height": null,
       "max_width": null,
       "min_height": null,
       "min_width": null,
       "object_fit": null,
       "object_position": null,
       "order": null,
       "overflow": null,
       "overflow_x": null,
       "overflow_y": null,
       "padding": null,
       "right": null,
       "top": null,
       "visibility": null,
       "width": null
      }
     },
     "d540d4589b724be7860ad6f7eb68c230": {
      "model_module": "@jupyter-widgets/controls",
      "model_module_version": "1.5.0",
      "model_name": "HTMLModel",
      "state": {
       "_dom_classes": [],
       "_model_module": "@jupyter-widgets/controls",
       "_model_module_version": "1.5.0",
       "_model_name": "HTMLModel",
       "_view_count": null,
       "_view_module": "@jupyter-widgets/controls",
       "_view_module_version": "1.5.0",
       "_view_name": "HTMLView",
       "description": "",
       "description_tooltip": null,
       "layout": "IPY_MODEL_829505bf00bc45e39f15894d7163eb3c",
       "placeholder": "​",
       "style": "IPY_MODEL_f5970113dc544530b1787d55afe78b69",
       "value": " 805/805 [26:27&lt;00:00,  1.59s/it]"
      }
     },
     "d654ae386f6e4bd4b140c95b5e1b8e90": {
      "model_module": "@jupyter-widgets/controls",
      "model_module_version": "1.5.0",
      "model_name": "FloatProgressModel",
      "state": {
       "_dom_classes": [],
       "_model_module": "@jupyter-widgets/controls",
       "_model_module_version": "1.5.0",
       "_model_name": "FloatProgressModel",
       "_view_count": null,
       "_view_module": "@jupyter-widgets/controls",
       "_view_module_version": "1.5.0",
       "_view_name": "ProgressView",
       "bar_style": "success",
       "description": "",
       "description_tooltip": null,
       "layout": "IPY_MODEL_fa53cd07c08943c091291e9b21950e5b",
       "max": 805.0,
       "min": 0.0,
       "orientation": "horizontal",
       "style": "IPY_MODEL_26247bb20121436badb4e0730a5ce44a",
       "value": 805.0
      }
     },
     "d7aa63146b7148258c8dabdfcc373b89": {
      "model_module": "@jupyter-widgets/controls",
      "model_module_version": "1.5.0",
      "model_name": "HBoxModel",
      "state": {
       "_dom_classes": [],
       "_model_module": "@jupyter-widgets/controls",
       "_model_module_version": "1.5.0",
       "_model_name": "HBoxModel",
       "_view_count": null,
       "_view_module": "@jupyter-widgets/controls",
       "_view_module_version": "1.5.0",
       "_view_name": "HBoxView",
       "box_style": "",
       "children": [
        "IPY_MODEL_0778fa2645194c41959720fd9f4c97ad",
        "IPY_MODEL_f94d01592aec404fb10326a4f60b1249",
        "IPY_MODEL_d0a945a7a53d4aa8a880e1b237833e37"
       ],
       "layout": "IPY_MODEL_25dbcfbabde34627b50f152afd336d26"
      }
     },
     "d93d08c4799a4b7085bbbd8011aa26a2": {
      "model_module": "@jupyter-widgets/controls",
      "model_module_version": "1.5.0",
      "model_name": "HTMLModel",
      "state": {
       "_dom_classes": [],
       "_model_module": "@jupyter-widgets/controls",
       "_model_module_version": "1.5.0",
       "_model_name": "HTMLModel",
       "_view_count": null,
       "_view_module": "@jupyter-widgets/controls",
       "_view_module_version": "1.5.0",
       "_view_name": "HTMLView",
       "description": "",
       "description_tooltip": null,
       "layout": "IPY_MODEL_2156ac1ea7ae40eeb3d3bb4bb4136492",
       "placeholder": "​",
       "style": "IPY_MODEL_ff10655e3b6a49f4b4f776a18fb42ce3",
       "value": "MSEError: 0.21603526175022125: 100%"
      }
     },
     "ded1f757009448b79c8bb4e32b251b72": {
      "model_module": "@jupyter-widgets/controls",
      "model_module_version": "1.5.0",
      "model_name": "HBoxModel",
      "state": {
       "_dom_classes": [],
       "_model_module": "@jupyter-widgets/controls",
       "_model_module_version": "1.5.0",
       "_model_name": "HBoxModel",
       "_view_count": null,
       "_view_module": "@jupyter-widgets/controls",
       "_view_module_version": "1.5.0",
       "_view_name": "HBoxView",
       "box_style": "",
       "children": [
        "IPY_MODEL_696eb2acefc8451f9a923d8dc410a8e5",
        "IPY_MODEL_4cebeae9c7ea49f08c792a7399f22836",
        "IPY_MODEL_e98ae7d4ac524cc0b4f0ee309aad80d0"
       ],
       "layout": "IPY_MODEL_990ab79b1da64ab38807a1fdd8290729"
      }
     },
     "e2689904c55443f198543ed519e36204": {
      "model_module": "@jupyter-widgets/base",
      "model_module_version": "1.2.0",
      "model_name": "LayoutModel",
      "state": {
       "_model_module": "@jupyter-widgets/base",
       "_model_module_version": "1.2.0",
       "_model_name": "LayoutModel",
       "_view_count": null,
       "_view_module": "@jupyter-widgets/base",
       "_view_module_version": "1.2.0",
       "_view_name": "LayoutView",
       "align_content": null,
       "align_items": null,
       "align_self": null,
       "border": null,
       "bottom": null,
       "display": null,
       "flex": null,
       "flex_flow": null,
       "grid_area": null,
       "grid_auto_columns": null,
       "grid_auto_flow": null,
       "grid_auto_rows": null,
       "grid_column": null,
       "grid_gap": null,
       "grid_row": null,
       "grid_template_areas": null,
       "grid_template_columns": null,
       "grid_template_rows": null,
       "height": null,
       "justify_content": null,
       "justify_items": null,
       "left": null,
       "margin": null,
       "max_height": null,
       "max_width": null,
       "min_height": null,
       "min_width": null,
       "object_fit": null,
       "object_position": null,
       "order": null,
       "overflow": null,
       "overflow_x": null,
       "overflow_y": null,
       "padding": null,
       "right": null,
       "top": null,
       "visibility": null,
       "width": null
      }
     },
     "e2834f117cc041e5b5ae68db02577b08": {
      "model_module": "@jupyter-widgets/controls",
      "model_module_version": "1.5.0",
      "model_name": "DescriptionStyleModel",
      "state": {
       "_model_module": "@jupyter-widgets/controls",
       "_model_module_version": "1.5.0",
       "_model_name": "DescriptionStyleModel",
       "_view_count": null,
       "_view_module": "@jupyter-widgets/base",
       "_view_module_version": "1.2.0",
       "_view_name": "StyleView",
       "description_width": ""
      }
     },
     "e80e5531d30b444e9a74d7174d624fcd": {
      "model_module": "@jupyter-widgets/controls",
      "model_module_version": "1.5.0",
      "model_name": "HBoxModel",
      "state": {
       "_dom_classes": [],
       "_model_module": "@jupyter-widgets/controls",
       "_model_module_version": "1.5.0",
       "_model_name": "HBoxModel",
       "_view_count": null,
       "_view_module": "@jupyter-widgets/controls",
       "_view_module_version": "1.5.0",
       "_view_name": "HBoxView",
       "box_style": "",
       "children": [
        "IPY_MODEL_900877602cc04a34ae3355d37f44b8e3",
        "IPY_MODEL_997cbba0bae34456b9155d5ae79e3a7a",
        "IPY_MODEL_55b28063bd534fc9af7e213ff9a67107"
       ],
       "layout": "IPY_MODEL_c7f44bfd2e564f0a807e81275554da2b"
      }
     },
     "e92fc4e0a5b84d3c87eb67784ac7f4db": {
      "model_module": "@jupyter-widgets/controls",
      "model_module_version": "1.5.0",
      "model_name": "DescriptionStyleModel",
      "state": {
       "_model_module": "@jupyter-widgets/controls",
       "_model_module_version": "1.5.0",
       "_model_name": "DescriptionStyleModel",
       "_view_count": null,
       "_view_module": "@jupyter-widgets/base",
       "_view_module_version": "1.2.0",
       "_view_name": "StyleView",
       "description_width": ""
      }
     },
     "e98ae7d4ac524cc0b4f0ee309aad80d0": {
      "model_module": "@jupyter-widgets/controls",
      "model_module_version": "1.5.0",
      "model_name": "HTMLModel",
      "state": {
       "_dom_classes": [],
       "_model_module": "@jupyter-widgets/controls",
       "_model_module_version": "1.5.0",
       "_model_name": "HTMLModel",
       "_view_count": null,
       "_view_module": "@jupyter-widgets/controls",
       "_view_module_version": "1.5.0",
       "_view_name": "HTMLView",
       "description": "",
       "description_tooltip": null,
       "layout": "IPY_MODEL_04e39855ef5f440db2a65cf5e7730b12",
       "placeholder": "​",
       "style": "IPY_MODEL_7b2d9ddd802a49ef8e8ccd446999b986",
       "value": " 805/805 [26:28&lt;00:00,  1.59s/it]"
      }
     },
     "e9df58e621174ee0bbd90528e6d45357": {
      "model_module": "@jupyter-widgets/base",
      "model_module_version": "1.2.0",
      "model_name": "LayoutModel",
      "state": {
       "_model_module": "@jupyter-widgets/base",
       "_model_module_version": "1.2.0",
       "_model_name": "LayoutModel",
       "_view_count": null,
       "_view_module": "@jupyter-widgets/base",
       "_view_module_version": "1.2.0",
       "_view_name": "LayoutView",
       "align_content": null,
       "align_items": null,
       "align_self": null,
       "border": null,
       "bottom": null,
       "display": null,
       "flex": null,
       "flex_flow": null,
       "grid_area": null,
       "grid_auto_columns": null,
       "grid_auto_flow": null,
       "grid_auto_rows": null,
       "grid_column": null,
       "grid_gap": null,
       "grid_row": null,
       "grid_template_areas": null,
       "grid_template_columns": null,
       "grid_template_rows": null,
       "height": null,
       "justify_content": null,
       "justify_items": null,
       "left": null,
       "margin": null,
       "max_height": null,
       "max_width": null,
       "min_height": null,
       "min_width": null,
       "object_fit": null,
       "object_position": null,
       "order": null,
       "overflow": null,
       "overflow_x": null,
       "overflow_y": null,
       "padding": null,
       "right": null,
       "top": null,
       "visibility": null,
       "width": null
      }
     },
     "ea0bdd60aa544ddca508cd6782966a44": {
      "model_module": "@jupyter-widgets/controls",
      "model_module_version": "1.5.0",
      "model_name": "DescriptionStyleModel",
      "state": {
       "_model_module": "@jupyter-widgets/controls",
       "_model_module_version": "1.5.0",
       "_model_name": "DescriptionStyleModel",
       "_view_count": null,
       "_view_module": "@jupyter-widgets/base",
       "_view_module_version": "1.2.0",
       "_view_name": "StyleView",
       "description_width": ""
      }
     },
     "ebd71ff40dfa41d0807ffc642d924b60": {
      "model_module": "@jupyter-widgets/controls",
      "model_module_version": "1.5.0",
      "model_name": "HTMLModel",
      "state": {
       "_dom_classes": [],
       "_model_module": "@jupyter-widgets/controls",
       "_model_module_version": "1.5.0",
       "_model_name": "HTMLModel",
       "_view_count": null,
       "_view_module": "@jupyter-widgets/controls",
       "_view_module_version": "1.5.0",
       "_view_name": "HTMLView",
       "description": "",
       "description_tooltip": null,
       "layout": "IPY_MODEL_ac6f2f80f30a4e33b9bec47648aa78ca",
       "placeholder": "​",
       "style": "IPY_MODEL_79bd0cd9d2a3458b9dcf811931b01aea",
       "value": "MSEError: 0.20751415193080902: 100%"
      }
     },
     "ecd726c1da0548e6a078de192edaa21a": {
      "model_module": "@jupyter-widgets/controls",
      "model_module_version": "1.5.0",
      "model_name": "FloatProgressModel",
      "state": {
       "_dom_classes": [],
       "_model_module": "@jupyter-widgets/controls",
       "_model_module_version": "1.5.0",
       "_model_name": "FloatProgressModel",
       "_view_count": null,
       "_view_module": "@jupyter-widgets/controls",
       "_view_module_version": "1.5.0",
       "_view_name": "ProgressView",
       "bar_style": "success",
       "description": "",
       "description_tooltip": null,
       "layout": "IPY_MODEL_59109d88bff34e2ab7472b5a97f2c462",
       "max": 805.0,
       "min": 0.0,
       "orientation": "horizontal",
       "style": "IPY_MODEL_11407c0d90ee4fbe91f58bb49e6650eb",
       "value": 805.0
      }
     },
     "ef596c0ae25a4bbeaefcdd054f6cc6ba": {
      "model_module": "@jupyter-widgets/base",
      "model_module_version": "1.2.0",
      "model_name": "LayoutModel",
      "state": {
       "_model_module": "@jupyter-widgets/base",
       "_model_module_version": "1.2.0",
       "_model_name": "LayoutModel",
       "_view_count": null,
       "_view_module": "@jupyter-widgets/base",
       "_view_module_version": "1.2.0",
       "_view_name": "LayoutView",
       "align_content": null,
       "align_items": null,
       "align_self": null,
       "border": null,
       "bottom": null,
       "display": null,
       "flex": null,
       "flex_flow": null,
       "grid_area": null,
       "grid_auto_columns": null,
       "grid_auto_flow": null,
       "grid_auto_rows": null,
       "grid_column": null,
       "grid_gap": null,
       "grid_row": null,
       "grid_template_areas": null,
       "grid_template_columns": null,
       "grid_template_rows": null,
       "height": null,
       "justify_content": null,
       "justify_items": null,
       "left": null,
       "margin": null,
       "max_height": null,
       "max_width": null,
       "min_height": null,
       "min_width": null,
       "object_fit": null,
       "object_position": null,
       "order": null,
       "overflow": null,
       "overflow_x": null,
       "overflow_y": null,
       "padding": null,
       "right": null,
       "top": null,
       "visibility": null,
       "width": null
      }
     },
     "f047e887e6b4497eace0ebee6b9f1751": {
      "model_module": "@jupyter-widgets/base",
      "model_module_version": "1.2.0",
      "model_name": "LayoutModel",
      "state": {
       "_model_module": "@jupyter-widgets/base",
       "_model_module_version": "1.2.0",
       "_model_name": "LayoutModel",
       "_view_count": null,
       "_view_module": "@jupyter-widgets/base",
       "_view_module_version": "1.2.0",
       "_view_name": "LayoutView",
       "align_content": null,
       "align_items": null,
       "align_self": null,
       "border": null,
       "bottom": null,
       "display": null,
       "flex": null,
       "flex_flow": null,
       "grid_area": null,
       "grid_auto_columns": null,
       "grid_auto_flow": null,
       "grid_auto_rows": null,
       "grid_column": null,
       "grid_gap": null,
       "grid_row": null,
       "grid_template_areas": null,
       "grid_template_columns": null,
       "grid_template_rows": null,
       "height": null,
       "justify_content": null,
       "justify_items": null,
       "left": null,
       "margin": null,
       "max_height": null,
       "max_width": null,
       "min_height": null,
       "min_width": null,
       "object_fit": null,
       "object_position": null,
       "order": null,
       "overflow": null,
       "overflow_x": null,
       "overflow_y": null,
       "padding": null,
       "right": null,
       "top": null,
       "visibility": null,
       "width": null
      }
     },
     "f235757176a044e99944a1fbae3dae83": {
      "model_module": "@jupyter-widgets/controls",
      "model_module_version": "1.5.0",
      "model_name": "DescriptionStyleModel",
      "state": {
       "_model_module": "@jupyter-widgets/controls",
       "_model_module_version": "1.5.0",
       "_model_name": "DescriptionStyleModel",
       "_view_count": null,
       "_view_module": "@jupyter-widgets/base",
       "_view_module_version": "1.2.0",
       "_view_name": "StyleView",
       "description_width": ""
      }
     },
     "f3dbd4e9f645429a94a898c662252bde": {
      "model_module": "@jupyter-widgets/controls",
      "model_module_version": "1.5.0",
      "model_name": "HTMLModel",
      "state": {
       "_dom_classes": [],
       "_model_module": "@jupyter-widgets/controls",
       "_model_module_version": "1.5.0",
       "_model_name": "HTMLModel",
       "_view_count": null,
       "_view_module": "@jupyter-widgets/controls",
       "_view_module_version": "1.5.0",
       "_view_name": "HTMLView",
       "description": "",
       "description_tooltip": null,
       "layout": "IPY_MODEL_149bdb7679c948739bebd3d523c5761e",
       "placeholder": "​",
       "style": "IPY_MODEL_5cd699b0343b4cadb405b79091d1f01f",
       "value": " 805/805 [26:26&lt;00:00,  1.59s/it]"
      }
     },
     "f47db198c4734ad8b486e82b9747a1cc": {
      "model_module": "@jupyter-widgets/controls",
      "model_module_version": "1.5.0",
      "model_name": "HTMLModel",
      "state": {
       "_dom_classes": [],
       "_model_module": "@jupyter-widgets/controls",
       "_model_module_version": "1.5.0",
       "_model_name": "HTMLModel",
       "_view_count": null,
       "_view_module": "@jupyter-widgets/controls",
       "_view_module_version": "1.5.0",
       "_view_name": "HTMLView",
       "description": "",
       "description_tooltip": null,
       "layout": "IPY_MODEL_c539e181816145e29425174ae6f692d1",
       "placeholder": "​",
       "style": "IPY_MODEL_8a3f9a15334d408e8597e59414a94f82",
       "value": " 805/805 [26:31&lt;00:00,  1.60s/it]"
      }
     },
     "f4ed05c89a624312a9b7cda4ab49e670": {
      "model_module": "@jupyter-widgets/controls",
      "model_module_version": "1.5.0",
      "model_name": "DescriptionStyleModel",
      "state": {
       "_model_module": "@jupyter-widgets/controls",
       "_model_module_version": "1.5.0",
       "_model_name": "DescriptionStyleModel",
       "_view_count": null,
       "_view_module": "@jupyter-widgets/base",
       "_view_module_version": "1.2.0",
       "_view_name": "StyleView",
       "description_width": ""
      }
     },
     "f54998f664b141ff9177b1134045fc85": {
      "model_module": "@jupyter-widgets/controls",
      "model_module_version": "1.5.0",
      "model_name": "HTMLModel",
      "state": {
       "_dom_classes": [],
       "_model_module": "@jupyter-widgets/controls",
       "_model_module_version": "1.5.0",
       "_model_name": "HTMLModel",
       "_view_count": null,
       "_view_module": "@jupyter-widgets/controls",
       "_view_module_version": "1.5.0",
       "_view_name": "HTMLView",
       "description": "",
       "description_tooltip": null,
       "layout": "IPY_MODEL_7cf3b878475745fb9ba1b1a25581960b",
       "placeholder": "​",
       "style": "IPY_MODEL_a29eb1b104c244549c8b9124049e3fdd",
       "value": "MSEError: 0.21453359723091125: 100%"
      }
     },
     "f5970113dc544530b1787d55afe78b69": {
      "model_module": "@jupyter-widgets/controls",
      "model_module_version": "1.5.0",
      "model_name": "DescriptionStyleModel",
      "state": {
       "_model_module": "@jupyter-widgets/controls",
       "_model_module_version": "1.5.0",
       "_model_name": "DescriptionStyleModel",
       "_view_count": null,
       "_view_module": "@jupyter-widgets/base",
       "_view_module_version": "1.2.0",
       "_view_name": "StyleView",
       "description_width": ""
      }
     },
     "f697968cae8b49908de036c78f129708": {
      "model_module": "@jupyter-widgets/controls",
      "model_module_version": "1.5.0",
      "model_name": "HTMLModel",
      "state": {
       "_dom_classes": [],
       "_model_module": "@jupyter-widgets/controls",
       "_model_module_version": "1.5.0",
       "_model_name": "HTMLModel",
       "_view_count": null,
       "_view_module": "@jupyter-widgets/controls",
       "_view_module_version": "1.5.0",
       "_view_name": "HTMLView",
       "description": "",
       "description_tooltip": null,
       "layout": "IPY_MODEL_d1cf090c74854a86a2223ca9dbf072d5",
       "placeholder": "​",
       "style": "IPY_MODEL_923729666fd0449aa26bb80c22dfb665",
       "value": " 805/805 [26:26&lt;00:00,  1.59s/it]"
      }
     },
     "f6ab9daefdf543c994727db9c15312e4": {
      "model_module": "@jupyter-widgets/controls",
      "model_module_version": "1.5.0",
      "model_name": "HTMLModel",
      "state": {
       "_dom_classes": [],
       "_model_module": "@jupyter-widgets/controls",
       "_model_module_version": "1.5.0",
       "_model_name": "HTMLModel",
       "_view_count": null,
       "_view_module": "@jupyter-widgets/controls",
       "_view_module_version": "1.5.0",
       "_view_name": "HTMLView",
       "description": "",
       "description_tooltip": null,
       "layout": "IPY_MODEL_7a9e086b96d04f32b5d5ef2e8b89eb27",
       "placeholder": "​",
       "style": "IPY_MODEL_cd540d68270b49b4b5bb6819af1a3a03",
       "value": " 805/805 [26:33&lt;00:00,  1.60s/it]"
      }
     },
     "f6f299a378ce4a94b04882329e43bee6": {
      "model_module": "@jupyter-widgets/base",
      "model_module_version": "1.2.0",
      "model_name": "LayoutModel",
      "state": {
       "_model_module": "@jupyter-widgets/base",
       "_model_module_version": "1.2.0",
       "_model_name": "LayoutModel",
       "_view_count": null,
       "_view_module": "@jupyter-widgets/base",
       "_view_module_version": "1.2.0",
       "_view_name": "LayoutView",
       "align_content": null,
       "align_items": null,
       "align_self": null,
       "border": null,
       "bottom": null,
       "display": null,
       "flex": null,
       "flex_flow": null,
       "grid_area": null,
       "grid_auto_columns": null,
       "grid_auto_flow": null,
       "grid_auto_rows": null,
       "grid_column": null,
       "grid_gap": null,
       "grid_row": null,
       "grid_template_areas": null,
       "grid_template_columns": null,
       "grid_template_rows": null,
       "height": null,
       "justify_content": null,
       "justify_items": null,
       "left": null,
       "margin": null,
       "max_height": null,
       "max_width": null,
       "min_height": null,
       "min_width": null,
       "object_fit": null,
       "object_position": null,
       "order": null,
       "overflow": null,
       "overflow_x": null,
       "overflow_y": null,
       "padding": null,
       "right": null,
       "top": null,
       "visibility": null,
       "width": null
      }
     },
     "f809d7ac87054169a5b7e59b76b72ff8": {
      "model_module": "@jupyter-widgets/base",
      "model_module_version": "1.2.0",
      "model_name": "LayoutModel",
      "state": {
       "_model_module": "@jupyter-widgets/base",
       "_model_module_version": "1.2.0",
       "_model_name": "LayoutModel",
       "_view_count": null,
       "_view_module": "@jupyter-widgets/base",
       "_view_module_version": "1.2.0",
       "_view_name": "LayoutView",
       "align_content": null,
       "align_items": null,
       "align_self": null,
       "border": null,
       "bottom": null,
       "display": null,
       "flex": null,
       "flex_flow": null,
       "grid_area": null,
       "grid_auto_columns": null,
       "grid_auto_flow": null,
       "grid_auto_rows": null,
       "grid_column": null,
       "grid_gap": null,
       "grid_row": null,
       "grid_template_areas": null,
       "grid_template_columns": null,
       "grid_template_rows": null,
       "height": null,
       "justify_content": null,
       "justify_items": null,
       "left": null,
       "margin": null,
       "max_height": null,
       "max_width": null,
       "min_height": null,
       "min_width": null,
       "object_fit": null,
       "object_position": null,
       "order": null,
       "overflow": null,
       "overflow_x": null,
       "overflow_y": null,
       "padding": null,
       "right": null,
       "top": null,
       "visibility": null,
       "width": null
      }
     },
     "f94d01592aec404fb10326a4f60b1249": {
      "model_module": "@jupyter-widgets/controls",
      "model_module_version": "1.5.0",
      "model_name": "FloatProgressModel",
      "state": {
       "_dom_classes": [],
       "_model_module": "@jupyter-widgets/controls",
       "_model_module_version": "1.5.0",
       "_model_name": "FloatProgressModel",
       "_view_count": null,
       "_view_module": "@jupyter-widgets/controls",
       "_view_module_version": "1.5.0",
       "_view_name": "ProgressView",
       "bar_style": "success",
       "description": "",
       "description_tooltip": null,
       "layout": "IPY_MODEL_a26c194db04149848027edde98c72cc7",
       "max": 805.0,
       "min": 0.0,
       "orientation": "horizontal",
       "style": "IPY_MODEL_93aef4a4e6154793bd8cef32d9ee2782",
       "value": 805.0
      }
     },
     "fa53cd07c08943c091291e9b21950e5b": {
      "model_module": "@jupyter-widgets/base",
      "model_module_version": "1.2.0",
      "model_name": "LayoutModel",
      "state": {
       "_model_module": "@jupyter-widgets/base",
       "_model_module_version": "1.2.0",
       "_model_name": "LayoutModel",
       "_view_count": null,
       "_view_module": "@jupyter-widgets/base",
       "_view_module_version": "1.2.0",
       "_view_name": "LayoutView",
       "align_content": null,
       "align_items": null,
       "align_self": null,
       "border": null,
       "bottom": null,
       "display": null,
       "flex": null,
       "flex_flow": null,
       "grid_area": null,
       "grid_auto_columns": null,
       "grid_auto_flow": null,
       "grid_auto_rows": null,
       "grid_column": null,
       "grid_gap": null,
       "grid_row": null,
       "grid_template_areas": null,
       "grid_template_columns": null,
       "grid_template_rows": null,
       "height": null,
       "justify_content": null,
       "justify_items": null,
       "left": null,
       "margin": null,
       "max_height": null,
       "max_width": null,
       "min_height": null,
       "min_width": null,
       "object_fit": null,
       "object_position": null,
       "order": null,
       "overflow": null,
       "overflow_x": null,
       "overflow_y": null,
       "padding": null,
       "right": null,
       "top": null,
       "visibility": null,
       "width": null
      }
     },
     "faf04b09821349e1b255e2c3ba9c8bf8": {
      "model_module": "@jupyter-widgets/base",
      "model_module_version": "1.2.0",
      "model_name": "LayoutModel",
      "state": {
       "_model_module": "@jupyter-widgets/base",
       "_model_module_version": "1.2.0",
       "_model_name": "LayoutModel",
       "_view_count": null,
       "_view_module": "@jupyter-widgets/base",
       "_view_module_version": "1.2.0",
       "_view_name": "LayoutView",
       "align_content": null,
       "align_items": null,
       "align_self": null,
       "border": null,
       "bottom": null,
       "display": null,
       "flex": null,
       "flex_flow": null,
       "grid_area": null,
       "grid_auto_columns": null,
       "grid_auto_flow": null,
       "grid_auto_rows": null,
       "grid_column": null,
       "grid_gap": null,
       "grid_row": null,
       "grid_template_areas": null,
       "grid_template_columns": null,
       "grid_template_rows": null,
       "height": null,
       "justify_content": null,
       "justify_items": null,
       "left": null,
       "margin": null,
       "max_height": null,
       "max_width": null,
       "min_height": null,
       "min_width": null,
       "object_fit": null,
       "object_position": null,
       "order": null,
       "overflow": null,
       "overflow_x": null,
       "overflow_y": null,
       "padding": null,
       "right": null,
       "top": null,
       "visibility": null,
       "width": null
      }
     },
     "fb8dc13ac1da493d9566943bb554cb52": {
      "model_module": "@jupyter-widgets/base",
      "model_module_version": "1.2.0",
      "model_name": "LayoutModel",
      "state": {
       "_model_module": "@jupyter-widgets/base",
       "_model_module_version": "1.2.0",
       "_model_name": "LayoutModel",
       "_view_count": null,
       "_view_module": "@jupyter-widgets/base",
       "_view_module_version": "1.2.0",
       "_view_name": "LayoutView",
       "align_content": null,
       "align_items": null,
       "align_self": null,
       "border": null,
       "bottom": null,
       "display": null,
       "flex": null,
       "flex_flow": null,
       "grid_area": null,
       "grid_auto_columns": null,
       "grid_auto_flow": null,
       "grid_auto_rows": null,
       "grid_column": null,
       "grid_gap": null,
       "grid_row": null,
       "grid_template_areas": null,
       "grid_template_columns": null,
       "grid_template_rows": null,
       "height": null,
       "justify_content": null,
       "justify_items": null,
       "left": null,
       "margin": null,
       "max_height": null,
       "max_width": null,
       "min_height": null,
       "min_width": null,
       "object_fit": null,
       "object_position": null,
       "order": null,
       "overflow": null,
       "overflow_x": null,
       "overflow_y": null,
       "padding": null,
       "right": null,
       "top": null,
       "visibility": null,
       "width": null
      }
     },
     "fbbf397a76134923b2908032a25633c4": {
      "model_module": "@jupyter-widgets/controls",
      "model_module_version": "1.5.0",
      "model_name": "DescriptionStyleModel",
      "state": {
       "_model_module": "@jupyter-widgets/controls",
       "_model_module_version": "1.5.0",
       "_model_name": "DescriptionStyleModel",
       "_view_count": null,
       "_view_module": "@jupyter-widgets/base",
       "_view_module_version": "1.2.0",
       "_view_name": "StyleView",
       "description_width": ""
      }
     },
     "fc3a195fb7fb4c118cd964504fa6bfdf": {
      "model_module": "@jupyter-widgets/controls",
      "model_module_version": "1.5.0",
      "model_name": "DescriptionStyleModel",
      "state": {
       "_model_module": "@jupyter-widgets/controls",
       "_model_module_version": "1.5.0",
       "_model_name": "DescriptionStyleModel",
       "_view_count": null,
       "_view_module": "@jupyter-widgets/base",
       "_view_module_version": "1.2.0",
       "_view_name": "StyleView",
       "description_width": ""
      }
     },
     "ff10655e3b6a49f4b4f776a18fb42ce3": {
      "model_module": "@jupyter-widgets/controls",
      "model_module_version": "1.5.0",
      "model_name": "DescriptionStyleModel",
      "state": {
       "_model_module": "@jupyter-widgets/controls",
       "_model_module_version": "1.5.0",
       "_model_name": "DescriptionStyleModel",
       "_view_count": null,
       "_view_module": "@jupyter-widgets/base",
       "_view_module_version": "1.2.0",
       "_view_name": "StyleView",
       "description_width": ""
      }
     },
     "ff15c232263f470e81dba693a3f40068": {
      "model_module": "@jupyter-widgets/base",
      "model_module_version": "1.2.0",
      "model_name": "LayoutModel",
      "state": {
       "_model_module": "@jupyter-widgets/base",
       "_model_module_version": "1.2.0",
       "_model_name": "LayoutModel",
       "_view_count": null,
       "_view_module": "@jupyter-widgets/base",
       "_view_module_version": "1.2.0",
       "_view_name": "LayoutView",
       "align_content": null,
       "align_items": null,
       "align_self": null,
       "border": null,
       "bottom": null,
       "display": null,
       "flex": null,
       "flex_flow": null,
       "grid_area": null,
       "grid_auto_columns": null,
       "grid_auto_flow": null,
       "grid_auto_rows": null,
       "grid_column": null,
       "grid_gap": null,
       "grid_row": null,
       "grid_template_areas": null,
       "grid_template_columns": null,
       "grid_template_rows": null,
       "height": null,
       "justify_content": null,
       "justify_items": null,
       "left": null,
       "margin": null,
       "max_height": null,
       "max_width": null,
       "min_height": null,
       "min_width": null,
       "object_fit": null,
       "object_position": null,
       "order": null,
       "overflow": null,
       "overflow_x": null,
       "overflow_y": null,
       "padding": null,
       "right": null,
       "top": null,
       "visibility": null,
       "width": null
      }
     },
     "ff4fe4feabdf4cc88587b325c7543a9f": {
      "model_module": "@jupyter-widgets/controls",
      "model_module_version": "1.5.0",
      "model_name": "ProgressStyleModel",
      "state": {
       "_model_module": "@jupyter-widgets/controls",
       "_model_module_version": "1.5.0",
       "_model_name": "ProgressStyleModel",
       "_view_count": null,
       "_view_module": "@jupyter-widgets/base",
       "_view_module_version": "1.2.0",
       "_view_name": "StyleView",
       "bar_color": null,
       "description_width": ""
      }
     }
    },
    "version_major": 2,
    "version_minor": 0
   }
  }
 },
 "nbformat": 4,
 "nbformat_minor": 5
}
